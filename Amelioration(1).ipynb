{
 "cells": [
  {
   "cell_type": "code",
   "execution_count": 90,
   "id": "17c51b66",
   "metadata": {},
   "outputs": [],
   "source": [
    "import pandas as pd\n",
    "import numpy as np\n",
    "import matplotlib.pyplot as plt\n",
    "from sklearn.preprocessing import StandardScaler\n",
    "from sklearn.decomposition import PCA\n",
    "from sklearn.linear_model import LogisticRegression\n",
    "from sklearn.model_selection import GridSearchCV\n",
    "from sklearn.model_selection import train_test_split\n",
    "from sklearn.pipeline import Pipeline\n",
    "from sklearn.metrics import classification_report\n",
    "from sklearn.neighbors import KNeighborsClassifier\n",
    "from sklearn.svm import SVC\n",
    "from sklearn.ensemble import RandomForestClassifier\n",
    "from sklearn.tree import DecisionTreeClassifier"
   ]
  },
  {
   "cell_type": "markdown",
   "id": "34d850a6",
   "metadata": {},
   "source": [
    "### importation de données"
   ]
  },
  {
   "cell_type": "code",
   "execution_count": 5,
   "id": "bb16dd90",
   "metadata": {},
   "outputs": [
    {
     "data": {
      "text/html": [
       "<div>\n",
       "<style scoped>\n",
       "    .dataframe tbody tr th:only-of-type {\n",
       "        vertical-align: middle;\n",
       "    }\n",
       "\n",
       "    .dataframe tbody tr th {\n",
       "        vertical-align: top;\n",
       "    }\n",
       "\n",
       "    .dataframe thead th {\n",
       "        text-align: right;\n",
       "    }\n",
       "</style>\n",
       "<table border=\"1\" class=\"dataframe\">\n",
       "  <thead>\n",
       "    <tr style=\"text-align: right;\">\n",
       "      <th></th>\n",
       "      <th>age</th>\n",
       "      <th>bp</th>\n",
       "      <th>sg</th>\n",
       "      <th>al</th>\n",
       "      <th>su</th>\n",
       "      <th>rbc</th>\n",
       "      <th>pc</th>\n",
       "      <th>pcc</th>\n",
       "      <th>ba</th>\n",
       "      <th>bgr</th>\n",
       "      <th>...</th>\n",
       "      <th>pcv</th>\n",
       "      <th>wbcc</th>\n",
       "      <th>rbcc</th>\n",
       "      <th>htn</th>\n",
       "      <th>dm</th>\n",
       "      <th>cad</th>\n",
       "      <th>appet</th>\n",
       "      <th>pe</th>\n",
       "      <th>ane</th>\n",
       "      <th>class</th>\n",
       "    </tr>\n",
       "  </thead>\n",
       "  <tbody>\n",
       "    <tr>\n",
       "      <th>0</th>\n",
       "      <td>48.000000</td>\n",
       "      <td>80.000000</td>\n",
       "      <td>1.020000</td>\n",
       "      <td>1.0</td>\n",
       "      <td>0.000000</td>\n",
       "      <td>1</td>\n",
       "      <td>1</td>\n",
       "      <td>0</td>\n",
       "      <td>0</td>\n",
       "      <td>121.000000</td>\n",
       "      <td>...</td>\n",
       "      <td>44.0</td>\n",
       "      <td>7800.0</td>\n",
       "      <td>5.200000</td>\n",
       "      <td>1</td>\n",
       "      <td>1</td>\n",
       "      <td>0</td>\n",
       "      <td>0</td>\n",
       "      <td>0</td>\n",
       "      <td>0</td>\n",
       "      <td>0</td>\n",
       "    </tr>\n",
       "    <tr>\n",
       "      <th>1</th>\n",
       "      <td>52.659873</td>\n",
       "      <td>74.361618</td>\n",
       "      <td>1.020000</td>\n",
       "      <td>4.0</td>\n",
       "      <td>0.000000</td>\n",
       "      <td>1</td>\n",
       "      <td>1</td>\n",
       "      <td>0</td>\n",
       "      <td>0</td>\n",
       "      <td>148.036517</td>\n",
       "      <td>...</td>\n",
       "      <td>38.0</td>\n",
       "      <td>6000.0</td>\n",
       "      <td>4.707435</td>\n",
       "      <td>0</td>\n",
       "      <td>0</td>\n",
       "      <td>0</td>\n",
       "      <td>0</td>\n",
       "      <td>0</td>\n",
       "      <td>0</td>\n",
       "      <td>0</td>\n",
       "    </tr>\n",
       "    <tr>\n",
       "      <th>2</th>\n",
       "      <td>62.000000</td>\n",
       "      <td>80.000000</td>\n",
       "      <td>1.010000</td>\n",
       "      <td>2.0</td>\n",
       "      <td>0.099594</td>\n",
       "      <td>1</td>\n",
       "      <td>1</td>\n",
       "      <td>0</td>\n",
       "      <td>0</td>\n",
       "      <td>124.336042</td>\n",
       "      <td>...</td>\n",
       "      <td>31.0</td>\n",
       "      <td>7500.0</td>\n",
       "      <td>4.707435</td>\n",
       "      <td>0</td>\n",
       "      <td>1</td>\n",
       "      <td>0</td>\n",
       "      <td>1</td>\n",
       "      <td>0</td>\n",
       "      <td>1</td>\n",
       "      <td>0</td>\n",
       "    </tr>\n",
       "    <tr>\n",
       "      <th>3</th>\n",
       "      <td>48.000000</td>\n",
       "      <td>70.000000</td>\n",
       "      <td>1.017629</td>\n",
       "      <td>4.0</td>\n",
       "      <td>0.000000</td>\n",
       "      <td>1</td>\n",
       "      <td>0</td>\n",
       "      <td>1</td>\n",
       "      <td>0</td>\n",
       "      <td>117.000000</td>\n",
       "      <td>...</td>\n",
       "      <td>32.0</td>\n",
       "      <td>6700.0</td>\n",
       "      <td>3.900000</td>\n",
       "      <td>1</td>\n",
       "      <td>0</td>\n",
       "      <td>0</td>\n",
       "      <td>1</td>\n",
       "      <td>1</td>\n",
       "      <td>1</td>\n",
       "      <td>0</td>\n",
       "    </tr>\n",
       "    <tr>\n",
       "      <th>4</th>\n",
       "      <td>51.000000</td>\n",
       "      <td>80.000000</td>\n",
       "      <td>1.010000</td>\n",
       "      <td>2.0</td>\n",
       "      <td>0.000000</td>\n",
       "      <td>1</td>\n",
       "      <td>1</td>\n",
       "      <td>0</td>\n",
       "      <td>0</td>\n",
       "      <td>106.000000</td>\n",
       "      <td>...</td>\n",
       "      <td>35.0</td>\n",
       "      <td>7300.0</td>\n",
       "      <td>4.600000</td>\n",
       "      <td>0</td>\n",
       "      <td>0</td>\n",
       "      <td>0</td>\n",
       "      <td>0</td>\n",
       "      <td>0</td>\n",
       "      <td>0</td>\n",
       "      <td>0</td>\n",
       "    </tr>\n",
       "  </tbody>\n",
       "</table>\n",
       "<p>5 rows × 25 columns</p>\n",
       "</div>"
      ],
      "text/plain": [
       "         age         bp        sg   al        su  rbc  pc  pcc  ba  \\\n",
       "0  48.000000  80.000000  1.020000  1.0  0.000000    1   1    0   0   \n",
       "1  52.659873  74.361618  1.020000  4.0  0.000000    1   1    0   0   \n",
       "2  62.000000  80.000000  1.010000  2.0  0.099594    1   1    0   0   \n",
       "3  48.000000  70.000000  1.017629  4.0  0.000000    1   0    1   0   \n",
       "4  51.000000  80.000000  1.010000  2.0  0.000000    1   1    0   0   \n",
       "\n",
       "          bgr  ...   pcv    wbcc      rbcc  htn  dm  cad  appet  pe  ane  \\\n",
       "0  121.000000  ...  44.0  7800.0  5.200000    1   1    0      0   0    0   \n",
       "1  148.036517  ...  38.0  6000.0  4.707435    0   0    0      0   0    0   \n",
       "2  124.336042  ...  31.0  7500.0  4.707435    0   1    0      1   0    1   \n",
       "3  117.000000  ...  32.0  6700.0  3.900000    1   0    0      1   1    1   \n",
       "4  106.000000  ...  35.0  7300.0  4.600000    0   0    0      0   0    0   \n",
       "\n",
       "   class  \n",
       "0      0  \n",
       "1      0  \n",
       "2      0  \n",
       "3      0  \n",
       "4      0  \n",
       "\n",
       "[5 rows x 25 columns]"
      ]
     },
     "execution_count": 5,
     "metadata": {},
     "output_type": "execute_result"
    }
   ],
   "source": [
    "data = pd.read_csv(\"processed-cleaned-data.csv\", index_col=0)\n",
    "data.head()"
   ]
  },
  {
   "cell_type": "markdown",
   "id": "31d79c7d",
   "metadata": {},
   "source": [
    "## Reduction de dimension"
   ]
  },
  {
   "cell_type": "markdown",
   "id": "98049956",
   "metadata": {},
   "source": [
    "#### normalisation des données"
   ]
  },
  {
   "cell_type": "code",
   "execution_count": 42,
   "id": "28e26975",
   "metadata": {},
   "outputs": [],
   "source": [
    "sc = StandardScaler()\n",
    "X = sc.fit_transform(X)"
   ]
  },
  {
   "cell_type": "markdown",
   "id": "2d526d17",
   "metadata": {},
   "source": [
    "#### réduction de la dimensionnalité à l'aide de l'ACP"
   ]
  },
  {
   "cell_type": "code",
   "execution_count": 43,
   "id": "4f1013bc",
   "metadata": {},
   "outputs": [],
   "source": [
    "pca = PCA(svd_solver=\"full\")\n",
    "pc = pca.fit_transform(X)"
   ]
  },
  {
   "cell_type": "markdown",
   "id": "9c19d378",
   "metadata": {},
   "source": [
    "#####  explained_variance_ratio_ représente le pourcentage de variance expliquée par chacune des composantes principales"
   ]
  },
  {
   "cell_type": "code",
   "execution_count": 44,
   "id": "eeb1d4aa",
   "metadata": {},
   "outputs": [
    {
     "data": {
      "text/plain": [
       "array([28.58607888,  6.87985239,  5.27220675,  4.87850842,  4.79365143,\n",
       "        4.42803579,  4.06737064,  3.98370969,  3.7794601 ,  3.68642013,\n",
       "        3.35424964,  3.23342901,  2.84752856,  2.818274  ,  2.69794693,\n",
       "        2.52144064,  2.19950572,  2.0550645 ,  1.69329577,  1.49188225,\n",
       "        1.43865192,  1.35707758,  1.22742894,  0.70893032])"
      ]
     },
     "execution_count": 44,
     "metadata": {},
     "output_type": "execute_result"
    }
   ],
   "source": [
    "pca.explained_variance_ratio_*100"
   ]
  },
  {
   "cell_type": "markdown",
   "id": "5525ad47",
   "metadata": {},
   "source": [
    "#### On voit clairement que :\n",
    "#### la première composante principale (PC1) représente 28,58 % de la variance totale (information).\n",
    "#### le reste des composantes principales représente 71,42 % de la variance totale.\n",
    "#### la question est maintenant le nombre de composants principaux à retenir ?\n",
    "#### Selon la règle de Kaiser, il est recommandé de conserver toutes les composantes dont les valeurs propres sont supérieures à 1.\n",
    "#### on peut aussi utiliser le critère de coude\n",
    "#### mais comme il s'agit d'un problème de classification alors le nombre de composantes principales à retenir doit être en fonction de la performances de la classification."
   ]
  },
  {
   "cell_type": "markdown",
   "id": "e859b0e9",
   "metadata": {},
   "source": [
    "# Classification"
   ]
  },
  {
   "cell_type": "markdown",
   "id": "d837b798",
   "metadata": {},
   "source": [
    "## Logistic Regression"
   ]
  },
  {
   "cell_type": "code",
   "execution_count": 57,
   "id": "3f9df8a6",
   "metadata": {},
   "outputs": [
    {
     "name": "stdout",
     "output_type": "stream",
     "text": [
      "{'logistic__C': 10.0, 'pca__n_components': 18}\n"
     ]
    }
   ],
   "source": [
    "# Define a pipeline Gridsearch to search for the best combination of PCA n_components\n",
    "# and the logistic regression classifier regularization C.\n",
    "\n",
    "pca = PCA()\n",
    "logistic_regression = LogisticRegression(max_iter=10000)\n",
    "pipe = Pipeline(steps=[(\"pca\", pca), (\"logistic\", logistic_regression)])\n",
    "\n",
    "hyperparameters = {\n",
    "    \"pca__n_components\": list(range(1,25)),\n",
    "    \"logistic__C\": np.logspace(-3, 3, 7)\n",
    "}\n",
    "cv = GridSearchCV(pipe, hyperparameters, cv=10, n_jobs=2)\n",
    "cv.fit(X, y)\n",
    "print(cv.best_params_)"
   ]
  },
  {
   "cell_type": "code",
   "execution_count": 63,
   "id": "d3292d85",
   "metadata": {},
   "outputs": [
    {
     "data": {
      "text/plain": [
       "92.0827332249762"
      ]
     },
     "execution_count": 63,
     "metadata": {},
     "output_type": "execute_result"
    }
   ],
   "source": [
    "pca = PCA(n_components=18)\n",
    "pc = pca.fit_transform(X)"
   ]
  },
  {
   "cell_type": "code",
   "execution_count": 66,
   "id": "baa61a65",
   "metadata": {},
   "outputs": [],
   "source": [
    "X_train, X_test, y_train, y_test = train_test_split(pc, y, test_size=0.3, random_state=1024)"
   ]
  },
  {
   "cell_type": "code",
   "execution_count": 67,
   "id": "8f0fb92d",
   "metadata": {},
   "outputs": [
    {
     "data": {
      "text/plain": [
       "LogisticRegression(C=10.0)"
      ]
     },
     "execution_count": 67,
     "metadata": {},
     "output_type": "execute_result"
    }
   ],
   "source": [
    "logistic_regression = LogisticRegression(C = 10.0)\n",
    "logistic_regression.fit(X_train, y_train)"
   ]
  },
  {
   "cell_type": "code",
   "execution_count": 69,
   "id": "5b32d61a",
   "metadata": {},
   "outputs": [
    {
     "name": "stdout",
     "output_type": "stream",
     "text": [
      "              precision    recall  f1-score   support\n",
      "\n",
      "           0       1.00      1.00      1.00        74\n",
      "           1       1.00      1.00      1.00        46\n",
      "\n",
      "    accuracy                           1.00       120\n",
      "   macro avg       1.00      1.00      1.00       120\n",
      "weighted avg       1.00      1.00      1.00       120\n",
      "\n"
     ]
    }
   ],
   "source": [
    "y_pred_lr = logistic_regression.predict(X_test)\n",
    "print(classification_report(y_test, y_pred_lr))"
   ]
  },
  {
   "cell_type": "markdown",
   "id": "d244b9bd",
   "metadata": {},
   "source": [
    "## KNN"
   ]
  },
  {
   "cell_type": "code",
   "execution_count": 82,
   "id": "fb00c049",
   "metadata": {},
   "outputs": [
    {
     "name": "stdout",
     "output_type": "stream",
     "text": [
      "{'knn__leaf_size': 1, 'knn__n_neighbors': 6, 'knn__p': 1, 'pca__n_components': 5}\n"
     ]
    }
   ],
   "source": [
    "pca = PCA()\n",
    "knn = KNeighborsClassifier()\n",
    "pipe = Pipeline(steps=[(\"pca\", pca), (\"knn\", knn)])\n",
    "\n",
    "hyperparameters = {\n",
    "    \"pca__n_components\": list(range(1,25)),\n",
    "    'knn__leaf_size' : list(range(1,30)),\n",
    "    'knn__n_neighbors' : list(range(1,25)),\n",
    "    'knn__p' : [1,2]\n",
    "}\n",
    "cv = GridSearchCV(pipe, hyperparameters, cv=10, n_jobs=-1)\n",
    "cv.fit(X, y)\n",
    "print(cv.best_params_)"
   ]
  },
  {
   "cell_type": "code",
   "execution_count": 83,
   "id": "ee42a41e",
   "metadata": {},
   "outputs": [],
   "source": [
    "pca = PCA(n_components=5)\n",
    "pc = pca.fit_transform(X)"
   ]
  },
  {
   "cell_type": "code",
   "execution_count": 84,
   "id": "753ee57e",
   "metadata": {},
   "outputs": [],
   "source": [
    "X_train, X_test, y_train, y_test = train_test_split(pc, y, test_size=0.3, random_state=1024)"
   ]
  },
  {
   "cell_type": "code",
   "execution_count": 85,
   "id": "a453fe37",
   "metadata": {},
   "outputs": [
    {
     "data": {
      "text/plain": [
       "KNeighborsClassifier(leaf_size=1, n_neighbors=6, p=1)"
      ]
     },
     "execution_count": 85,
     "metadata": {},
     "output_type": "execute_result"
    }
   ],
   "source": [
    "knn = KNeighborsClassifier(leaf_size=1, p=1, n_neighbors=6)\n",
    "knn.fit(X_train, y_train)"
   ]
  },
  {
   "cell_type": "code",
   "execution_count": 86,
   "id": "b2edbfe3",
   "metadata": {},
   "outputs": [
    {
     "name": "stdout",
     "output_type": "stream",
     "text": [
      "              precision    recall  f1-score   support\n",
      "\n",
      "           0       1.00      0.99      0.99        74\n",
      "           1       0.98      1.00      0.99        46\n",
      "\n",
      "    accuracy                           0.99       120\n",
      "   macro avg       0.99      0.99      0.99       120\n",
      "weighted avg       0.99      0.99      0.99       120\n",
      "\n"
     ]
    }
   ],
   "source": [
    "y_pred_knn = knn.predict(X_test)\n",
    "print(classification_report(y_test, y_pred_knn))"
   ]
  },
  {
   "cell_type": "markdown",
   "id": "25ba6a67",
   "metadata": {},
   "source": [
    "## SVM"
   ]
  },
  {
   "cell_type": "code",
   "execution_count": 78,
   "id": "5e3c0d44",
   "metadata": {},
   "outputs": [
    {
     "name": "stdout",
     "output_type": "stream",
     "text": [
      "{'pca__n_components': 19, 'svm__C': 10, 'svm__gamma': 0.01, 'svm__kernel': 'sigmoid'}\n"
     ]
    }
   ],
   "source": [
    "pca = PCA()\n",
    "svm = SVC()\n",
    "pipe = Pipeline(steps=[(\"pca\", pca), (\"svm\", svm)])\n",
    "\n",
    "hyperparameters = {\n",
    "    \"pca__n_components\": list(range(1,25)),\n",
    "    'svm__C': [1, 10, 100, 1000],\n",
    "    'svm__gamma': [1, 0.1, 0.01, 0.001, 0.0001], \n",
    "    'svm__kernel': ['linear', 'poly', 'sigmoid', 'rbf']\n",
    "}\n",
    "\n",
    "cv = GridSearchCV(pipe, hyperparameters, cv=10, n_jobs=2)\n",
    "cv.fit(X, y)\n",
    "print(cv.best_params_)"
   ]
  },
  {
   "cell_type": "code",
   "execution_count": 79,
   "id": "678241b3",
   "metadata": {},
   "outputs": [],
   "source": [
    "pca = PCA(n_components=19)\n",
    "pc = pca.fit_transform(X)\n",
    "X_train, X_test, y_train, y_test = train_test_split(pc, y, test_size=0.3, random_state=1024)"
   ]
  },
  {
   "cell_type": "code",
   "execution_count": 80,
   "id": "9c6ab88a",
   "metadata": {},
   "outputs": [
    {
     "data": {
      "text/plain": [
       "SVC(C=10, gamma=0.01, kernel='sigmoid')"
      ]
     },
     "execution_count": 80,
     "metadata": {},
     "output_type": "execute_result"
    }
   ],
   "source": [
    "svm = SVC(C=10, gamma=0.01, kernel='sigmoid')\n",
    "svm.fit(X_train, y_train)"
   ]
  },
  {
   "cell_type": "code",
   "execution_count": 81,
   "id": "91052d6a",
   "metadata": {},
   "outputs": [
    {
     "name": "stdout",
     "output_type": "stream",
     "text": [
      "              precision    recall  f1-score   support\n",
      "\n",
      "           0       1.00      0.99      0.99        74\n",
      "           1       0.98      1.00      0.99        46\n",
      "\n",
      "    accuracy                           0.99       120\n",
      "   macro avg       0.99      0.99      0.99       120\n",
      "weighted avg       0.99      0.99      0.99       120\n",
      "\n"
     ]
    }
   ],
   "source": [
    "y_pred_svm = svm.predict(X_test)\n",
    "print(classification_report(y_test, y_pred_svm))"
   ]
  },
  {
   "cell_type": "markdown",
   "id": "29a1a916",
   "metadata": {},
   "source": [
    "## Decision Tree"
   ]
  },
  {
   "cell_type": "code",
   "execution_count": 91,
   "id": "d0d015c4",
   "metadata": {},
   "outputs": [
    {
     "name": "stdout",
     "output_type": "stream",
     "text": [
      "{'dct__ccp_alpha': 0.001, 'dct__criterion': 'entropy', 'dct__max_depth': 5, 'dct__max_features': 'sqrt', 'pca__n_components': 2}\n"
     ]
    }
   ],
   "source": [
    "pca = PCA()\n",
    "decision_tree = DecisionTreeClassifier()\n",
    "pipe = Pipeline(steps=[(\"pca\", pca), (\"dct\", decision_tree)])\n",
    "\n",
    "hyperparameters = {\n",
    "    \"pca__n_components\": list(range(1,25)),\n",
    "    'dct__max_features': ['sqrt', 'log2'],\n",
    "    'dct__ccp_alpha': [0.1, 0.01, 0.001],\n",
    "    'dct__max_depth' : [5, 6, 7, 8, 9],\n",
    "    'dct__criterion' :['gini', 'entropy']\n",
    "}\n",
    "\n",
    "cv = GridSearchCV(pipe, hyperparameters, cv=10, n_jobs=-1)\n",
    "cv.fit(X, y)\n",
    "print(cv.best_params_)"
   ]
  },
  {
   "cell_type": "code",
   "execution_count": 92,
   "id": "f4254fe6",
   "metadata": {},
   "outputs": [],
   "source": [
    "pca = PCA(n_components=2)\n",
    "pc = pca.fit_transform(X)"
   ]
  },
  {
   "cell_type": "code",
   "execution_count": 93,
   "id": "4416d04a",
   "metadata": {},
   "outputs": [],
   "source": [
    "X_train, X_test, y_train, y_test = train_test_split(pc, y, test_size=0.3, random_state=1024)"
   ]
  },
  {
   "cell_type": "code",
   "execution_count": 94,
   "id": "800933cb",
   "metadata": {},
   "outputs": [
    {
     "data": {
      "text/plain": [
       "DecisionTreeClassifier(ccp_alpha=0.001, criterion='entropy', max_depth=5,\n",
       "                       max_features='sqrt')"
      ]
     },
     "execution_count": 94,
     "metadata": {},
     "output_type": "execute_result"
    }
   ],
   "source": [
    "decision_tree = DecisionTreeClassifier(ccp_alpha=0.001, max_depth=5, max_features='sqrt', criterion=\"entropy\")\n",
    "decision_tree.fit(X_train, y_train)"
   ]
  },
  {
   "cell_type": "code",
   "execution_count": 95,
   "id": "7b98fd03",
   "metadata": {},
   "outputs": [
    {
     "name": "stdout",
     "output_type": "stream",
     "text": [
      "              precision    recall  f1-score   support\n",
      "\n",
      "           0       0.97      0.97      0.97        74\n",
      "           1       0.96      0.96      0.96        46\n",
      "\n",
      "    accuracy                           0.97       120\n",
      "   macro avg       0.96      0.96      0.96       120\n",
      "weighted avg       0.97      0.97      0.97       120\n",
      "\n"
     ]
    }
   ],
   "source": [
    "y_pred_dt = decision_tree.predict(X_test)\n",
    "print(classification_report(y_pred_dt, y_test))"
   ]
  },
  {
   "cell_type": "markdown",
   "id": "b48e210d",
   "metadata": {},
   "source": [
    "#### Nous voyons clairement que la réduction de la dimensionnalité à l'aide de l'ACP donne vraiment de très bons résultats pour différents algorithmes de classification atteignant 100 % de précision dans la régression logistique."
   ]
  }
 ],
 "metadata": {
  "kernelspec": {
   "display_name": "Python 3 (ipykernel)",
   "language": "python",
   "name": "python3"
  },
  "language_info": {
   "codemirror_mode": {
    "name": "ipython",
    "version": 3
   },
   "file_extension": ".py",
   "mimetype": "text/x-python",
   "name": "python",
   "nbconvert_exporter": "python",
   "pygments_lexer": "ipython3",
   "version": "3.9.12"
  }
 },
 "nbformat": 4,
 "nbformat_minor": 5
}
