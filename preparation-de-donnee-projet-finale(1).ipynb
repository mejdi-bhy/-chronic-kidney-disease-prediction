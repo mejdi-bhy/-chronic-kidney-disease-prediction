{
 "cells": [
  {
   "cell_type": "markdown",
   "id": "bfaa0afa",
   "metadata": {
    "id": "bfaa0afa"
   },
   "source": [
    "# # Préparation des données # #"
   ]
  },
  {
   "cell_type": "markdown",
   "id": "s9RCavoqtLgv",
   "metadata": {
    "id": "s9RCavoqtLgv"
   },
   "source": [
    "\n",
    "On a commencé tout d'abord par apporté les deux bibliothéques adéquates. \n",
    "Ensuite on a converti le fichier \"chronic kidney disease.arff\" en fichier “csv result-chronic kidney disease.csv”.\n",
    "Et par la suite, on a importé le fichier dans notre notebook.\n"
   ]
  },
  {
   "cell_type": "code",
   "execution_count": 11,
   "id": "6b712cb8",
   "metadata": {
    "id": "6b712cb8"
   },
   "outputs": [],
   "source": [
    "import numpy as np\n",
    "import pandas as pd\n",
    "data=pd.read_csv('csv_result-chronic_kidney_disease.csv',on_bad_lines='skip')"
   ]
  },
  {
   "cell_type": "code",
   "execution_count": 12,
   "id": "c97fcb7f",
   "metadata": {
    "id": "c97fcb7f",
    "outputId": "85accbcc-4914-4580-8ab7-f634cd026fdb"
   },
   "outputs": [
    {
     "name": "stdout",
     "output_type": "stream",
     "text": [
      "<class 'pandas.core.frame.DataFrame'>\n",
      "RangeIndex: 397 entries, 0 to 396\n",
      "Data columns (total 26 columns):\n",
      " #   Column  Non-Null Count  Dtype \n",
      "---  ------  --------------  ----- \n",
      " 0   id      397 non-null    int64 \n",
      " 1   age     397 non-null    object\n",
      " 2   bp      397 non-null    object\n",
      " 3   sg      397 non-null    object\n",
      " 4   al      397 non-null    object\n",
      " 5   su      397 non-null    object\n",
      " 6   rbc     397 non-null    object\n",
      " 7   pc      397 non-null    object\n",
      " 8   pcc     397 non-null    object\n",
      " 9   ba      397 non-null    object\n",
      " 10  bgr     397 non-null    object\n",
      " 11  bu      397 non-null    object\n",
      " 12  sc      397 non-null    object\n",
      " 13  sod     397 non-null    object\n",
      " 14  pot     397 non-null    object\n",
      " 15  hemo    397 non-null    object\n",
      " 16  pcv     397 non-null    object\n",
      " 17  wbcc    397 non-null    object\n",
      " 18  rbcc    397 non-null    object\n",
      " 19  htn     397 non-null    object\n",
      " 20  dm      397 non-null    object\n",
      " 21  cad     397 non-null    object\n",
      " 22  appet   397 non-null    object\n",
      " 23  pe      397 non-null    object\n",
      " 24  ane     397 non-null    object\n",
      " 25  class   397 non-null    object\n",
      "dtypes: int64(1), object(25)\n",
      "memory usage: 80.8+ KB\n"
     ]
    }
   ],
   "source": [
    "data.info()"
   ]
  },
  {
   "cell_type": "markdown",
   "id": "60893bdd",
   "metadata": {
    "id": "60893bdd"
   },
   "source": [
    " # # Transformation des données # #"
   ]
  },
  {
   "cell_type": "markdown",
   "id": "C-t20vSZt3m5",
   "metadata": {
    "id": "C-t20vSZt3m5"
   },
   "source": [
    "Afin d’assurer le bon déroulement de la préparation de données , on a divisé notre dataset en 2 catégories : numériques et objet .\n",
    "Commençant en premier lieu par les donnees numériques.\n"
   ]
  },
  {
   "cell_type": "code",
   "execution_count": 13,
   "id": "aeab7ccb",
   "metadata": {
    "id": "aeab7ccb"
   },
   "outputs": [],
   "source": [
    "numeric = ['age','bp','sg','al','su','bgr','bu','sc','sod','pot','hemo','pcv','wbcc','rbcc']\n",
    "for item in numeric:\n",
    "    data[item] = pd.to_numeric(data[item], errors='coerce')"
   ]
  },
  {
   "cell_type": "code",
   "execution_count": 14,
   "id": "cd307371",
   "metadata": {
    "id": "cd307371",
    "outputId": "2acfabb8-ef22-406c-f8f4-1af6678b37c7"
   },
   "outputs": [
    {
     "name": "stdout",
     "output_type": "stream",
     "text": [
      "<class 'pandas.core.frame.DataFrame'>\n",
      "RangeIndex: 397 entries, 0 to 396\n",
      "Data columns (total 26 columns):\n",
      " #   Column  Non-Null Count  Dtype  \n",
      "---  ------  --------------  -----  \n",
      " 0   id      397 non-null    int64  \n",
      " 1   age     388 non-null    float64\n",
      " 2   bp      385 non-null    float64\n",
      " 3   sg      350 non-null    float64\n",
      " 4   al      351 non-null    float64\n",
      " 5   su      348 non-null    float64\n",
      " 6   rbc     397 non-null    object \n",
      " 7   pc      397 non-null    object \n",
      " 8   pcc     397 non-null    object \n",
      " 9   ba      397 non-null    object \n",
      " 10  bgr     354 non-null    float64\n",
      " 11  bu      378 non-null    float64\n",
      " 12  sc      380 non-null    float64\n",
      " 13  sod     312 non-null    float64\n",
      " 14  pot     311 non-null    float64\n",
      " 15  hemo    345 non-null    float64\n",
      " 16  pcv     327 non-null    float64\n",
      " 17  wbcc    292 non-null    float64\n",
      " 18  rbcc    267 non-null    float64\n",
      " 19  htn     397 non-null    object \n",
      " 20  dm      397 non-null    object \n",
      " 21  cad     397 non-null    object \n",
      " 22  appet   397 non-null    object \n",
      " 23  pe      397 non-null    object \n",
      " 24  ane     397 non-null    object \n",
      " 25  class   397 non-null    object \n",
      "dtypes: float64(14), int64(1), object(11)\n",
      "memory usage: 80.8+ KB\n"
     ]
    }
   ],
   "source": [
    "data.info()"
   ]
  },
  {
   "cell_type": "markdown",
   "id": "PL58q_bouINE",
   "metadata": {
    "id": "PL58q_bouINE"
   },
   "source": [
    " On a remarqué que notre dataset comporte des points d'interrogation, donc on a décidé de les remplacer par des valeurs (NAN) pour qu'on puisse exploiter convenablement notre dataframe ."
   ]
  },
  {
   "cell_type": "code",
   "execution_count": 5,
   "id": "85b095fd",
   "metadata": {
    "id": "85b095fd",
    "outputId": "71b46182-244d-439a-bae1-026f6a366584"
   },
   "outputs": [
    {
     "data": {
      "text/html": [
       "<div>\n",
       "<style scoped>\n",
       "    .dataframe tbody tr th:only-of-type {\n",
       "        vertical-align: middle;\n",
       "    }\n",
       "\n",
       "    .dataframe tbody tr th {\n",
       "        vertical-align: top;\n",
       "    }\n",
       "\n",
       "    .dataframe thead th {\n",
       "        text-align: right;\n",
       "    }\n",
       "</style>\n",
       "<table border=\"1\" class=\"dataframe\">\n",
       "  <thead>\n",
       "    <tr style=\"text-align: right;\">\n",
       "      <th></th>\n",
       "      <th>id</th>\n",
       "      <th>age</th>\n",
       "      <th>bp</th>\n",
       "      <th>sg</th>\n",
       "      <th>al</th>\n",
       "      <th>su</th>\n",
       "      <th>rbc</th>\n",
       "      <th>pc</th>\n",
       "      <th>pcc</th>\n",
       "      <th>ba</th>\n",
       "      <th>...</th>\n",
       "      <th>pcv</th>\n",
       "      <th>wbcc</th>\n",
       "      <th>rbcc</th>\n",
       "      <th>htn</th>\n",
       "      <th>dm</th>\n",
       "      <th>cad</th>\n",
       "      <th>appet</th>\n",
       "      <th>pe</th>\n",
       "      <th>ane</th>\n",
       "      <th>class</th>\n",
       "    </tr>\n",
       "  </thead>\n",
       "  <tbody>\n",
       "    <tr>\n",
       "      <th>0</th>\n",
       "      <td>1</td>\n",
       "      <td>48.0</td>\n",
       "      <td>80.0</td>\n",
       "      <td>1.020</td>\n",
       "      <td>1.0</td>\n",
       "      <td>0.0</td>\n",
       "      <td>NaN</td>\n",
       "      <td>normal</td>\n",
       "      <td>notpresent</td>\n",
       "      <td>notpresent</td>\n",
       "      <td>...</td>\n",
       "      <td>44.0</td>\n",
       "      <td>7800.0</td>\n",
       "      <td>5.2</td>\n",
       "      <td>yes</td>\n",
       "      <td>yes</td>\n",
       "      <td>no</td>\n",
       "      <td>good</td>\n",
       "      <td>no</td>\n",
       "      <td>no</td>\n",
       "      <td>ckd</td>\n",
       "    </tr>\n",
       "    <tr>\n",
       "      <th>1</th>\n",
       "      <td>2</td>\n",
       "      <td>7.0</td>\n",
       "      <td>50.0</td>\n",
       "      <td>1.020</td>\n",
       "      <td>4.0</td>\n",
       "      <td>0.0</td>\n",
       "      <td>NaN</td>\n",
       "      <td>normal</td>\n",
       "      <td>notpresent</td>\n",
       "      <td>notpresent</td>\n",
       "      <td>...</td>\n",
       "      <td>38.0</td>\n",
       "      <td>6000.0</td>\n",
       "      <td>NaN</td>\n",
       "      <td>no</td>\n",
       "      <td>no</td>\n",
       "      <td>no</td>\n",
       "      <td>good</td>\n",
       "      <td>no</td>\n",
       "      <td>no</td>\n",
       "      <td>ckd</td>\n",
       "    </tr>\n",
       "    <tr>\n",
       "      <th>2</th>\n",
       "      <td>3</td>\n",
       "      <td>62.0</td>\n",
       "      <td>80.0</td>\n",
       "      <td>1.010</td>\n",
       "      <td>2.0</td>\n",
       "      <td>3.0</td>\n",
       "      <td>normal</td>\n",
       "      <td>normal</td>\n",
       "      <td>notpresent</td>\n",
       "      <td>notpresent</td>\n",
       "      <td>...</td>\n",
       "      <td>31.0</td>\n",
       "      <td>7500.0</td>\n",
       "      <td>NaN</td>\n",
       "      <td>no</td>\n",
       "      <td>yes</td>\n",
       "      <td>no</td>\n",
       "      <td>poor</td>\n",
       "      <td>no</td>\n",
       "      <td>yes</td>\n",
       "      <td>ckd</td>\n",
       "    </tr>\n",
       "    <tr>\n",
       "      <th>3</th>\n",
       "      <td>4</td>\n",
       "      <td>48.0</td>\n",
       "      <td>70.0</td>\n",
       "      <td>1.005</td>\n",
       "      <td>4.0</td>\n",
       "      <td>0.0</td>\n",
       "      <td>normal</td>\n",
       "      <td>abnormal</td>\n",
       "      <td>present</td>\n",
       "      <td>notpresent</td>\n",
       "      <td>...</td>\n",
       "      <td>32.0</td>\n",
       "      <td>6700.0</td>\n",
       "      <td>3.9</td>\n",
       "      <td>yes</td>\n",
       "      <td>no</td>\n",
       "      <td>no</td>\n",
       "      <td>poor</td>\n",
       "      <td>yes</td>\n",
       "      <td>yes</td>\n",
       "      <td>ckd</td>\n",
       "    </tr>\n",
       "    <tr>\n",
       "      <th>4</th>\n",
       "      <td>5</td>\n",
       "      <td>51.0</td>\n",
       "      <td>80.0</td>\n",
       "      <td>1.010</td>\n",
       "      <td>2.0</td>\n",
       "      <td>0.0</td>\n",
       "      <td>normal</td>\n",
       "      <td>normal</td>\n",
       "      <td>notpresent</td>\n",
       "      <td>notpresent</td>\n",
       "      <td>...</td>\n",
       "      <td>35.0</td>\n",
       "      <td>7300.0</td>\n",
       "      <td>4.6</td>\n",
       "      <td>no</td>\n",
       "      <td>no</td>\n",
       "      <td>no</td>\n",
       "      <td>good</td>\n",
       "      <td>no</td>\n",
       "      <td>no</td>\n",
       "      <td>ckd</td>\n",
       "    </tr>\n",
       "  </tbody>\n",
       "</table>\n",
       "<p>5 rows × 26 columns</p>\n",
       "</div>"
      ],
      "text/plain": [
       "   id   age    bp     sg   al   su     rbc        pc         pcc          ba  \\\n",
       "0   1  48.0  80.0  1.020  1.0  0.0     NaN    normal  notpresent  notpresent   \n",
       "1   2   7.0  50.0  1.020  4.0  0.0     NaN    normal  notpresent  notpresent   \n",
       "2   3  62.0  80.0  1.010  2.0  3.0  normal    normal  notpresent  notpresent   \n",
       "3   4  48.0  70.0  1.005  4.0  0.0  normal  abnormal     present  notpresent   \n",
       "4   5  51.0  80.0  1.010  2.0  0.0  normal    normal  notpresent  notpresent   \n",
       "\n",
       "   ...   pcv    wbcc  rbcc  htn   dm  cad  appet   pe  ane class  \n",
       "0  ...  44.0  7800.0   5.2  yes  yes   no   good   no   no   ckd  \n",
       "1  ...  38.0  6000.0   NaN   no   no   no   good   no   no   ckd  \n",
       "2  ...  31.0  7500.0   NaN   no  yes   no   poor   no  yes   ckd  \n",
       "3  ...  32.0  6700.0   3.9  yes   no   no   poor  yes  yes   ckd  \n",
       "4  ...  35.0  7300.0   4.6   no   no   no   good   no   no   ckd  \n",
       "\n",
       "[5 rows x 26 columns]"
      ]
     },
     "execution_count": 5,
     "metadata": {},
     "output_type": "execute_result"
    }
   ],
   "source": [
    "for column in data.columns:\n",
    "        data[column] = data[column].replace(['?'], np.nan)\n",
    "data.head()"
   ]
  },
  {
   "cell_type": "markdown",
   "id": "peahu2Scy4s9",
   "metadata": {
    "id": "peahu2Scy4s9"
   },
   "source": [
    "Aprés avoir changer le contenu des champs ayant des point d'interrogation , on va effectuer maintenant le traitement nécessaire pour modifier les valeurs nan par la moyenne comme indiqué dans l'article scientifique ci-dessous :\n",
    "\n",
    "\n",
    "![dd.png](data:image/png;base64,iVBORw0KGgoAAAANSUhEUgAAAU0AAAAuCAYAAACs50uEAAAAAXNSR0IArs4c6QAAAARnQU1BAACxjwv8YQUAAAAJcEhZcwAADsMAAA7DAcdvqGQAACSBSURBVHhe7Z0JvE1V+8dXSUqkiFSiDFEiiUYNpsuL0ISi+a2oXlSGTLnIrOhtMFwUuqFUhiKJjOXNUJRQKspUhmQIGfZ/fZ9zFvvuu/c+e9977jX8z+/zuZ97zj5nr73Ws571rOd51lq/c4qloRJIIIEEEgiEU6P/E0gggQQSCICE0dT4/fff1fvvv6fWrv0leuX4wt9//60WLVqklixZEr2SwN69e9VXX/1P5JJAAtmJ//fh+apVK9W0aVMVYjh06JBq27Z99JMIDh8+rL788gsZoKeccqr68ccf5NqDDz6kihcvoVJTx+hrP6pChQqp++9/UOXMeZoaOXKE2rZtm7riirKqTp266sMPP1A//LBa5c+fX513XkFdzinq3HPPVbVq1Vbnn39+9EneWLToK9WjR3dVuXJl1aVLV23kN6sJE95TTZrcpwoUKBD91rEBslm7dq1q3LiJOvXU2HNwvOq+cuX3ql27tuqaayqp5ORu0atHEbZexyPQOXRn586d6sorr1T33ddU5ct3TvTTBMDBgwfV22+PUVdddZW6+uqK0atZi0DahDH5/PNZ6q+/dkSvxAd//vmnlHussG/fPjV06BBVpcrN6tln26QzmHh4Xbp0UrNmzVSPP95ctW79jHr11dfVbbdV1YPySzGU9es3VN99952qWrWaKlGihMqb92y1a9cu1aBBQ9WixZOqWLFi+jsN1Pffr1C1a/9LynjiiebqtNNy6AF9twyKWKhc+VoxmAb//HNA98VfojDHGnv27JFBHXTuzUzd7fpy+eVXqOuvv15euyFsvY5HXHvtdapChatlUr7nnsYJg+kCHBj6mcgjuxDIaH777XJtLF4RIxNPjB2bKl7escL27dslJD/rrLOiV9Ji1Ki31E8//aRatmx95Dt4LXXr1lOVKlWS97ly5VJnnnmm/NF5I0akiBdao0ZN+Rycfvrp+i+XNpSnyfszzjhDew3N1AMPPKRefvkltXr1KrnuB7xTg4svvlh17Ng5kJea1aCdTAI5cuSIXvFHZuru1Bc/DzJsvQADMCwyck8Y5M6dW3SLCCYjiFf9cJyORzC2WrZspW688abolaxHuvAcI/LOO6liIOmw5s1byMCeNm2aVsQa6vbbG6gVK75Tn302Q3tTDdS4cePESKxfv14tX75M9e7dV8pISRmmypQpo557rq2USz6OexYvXiQeWbNmD6hu3bqKoUlKShJP7a233lQXXVREvLEJE95VkydPVv/5TytVqlRJ9dJLA2Q2KVXqMjV37hxdp0Hq7LPz6oH0joRhfNa+fQd9/0XyPDvIe82cOUMPshzqjz9+F6+RwTtkyGDt2o9Wt956m6pevYYYQwO86mbNmso1ZOAF2v3vfz+inn++g/Y4v9XtqK7Kli0b/TQCvvPoow/r9nbX3tEN0atKrVmzRhvPJrre7dVdd90TvXoUCxd+qUO0r9TmzZvUjBkztMdaX9pI+I/HRXllylwuoer06dPl+0lJtdRDDz0sBuWbb75W7747XlIBv/wSydeSLpg3b67InXBmypTJqmDBgqpv3/7y/59//lEffPC+2rBhvXh23PvYY09oWZ+tPv10uu7HxWrjxo2qXr3bVbly5XU/DBCvsU+ffuLVvfXWSC27nbrNv2mZdFRFihSR5wLKttc9f/4Cul/7e9bFDrx5u76QCmGC+u2337QBLqxmz56lI4BqOmRvL/UOUy/6uk+f3qK/tGvmzJlyb5s27XQUUkXt2PGnmjRpksiXybNTpy5avqf43oOR+fjjj9SyZd9IPz/88CPaO77cVY+LFi0arUl6IJPhw1PU6NFj9LPz6In8Td0Pn0rUQgri559/Vj16vKhuuOHG6B0R+LXp2muvFYfAPoYff/wJ9a9/1UlXZ1Io3bolq/POO09demlxrYfTJe3UsWMnefZ///uKuvnmm3Uk9b3oyIsv9lJLly5NN94uu+wyqZfTDtA/yNc5jkllOfuMujivYWtee+1VGRs1aiT56hN6MXToYHFe0GEiyauuqiARYRikm6oxmHny5FUvvJCsG1panXPOuRKCXnjhhWLMbrzxRlWtWnUZVBs2bFAdOnSU8JZQ6Y8//tAKeljCCsLSrVu3SpnkZubM+Vw988yzasyYVDGY5GhuuqmK5CIwrBUrXiOGbNu2reK91alTTw+y/dp475VBgRAQ9KWXXqo7vq0IcNCggVr5SouhZmCMHv2WPM8OPEUE2ahRExlQGPJ27drIpHDXXXerCy64QBTGbjDBli1bZYGIz2OBevbs+aIYA5QrKGhDwYLnidycmD9/nkpNfVsb23+rXr366EFSW64zs1atWlVypngR1HHAgP56Mquvnn76P7KghaISAvfq1VP6olWrZ8Rg8ZoBhNIjl1q1aukBOVLKoo/AxIkfqv/9b6FMVhiHr7/+Wg0e/IYoHApLHhZl5dnoBIZzy5ZI/ZcuXaK++OILfW9Lyb/t3PmXXDdw1p30hl9d7HDqC/eCSB66nY6E3tDynykTV9h6EfaSTmHA4rGkpo6VSOLFF7vL54MGDRIHAoNAqIzxjHXPJ59Mk7ogwzvvvEsNHPiyqx6H8bgZ7Iw1Bjx69tprb6hbbrlVcsROj9KvfvSDcwyTAnKrM3JEb/bv3y/GZdSot2UCfuON19V1110vclm4cKFq2rSZjGsMn9t4Q3/c7ACG3G0cu/WZ2zXqljNnTmlnLH16880R0l5ScciCNjExhEU6o8nixpgxo9WwYUPEa3EDQj/nnHNktmOGo+Nz5DgtTbiE4QN05tixY1Xp0mXkPkJTBoAbcuY8PfqK0OsUrSQ5o+8iYUrx4sUl7MJb27x5swiQgUInITC7F2eAAQDG+FWoUFGUjhyjH6g/IZGbQXOC0BtFAN27J0s+LQiY6TDeJUqUjF6JAENAchvPxKQFjDxB7txnaTlG3iP7lJQRMpOy2ESZKAN/u3btFIVC7szcGzdukHvoO+TFIOb+Sy65RGZsFJiBY/qKsPCaa67RHtFsec0E2qlTB1k8w3iaslggA5T366+/ak+hrRguFNgJe92BV12C4oILLhTdwFsrVOj8IxN12Hqha+SjCxcuLLJmQj1w4B/5jIWmO+64U3v0K0W+pn+97kGOkyZNFAPSr19fiQTwhIBTj+39GgTIL1++s8VLo4/oHwwBRsMJvzY5xzATuFed+S76hSdJJIcsfvjhB0l9MJ4x5BhmIiyv8YYxdrMD69atcx3Hbn3mdo2y8ubNK88CfvqEI8R4wE4VKHCeeLhucouFdEazUaPGYvE//PBDHZY+Hr3qjiD5IpQMVxqXObNgEJjc3o4dO+Q1XiILOKwqE+I7sX37NvEETU4GgebOfaae0eStJ5jJS5cuLSvXbrlc58BGqXr37ifKRgiGZxcLhM90OiG2HXQkg//Qodj5KL776qv/lZwziyPGyFJ/vErCHiZBJpmGDe+Qz5ww/RgxtLvStLdYsUtEzih5v34DJAJo0+ZZWUBzomTJkno2HyWybtToHgnzwiJMDtIO7uPPkW0SZKReGBwmCTBjxqdax9ro8k+VaMgL5h7kh2eFt0PaBs/80Ucfi34rrR5nFpQTtCx7mwyMvGPV2Y5cuU4Xo2XAoqaB13jbt2+/qx3wGsdufZaRfrTrE94zkcLIkcMldCclRvopLNIYTQTHYCDnMWTIMLHEAKEcPHhAC+OAvCcEx4M0ggEMKmZghMB1s0LKzEpjyVGy3QSQnwJ4chhVA75LuMngpS579/4tZQDKPHz40JFBUaTIRVIH8m98Z/fu3eKWO0HYv23bdj1DrZP3eI4IqmTJEtIOynUbaHhWLVo8Jfnbjz+eEr0aAe7+m2+OlNfcy/Mph7xNz569JS9EvtTUne/QHmRjgHEdPXqUDl2eT5fTypMnjxhsBqvxdCnrwAEjf0v+Dh+2xHhPnjxRh2J3iKdFPegnjDbfuemmm1T58uV1v6Yc8bCQG58ZmPIwuBUrVpQwyMzAeAKEaCxW0S5CIwaU8SgiZUXKw1Mhl8YOgwoVKkho74R5FnUHXnVxg1NfkAk6AbjH3pdh6+UEExqpBHSRXDteP6GgfpIYBTeYe9BjPMHx48dr72aL1AXPDDj1GDmTm7S3yw7utbfr6H/5J+/NtVgw9QPOMexXZzuQB/nLJk3ulffcf/DgUTvgNd7Klr3C1Q54jWO3PvPqR+4Pok+7d+8S7/bKK8tJ+rFZs/vlOnnW7t27BYoqQY5kjehrbRxP0+HZVPXRR1PEYJIsx+0mbGahARcaYzJv3jw1e/bncg8DkUGO0WSRYPjwYbrRa8RTwjDgqZC4nzVrlnrllYGS9ytc+Hy5DyFhONas+VGVKlVKvLV33x0neTVyEXQaHViwYCHtMb2ty1spiwck0cnZEFK89tpr+rNUPdCXilvPNTsI37To1LhxY7VR3y3J9wceeFCS2uRO5s6dq4WqtLdXWnK5dhCKRJLmoySPRV3INZJMJmdDHWgv15hBaQNbRGgHoQb1Z18mizGEICgbCsMgQUatWrWW77uBfDKyovxvvvlG8kgYSAwjbZgzZ7aeoU+V5D3KM378OCkbI8fiyNVXX6378hMty4li5OlTFqQIsciVUhdCF3LILIZt3bpNFJ5QDSX64osFEgqR93r66ZYyqPBoqTfKxcIZYTaLFPQL4Rhlk58iLYAxuPvue9J4NhgG0g6m7uT1mHy86kJKwQ67vvCaNpu2EhGwfYtnXHjhBZKbD1ovQAg5ZswotWDBfO2N/CB927Tp/aLXlIl3QoiJxzR//nzJrRIJuN1DCIguTJ/+iXr99VdlEQbP7Mwzc0vay67HGI5WrZ5WlSpVTreISZtY7CLtwqIKY2nixA/0WPpcwm3GJwadMlhDQGfs8GoTky/Rh30ME+K61Zlwmpwl44dFpVWrVsl4ZqyxFW/8+LGiDxhExprXeMNQ4VQ47UDlyte5juP9+/el6zP6wXkNXX3vvXelDoUKFZQI2UufMMa0G7lOnTpVcsvIrXDhC7QxHy+ywEGICW2F00FXwNIWP/ouAu0pWdpTir7zxvbt2y09+1g6zLO0YkevRqCNjqUbG30XAd+zXzPPoQztrUavekPPfJb2TuX7fqDcDRs2pKtTUFDHVatWWlrwUlZ2gDZt3rxJ2kh/eLWR63qSk9dasaR+tHPChPeskSNHWNrDsHQ4YtWoUc365JNp8r1YoDz6yw492KxNmzb6ypD+dN4XTzj1JShi1WvRokVW/fr1rNWrV7v2L/fTD8jAjI1Y99AvjKVY+vLnn9ujr+KLWPVzg1udBw582XruuWdEfl466AT3e403NzvgNo7d+iwz+vXtt99aAwb0s7766itLOzpW8+aPW23bPid16dSpg6UNfPSb/kiX0wR4SiY3ZsDMli9fvug7b+CKk2jF+3Tmp8izMXPbYbxUA/McysBDiAVyguRN7ItQbqBcZk5nnYKCOjLrksSnrOwAbSKhTRvpD682ch0vAhAJUD9CbFbSyWOyraJmzSQJTfB8g4DynDsBiESYlf1kSH8674snnPoSFLHqpceC/LHI4ta/3E8/IAMzNmLdQ78wlmLpi9PrjRdi1c8NbnUmlOc68vPSQSe432u8udkBt3Hs1mcZ1S/ShX369BIvloMi7MQgir744qKSSuCE2s033xL9tj+CSSCBEw6Ef4QlrOYTqvbt20e2WRDKJpAW5OJJsbC7gJNe2kuKfuKNjNyTnYhX/UjRLF68WFJNZi3iRARG3KTNSAmxvxRjSV6TtIbXjh43pNvcnsDJAx3GSE4JsIjht/L7/xnkysjV6lBS8vfk52J5sxm5JzsRr/qxMGu2qp19dj5ZLDpRwSIW+V12krB/lAgsI5FnwmgmkEACCYRAIjxPIIEEEggBX6PJnic2g3JWdO/e7GMRORERL1mxdYKtHJzyOBlB2AgXAFtFEsgcSL+gb2wlSyD74Gs0OdvJPq+BA1+SxHIC3oiHrEjWQ4jQuXNH9csvP0evnlzgsECPHt3U1KkfRa8kkBEcOnRIcbwVXSF3mZ1gPzB7OdlLHRTkVtlT+vXXS6NXTlykM5p0BhtP2XnPVoikpNrHVYL7eEK8ZcW9tWvXiW4QPjnh5Ab1Akf6kO3JBrvOZASsYHM6iwWMatVquLJ6ZTUywolKJMYBkJMhYk1nNJ3cmXE6IntSIitkxT61eJ1LPl4RpH3Hmms1CDAEYZEZblpSG71795RTXwAxGlKS7ERGOFHZh5ndvJdZhTTHKDk6OXLkCLVkyVLJrbHBmZlx9uzZcia0b9/ecsSRI0nmoPuKFSvE7Yafj6N+UF+5LePj0rNnkKNumzZtFI4+jiZyzI09U4RsPIuyAXVhPxW0VxyuL1/+KtlUzHlswmDOyLPRnCOWUD6xD5E6Dh78unrllUFyJMxviw1HGdu2fU5yhzD7QJnFzEnIwTlUzo6XK1dOGGKAs50cw+R1UFlxFpzjXhxTmzr1YwlTOFrG/jEGEGdvP/vsMzlmyHE9eC+LFi0mz3aCnGf79u1kHx5lICtyWyVLloruyeylYMOBL4Ajkxw9Y5ZniwUGC15MjnbyR1+xHcUNfK9z504yODgyCREJsmdjMOVwxJPjdhyZo384jOClD/T1Bx98IOeHOcLG2Xp4TN2AN0UZ7BGE5o52cTTRS35eYIsJukOd2Z+HJ8+RQXKqXONoK/p4ySWX6v7Lp0aMGK769esj/UH4OWzYUDmOB5csDP4LFixQMPpwxA9uz0GDXpa0DLqH3IsUuVg2gr/wQme1fPly8ag5ZghtINED/K/O8YV+ccSVvuAzdIX6OIGBRp9Ia6CjPBe5TJ48SeSLvOEQ5UgisgVuY8jtwAh6H7TtTOpw5fbv30/GB4clnPqE9+vUDY5g8vMknNvnwAa2AJ3nqGdyclfRXwwqY5wog6OW6Ax1p484LusVocCD0K7dczKZcNw7OfkF7QnvlCPQ2AsvHeZocIbAliM7zNErju8BPTCt6tWrWitXfm/t2bPHatbsPksroHymG2K1aPGEHH/SCm7VrFndWrBgvnzmBj0QrKSkGtbatb/IvZSrhSdH/7RCWHfcUd/aunWrHFXr2rWLNWPGDDlW9fTTT1q9er0o7znOxZEr7nv22dZSLscbq1S50dIKJJ9pgyyfca8X+B5t6djxeXm+VlyrUqWKcsxQK448h2cAr3aGkdX48eOs1q1bynN5XtOm91p9+vSWY2b9+/e1tJLJ93gGZc6bN1feu4F2aUWWI2BADwyrVq2acu+yZd9YevDIccdHHnnIWrNmjZRVp04tucYx13vvbWQtWbLYWr9+vaUNkJThBo6z3nlnQ0sbKnk/b948q27d2vIc2kr7OFKILFas+M5TTjyfPjTHDzt37nhEtl7g6J5pH/CSnxeQkR74lvZW5T1tR++QR+PG98hxWJCSMtRq0OB2kYtTj9q1a2PVq1dH2rJu3Vppu+kXPelaVaveIkdU0Rc96UsfAG18jtSdchs2vF3r7qfy3qkz6F3Pnj2kvowBPvMCRwipu+kPjl9S9zFjRsv9I0akyLM4fuw1hrwQpu18Fz2nz930yU03zHgzeo4tQD/ok82bN0u7kQVgzFBf6p2aOsZ66KEHfI/OmrI7dGgvuqENsOg7xzj9dDijCOTbcwyLGQXLDAuOWdnVwpEFC2YVKMggcbAzYjsB1x0zK0fxOGJVtOjFMjtz9K9s2Ssl36E7wZNjD+b4AQNeltVCZiPDGhSGY9CA70VICi6LPr+szPIc4Md7wUOEvVp3XKh2usmKmdyLpxK6rJkzP9PvIz+fgUfFnx+Y7aHPWr16tczAeO48AyICSAmQFTJ249nk2eRfnbyYbsBrsNcFliGII4Abt6GbnIgk/LhBg8BPfl5A7rC5GwIG5AHhhR+/KnqEjhKl8Bx0AM8M/eMXBYhqDHuPH1elHy+sHbQLz9uNwzIoONZJRIVOlC9fQcg4/v57j+cY8kKYtvNdw4nqpk/ZzXtpymb8Ux8oEomEiFL8dBiP/f33J4iu4u0zRoIgdEKECmpjK6+1tZYQEqowWJrbt4fmzD2kdAKBQFxsAP0c1wDGkEY7OfboNELqhQu/kLDPC9zLXxggSPN8YBd0RttpZIWx0l5CmjyW4amk43bv3hM6P0ZoCqBrI/zhbDkdz+kNDBRK5sazSYgaixfTDtPXThDSO7kN3eTEYAvKDeoFP/l5Adb233//I809IAy/KgbJgGfZ9cMJN67KWKBuQTksg4AxZHKcXmMoKIK23U2f3HQjFjBuBpnlvWSisud6vXQYvSJtRj0j9ijY6aB0kkjPnQlP4VGOOrjzjMIxOKEtI/cAmN3ZO+YF7uOPsjASvDZ8iPDhmWd4ceyR88OzuvPOu6VT+cyUB6L/5L255oe0z+d1hGMw8v5om73aGVRWGCwvnko8bRSPvBDt4Q9vgT8/4EFyXhZDyX8GHnk+ns3gZdZ249n04sV0AzJmwGzatEneY7jwpsjbuXEbusmJ9vpxg3rBzp3pJz8vkFej7uTEGBiUxeDFg/LjVzV6ACK6dbQ/+W9eO2HnqiTKYAJhUGIY7bywdp3he0E4LA0Y2DzfTARU5dAhOEWP6myk/pbnGPJCmLab1zzHTZ+yivfSD/byIrYk0g4/HcYLvvfe+6R81hCCRkBpFoKAnTuTTkLZCfsIbxjcJIgJJ6644gr5jRA6m0UPEtS40SSL8bCcINTlt2ZQCgSCK09in3AcklwEPW/eXJn18ZrcOPYYCCSFzQZyiASoI3v/gnIMGtDRPJ8ZmVCP1zwfzkN4+UiMw0HIgg/sJ27tZDAHlVX16jVlQ7eTpzKSrigsspkyZYqE0jyXemEU/JieUBS8JgwjBB3mZ4KRAQPSjWeT5Dj1svNimh+9cgKFYwGJhQF+4I3k+rJly3T/5hRDzAKenduQFIubnLjONhvCdjs3KF4pfeQGBrqda/W6625wlZ895LMDNhzCPhYGU1NT9b2LZaEBr1wP0XR8j3iuI0eOlPfInLAQOf344xpZcCTtgAGmX/i5By+uSmRGlOLGC8tCHAw9Rmcw1kx2LG45OSzdQLn8mBm/tb937z793NWyKIYeEAKzGAU5B5MmvKh40bH4ZgEGNWjbCb/tnKj0r5NnlXGRFbyXXuxGLIxOmDBByiFFgTyxEdghbBSTjJsOowv0V1i4nj03M2QQKjjAni0UEcWJJ/AQ6CiEhVEC1I0BRccwoBkc5rOshls7w8tqh57pDqZTAJSLWRClpjzaFwvIB4/NfBd5YCyNIjCYUFzqS/nIiYkF+W3dGiF3DhKSMKjMjE2Z5I3MderqbIubnLiPkPncc/NLnSkjVr+Z5zIBGXjJzwu0lYnZrkOAfsOgYViDhmV2MGGz46N//5dkQDu9FKMXGHXaYZ/8nDqDbKgL3wni7RDSG/rEWHAbQ/GGmz556UYQ4PBMnz5N3XLLbeIUYKSRI2mAjMJLhzOCBGFHAglkAGxbwmimpAyXxYwE4gMm3KeeaiG/fMm2IIDXieEnBXA8IHtctAQSOIkQL67KBNIDT9uL9/J4QcLTTCCBkGBR6Xjm0jzRQfqCXHFmeS+zCgmjmUACCSQQAsd9eM6sw1YRtptkFvEsKzvAtg92HbA6GCQEZIWWVcPjiSosbBuyCvGQDR4mucyThdbuZGtPdiHbjCZnvdl5z8pVGLAPjLOjkydPjl7JOOJZVnaAvX5sfeJMMavffsA4HSuqMD+EaUNWIV6yOdlo7U629mQXss1okjxnS0zYbAB7qW64wfv4VxjEs6zsAHv26tb13nSLMTA0Y+R8jhVVmB9itSErEW8ataC0dicKYrXnZKPni1d7ss1o1qhRUz3xRPMMJXTZWxUvxLOs7IF3fd2o6Y4FVVhsZL/MCT2zgkbtxNMff/i153im58NhCIt4tSfNiSBWA4NSRLFaSMU5xmentWLTKLRPUFaRy4JCilM1MJpzeuG226rKJlPyKOy/ggKKHCNGFcICNyoztnfwLO61gxMGXbp01MbjWznVwzN79Ogu96ALfmXx64xvvPG6SkkZKqcnCFWSk7vK6Q5Ojri1DcquoLRqgDI4JcTJkTBUdua0Cacu+E+/cHTUviGX0zbUy04zVqBAfjVpkjdVWCwav7D0fTx32LAh+jsL5QQM9YSuDDn7tSHe9UAWdgo0jt+RQyXsZNN4EBo1cnvU004XZ07P8OxYtHactmJ80C7ug+SCEzrFihXVHu8K1bHj85Ia4HQYxyaHDh2sZs/+XLw9ZMIJKfQRfeEoImPMjuym6XOj5yNa9OpvJ0jLsCl9+PAUKYdns0GdMcuJHTu9H/0XtL9xFNjHiexoX3JyFzlowE9T09detHzYAGd7OE4ZhDovHVg9tyMMRZQ2Kq60VlpZrOuvryxlQKGlDbBQQd13X2OheNJKIfRPlM97bfSEHsqNygxAadW16wvy2g7daVabNs8KDRd10MZXaNE2btwQqCzdMdI2Q9OlO8d6/vl28tqtbW40WH7ICJXdli1brMcee1RkAqC5gu6LZzvhpBnzowrzom1zgn4KQt9Hv7Vu3Uoo24AeZNatt1YRWjC/NsS7Hgc8KNB2haBRQ0+86OLQn6C0drQTXaM/oAesUuUGuQZNIDqHjvNfT7hSd/rO6BC6pidPac/770+Qa3bsOAY0fXZ6Pr/+dgK50Sc8FyAL6u9H7xe0v4F2OIQujr5jHDKGoUoEfrR89vZ46U0QpItXglJEMcswU7nRWnGUD68K75HzruSzKJPwiIWgsWPHyvlaysdj5Sw6M6gblZkfmDUbNGgosw+roqtWrVLVqlWXmSVIWbAs2Y+WmbybV9vwCILSqoGMUNnhmTErIj+QK9cZoY6/4cW7UYXhYQeht6OfgtD30SbIktlHB3gm3jgegF8b4l2PMBRoXrLxooujfWFo7fBU2LeJB8Qf9SUc/O23X6X+6Hhycjc5u75y5UrRS7w3ULx4Ce05jhZPLimpllyzA133ojjLDpo+v/52QhtmORJsIqcyZSLP86P3C9rfgPsZ29gl8tTI0xCdBKXlC6M3TsQcjSiaAW64UX7Cdz9aKwykm9uOosAhyaCyA6G4UZnFQsSlzqfDl0/kCBb3ZrQsA6+2YeDD0KplhMqOwcpg1hOavM8M7FRhhEtFQ9Lb0dde9H2cad+3b68yDE8oMBMq9fZrQ7zrwUSE7MJSoNll40UXt2/f/lC0dgxk2MwJpRngTz75lKSOMGCGyo/wu23bNro9px4xKqBRo8aqd+++QmTRvPnj0atp4aUT2UHT59ffTuBsMH6MPAFOC4bU5N+BF72fX3+7IVeu08XQhkFG9Qakq0lQiig/WivuoQy7QPmccpg56OQJE96V3BUgf0JOx43KDOD5QYHlBjoP40YulnKZhYKWhRFkpkeAfAejy+debXOjwUI5yMHAyOJERqjsMPLr1q0VZhdA3gWCCu5zAmVKS02H7N2pwoLS+PEcU0fu5zVlgAjlVqSe5PxgVlq+PMKVyCTIoCBH59eGeNfDiwKNQcZ3zCDl616yIZpyo4srV+5Kyfdh6LgGeAYTghduvbWqmjVrlnh1lEueec6cOVIOhoO8GjIgp65rJcaaOjIBw0A1ZMgwyfE5gf4wyLOTpg9vFicH+PW3EzybMY3HCfBSYSDyo/cL2t9OIFPYkpo0uVfeM3aZMLiOXO20fPb2hKXOsyPNQhA3BqWIgiiUEN5JawW1GiEG4QdChhmdM7okhLnGd+rXbyCKxSIQWwAKFz5fu+qVXanMCB8IKVBoOoMUgRN4moTQUHPhVSK4IGWVKFFSQRlGCEOSnlmYcpgBoadzto3ksZMGi9Bj9eqV8t169W6P1igCjHJYKjtmOwYAiX72tpLAJ+3Ad/FW7J6/ncaP/oL+i4Q2yuCkCoMvkES5H40fC3dB6ftIgyCPd955W5SUCYT36EXRokU92wB1HeXFqx5eNIKEekFp1Eiz4Pk56eIIC6EWDENrh/5RX3gaqdeePX/LAkjVqtWl7xi0kOsS6uLJzp8/X8JUFkVYeEQe6ITzB8i4F0PlRnGWVTR9GBNDz4cHzRh162/7Ih4gZOZ5LCjzbMYVkwmLsW70fpQXtL9ZtGUhir7id4fQq6SkpCOhtR8tH3bBtKdChaslJRKEOs+JTB+jRAnD0FrZgTChdsO4AMpyozKLBft9BmHKwluEaguFxhM2SuDWNhTJSYMFZf7PP/8kbr4TzHjcw2BC6YNS2VEnyjfP9aq7mVGPFY0fMoLyLU+evOnSIH5tiHc9vCjQTN8GkTmypL+ddHGmjUFp7ZgwTLvoG+5nwBrgnDBJUAbPNHJjcPM9pxzt4F7jdVIudTHXeZaTis1NzmHaY55nH6Ne/e0E9xIJMTHZgXzC0Ps5wY4YUnxEe/nz509XdzMm3Gj5nO3JCHVe4ux5JsGMipdIuGX3lhJIIIGsAdsXSVNkhl8zMwhmWhPwBLOoM7xMIIEEsgaE9aS5CLtxVrIfSv0fbZj/p5996rEAAAAASUVORK5CYII=)\n",
    "\n",
    "\n",
    "C'est pour cela qu'on a fait une selection sur les attributs float afin d'apporter les changement."
   ]
  },
  {
   "cell_type": "code",
   "execution_count": 6,
   "id": "d8c8a785",
   "metadata": {
    "id": "d8c8a785",
    "outputId": "596855fd-05ec-464d-c5bd-3252d3cd0e25"
   },
   "outputs": [
    {
     "data": {
      "text/html": [
       "<div>\n",
       "<style scoped>\n",
       "    .dataframe tbody tr th:only-of-type {\n",
       "        vertical-align: middle;\n",
       "    }\n",
       "\n",
       "    .dataframe tbody tr th {\n",
       "        vertical-align: top;\n",
       "    }\n",
       "\n",
       "    .dataframe thead th {\n",
       "        text-align: right;\n",
       "    }\n",
       "</style>\n",
       "<table border=\"1\" class=\"dataframe\">\n",
       "  <thead>\n",
       "    <tr style=\"text-align: right;\">\n",
       "      <th></th>\n",
       "      <th>age</th>\n",
       "      <th>bp</th>\n",
       "      <th>sg</th>\n",
       "      <th>al</th>\n",
       "      <th>su</th>\n",
       "      <th>bgr</th>\n",
       "      <th>bu</th>\n",
       "      <th>sc</th>\n",
       "      <th>sod</th>\n",
       "      <th>pot</th>\n",
       "      <th>hemo</th>\n",
       "      <th>pcv</th>\n",
       "      <th>wbcc</th>\n",
       "      <th>rbcc</th>\n",
       "    </tr>\n",
       "  </thead>\n",
       "  <tbody>\n",
       "    <tr>\n",
       "      <th>0</th>\n",
       "      <td>48.0</td>\n",
       "      <td>80.0</td>\n",
       "      <td>1.020</td>\n",
       "      <td>1.0</td>\n",
       "      <td>0.0</td>\n",
       "      <td>121.000000</td>\n",
       "      <td>36.0</td>\n",
       "      <td>1.2</td>\n",
       "      <td>137.508013</td>\n",
       "      <td>4.630868</td>\n",
       "      <td>15.4</td>\n",
       "      <td>44.0</td>\n",
       "      <td>7800.0</td>\n",
       "      <td>5.200000</td>\n",
       "    </tr>\n",
       "    <tr>\n",
       "      <th>1</th>\n",
       "      <td>7.0</td>\n",
       "      <td>50.0</td>\n",
       "      <td>1.020</td>\n",
       "      <td>4.0</td>\n",
       "      <td>0.0</td>\n",
       "      <td>147.864407</td>\n",
       "      <td>18.0</td>\n",
       "      <td>0.8</td>\n",
       "      <td>137.508013</td>\n",
       "      <td>4.630868</td>\n",
       "      <td>11.3</td>\n",
       "      <td>38.0</td>\n",
       "      <td>6000.0</td>\n",
       "      <td>4.702247</td>\n",
       "    </tr>\n",
       "    <tr>\n",
       "      <th>2</th>\n",
       "      <td>62.0</td>\n",
       "      <td>80.0</td>\n",
       "      <td>1.010</td>\n",
       "      <td>2.0</td>\n",
       "      <td>3.0</td>\n",
       "      <td>423.000000</td>\n",
       "      <td>53.0</td>\n",
       "      <td>1.8</td>\n",
       "      <td>137.508013</td>\n",
       "      <td>4.630868</td>\n",
       "      <td>9.6</td>\n",
       "      <td>31.0</td>\n",
       "      <td>7500.0</td>\n",
       "      <td>4.702247</td>\n",
       "    </tr>\n",
       "    <tr>\n",
       "      <th>3</th>\n",
       "      <td>48.0</td>\n",
       "      <td>70.0</td>\n",
       "      <td>1.005</td>\n",
       "      <td>4.0</td>\n",
       "      <td>0.0</td>\n",
       "      <td>117.000000</td>\n",
       "      <td>56.0</td>\n",
       "      <td>3.8</td>\n",
       "      <td>111.000000</td>\n",
       "      <td>2.500000</td>\n",
       "      <td>11.2</td>\n",
       "      <td>32.0</td>\n",
       "      <td>6700.0</td>\n",
       "      <td>3.900000</td>\n",
       "    </tr>\n",
       "    <tr>\n",
       "      <th>4</th>\n",
       "      <td>51.0</td>\n",
       "      <td>80.0</td>\n",
       "      <td>1.010</td>\n",
       "      <td>2.0</td>\n",
       "      <td>0.0</td>\n",
       "      <td>106.000000</td>\n",
       "      <td>26.0</td>\n",
       "      <td>1.4</td>\n",
       "      <td>137.508013</td>\n",
       "      <td>4.630868</td>\n",
       "      <td>11.6</td>\n",
       "      <td>35.0</td>\n",
       "      <td>7300.0</td>\n",
       "      <td>4.600000</td>\n",
       "    </tr>\n",
       "  </tbody>\n",
       "</table>\n",
       "</div>"
      ],
      "text/plain": [
       "    age    bp     sg   al   su         bgr    bu   sc         sod       pot  \\\n",
       "0  48.0  80.0  1.020  1.0  0.0  121.000000  36.0  1.2  137.508013  4.630868   \n",
       "1   7.0  50.0  1.020  4.0  0.0  147.864407  18.0  0.8  137.508013  4.630868   \n",
       "2  62.0  80.0  1.010  2.0  3.0  423.000000  53.0  1.8  137.508013  4.630868   \n",
       "3  48.0  70.0  1.005  4.0  0.0  117.000000  56.0  3.8  111.000000  2.500000   \n",
       "4  51.0  80.0  1.010  2.0  0.0  106.000000  26.0  1.4  137.508013  4.630868   \n",
       "\n",
       "   hemo   pcv    wbcc      rbcc  \n",
       "0  15.4  44.0  7800.0  5.200000  \n",
       "1  11.3  38.0  6000.0  4.702247  \n",
       "2   9.6  31.0  7500.0  4.702247  \n",
       "3  11.2  32.0  6700.0  3.900000  \n",
       "4  11.6  35.0  7300.0  4.600000  "
      ]
     },
     "execution_count": 6,
     "metadata": {},
     "output_type": "execute_result"
    }
   ],
   "source": [
    "dtype_float=data.select_dtypes(include=['float64'])\n",
    "dtype_float.head()\n",
    "dtype_float=dtype_float.fillna(dtype_float.mean())\n",
    "dtype_float.head()"
   ]
  },
  {
   "cell_type": "markdown",
   "id": "uxiH2nLs0jUc",
   "metadata": {
    "id": "uxiH2nLs0jUc"
   },
   "source": [
    "\n",
    "Comme vous voyez dans le tableau ci-dessus ,les champs qui ont été occupés par la valeur nan contiennent maintenant la moyenne de type float.\n",
    "Prenant l'exemple de la deuxième valeur de l'attribut \"rbcc\". Cette valeur a changé de NAN à 4.7.\n"
   ]
  },
  {
   "cell_type": "markdown",
   "id": "MbzXuGm82pt3",
   "metadata": {
    "id": "MbzXuGm82pt3"
   },
   "source": [
    "Se concentrant maintenant sur les attributs de type objet , on va faire presque le même traitement que celui sur les valeurs numériques sauf qu'on va changer les valeur nan par le mode comme indiquer dans l'extrait de l'article ci-dessous:\n",
    "\n",
    "\n",
    "\n",
    "\n",
    "![gg.png](data:image/png;base64,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)\n",
    "\n",
    "c'est pour cela ,on a fait une selection sur les attributs objet afin d'apporter les changement.\n"
   ]
  },
  {
   "cell_type": "code",
   "execution_count": 7,
   "id": "f3854fd6",
   "metadata": {
    "id": "f3854fd6",
    "outputId": "6a142786-75ef-46ed-acd1-b6f0fd0baa75"
   },
   "outputs": [
    {
     "name": "stdout",
     "output_type": "stream",
     "text": [
      "rbc unique values: [nan 'normal' 'abnormal']\n",
      "--------------------------------------------------\n",
      "pc unique values: ['normal' 'abnormal' nan]\n",
      "--------------------------------------------------\n",
      "pcc unique values: ['notpresent' 'present' nan]\n",
      "--------------------------------------------------\n",
      "ba unique values: ['notpresent' 'present' nan]\n",
      "--------------------------------------------------\n",
      "htn unique values: ['yes' 'no' nan]\n",
      "--------------------------------------------------\n",
      "dm unique values: ['yes' 'no' nan]\n",
      "--------------------------------------------------\n",
      "cad unique values: ['no' 'yes' nan]\n",
      "--------------------------------------------------\n",
      "appet unique values: ['good' 'poor' nan]\n",
      "--------------------------------------------------\n",
      "pe unique values: ['no' 'yes' nan]\n",
      "--------------------------------------------------\n",
      "ane unique values: ['no' 'yes' nan]\n",
      "--------------------------------------------------\n",
      "class unique values: ['ckd' 'notckd']\n",
      "--------------------------------------------------\n"
     ]
    }
   ],
   "source": [
    "for x in data.select_dtypes(include=['object']):\n",
    "    print(\"{} unique values:\".format(x),data[x].unique())\n",
    "    print(\"-\"*50)"
   ]
  },
  {
   "cell_type": "code",
   "execution_count": 8,
   "id": "4c3c9411",
   "metadata": {
    "id": "4c3c9411",
    "outputId": "4949beb9-a091-450c-a23a-73933981c9f4"
   },
   "outputs": [
    {
     "data": {
      "text/html": [
       "<div>\n",
       "<style scoped>\n",
       "    .dataframe tbody tr th:only-of-type {\n",
       "        vertical-align: middle;\n",
       "    }\n",
       "\n",
       "    .dataframe tbody tr th {\n",
       "        vertical-align: top;\n",
       "    }\n",
       "\n",
       "    .dataframe thead th {\n",
       "        text-align: right;\n",
       "    }\n",
       "</style>\n",
       "<table border=\"1\" class=\"dataframe\">\n",
       "  <thead>\n",
       "    <tr style=\"text-align: right;\">\n",
       "      <th></th>\n",
       "      <th>rbc</th>\n",
       "      <th>pc</th>\n",
       "      <th>pcc</th>\n",
       "      <th>ba</th>\n",
       "      <th>htn</th>\n",
       "      <th>dm</th>\n",
       "      <th>cad</th>\n",
       "      <th>appet</th>\n",
       "      <th>pe</th>\n",
       "      <th>ane</th>\n",
       "      <th>class</th>\n",
       "    </tr>\n",
       "  </thead>\n",
       "  <tbody>\n",
       "    <tr>\n",
       "      <th>0</th>\n",
       "      <td>NaN</td>\n",
       "      <td>normal</td>\n",
       "      <td>notpresent</td>\n",
       "      <td>notpresent</td>\n",
       "      <td>yes</td>\n",
       "      <td>yes</td>\n",
       "      <td>no</td>\n",
       "      <td>good</td>\n",
       "      <td>no</td>\n",
       "      <td>no</td>\n",
       "      <td>ckd</td>\n",
       "    </tr>\n",
       "    <tr>\n",
       "      <th>1</th>\n",
       "      <td>NaN</td>\n",
       "      <td>normal</td>\n",
       "      <td>notpresent</td>\n",
       "      <td>notpresent</td>\n",
       "      <td>no</td>\n",
       "      <td>no</td>\n",
       "      <td>no</td>\n",
       "      <td>good</td>\n",
       "      <td>no</td>\n",
       "      <td>no</td>\n",
       "      <td>ckd</td>\n",
       "    </tr>\n",
       "    <tr>\n",
       "      <th>2</th>\n",
       "      <td>normal</td>\n",
       "      <td>normal</td>\n",
       "      <td>notpresent</td>\n",
       "      <td>notpresent</td>\n",
       "      <td>no</td>\n",
       "      <td>yes</td>\n",
       "      <td>no</td>\n",
       "      <td>poor</td>\n",
       "      <td>no</td>\n",
       "      <td>yes</td>\n",
       "      <td>ckd</td>\n",
       "    </tr>\n",
       "    <tr>\n",
       "      <th>3</th>\n",
       "      <td>normal</td>\n",
       "      <td>abnormal</td>\n",
       "      <td>present</td>\n",
       "      <td>notpresent</td>\n",
       "      <td>yes</td>\n",
       "      <td>no</td>\n",
       "      <td>no</td>\n",
       "      <td>poor</td>\n",
       "      <td>yes</td>\n",
       "      <td>yes</td>\n",
       "      <td>ckd</td>\n",
       "    </tr>\n",
       "    <tr>\n",
       "      <th>4</th>\n",
       "      <td>normal</td>\n",
       "      <td>normal</td>\n",
       "      <td>notpresent</td>\n",
       "      <td>notpresent</td>\n",
       "      <td>no</td>\n",
       "      <td>no</td>\n",
       "      <td>no</td>\n",
       "      <td>good</td>\n",
       "      <td>no</td>\n",
       "      <td>no</td>\n",
       "      <td>ckd</td>\n",
       "    </tr>\n",
       "  </tbody>\n",
       "</table>\n",
       "</div>"
      ],
      "text/plain": [
       "      rbc        pc         pcc          ba  htn   dm cad appet   pe  ane  \\\n",
       "0     NaN    normal  notpresent  notpresent  yes  yes  no  good   no   no   \n",
       "1     NaN    normal  notpresent  notpresent   no   no  no  good   no   no   \n",
       "2  normal    normal  notpresent  notpresent   no  yes  no  poor   no  yes   \n",
       "3  normal  abnormal     present  notpresent  yes   no  no  poor  yes  yes   \n",
       "4  normal    normal  notpresent  notpresent   no   no  no  good   no   no   \n",
       "\n",
       "  class  \n",
       "0   ckd  \n",
       "1   ckd  \n",
       "2   ckd  \n",
       "3   ckd  \n",
       "4   ckd  "
      ]
     },
     "execution_count": 8,
     "metadata": {},
     "output_type": "execute_result"
    }
   ],
   "source": [
    "dtype_object=data.select_dtypes(include=['object'])\n",
    "dtype_object.head()"
   ]
  },
  {
   "cell_type": "code",
   "execution_count": 9,
   "id": "2b9ca98b",
   "metadata": {
    "id": "2b9ca98b"
   },
   "outputs": [],
   "source": [
    "dtype_object=data.select_dtypes(include=['object'])\n",
    "for col in dtype_object:\n",
    "        dtype_object[col].fillna(dtype_object[col].mode()[0], inplace=True)"
   ]
  },
  {
   "cell_type": "code",
   "execution_count": 10,
   "id": "Q6PE_91-7KsS",
   "metadata": {
    "id": "Q6PE_91-7KsS",
    "outputId": "363271d4-b764-4d5a-ef6d-aa15723093d3"
   },
   "outputs": [
    {
     "data": {
      "text/html": [
       "<div>\n",
       "<style scoped>\n",
       "    .dataframe tbody tr th:only-of-type {\n",
       "        vertical-align: middle;\n",
       "    }\n",
       "\n",
       "    .dataframe tbody tr th {\n",
       "        vertical-align: top;\n",
       "    }\n",
       "\n",
       "    .dataframe thead th {\n",
       "        text-align: right;\n",
       "    }\n",
       "</style>\n",
       "<table border=\"1\" class=\"dataframe\">\n",
       "  <thead>\n",
       "    <tr style=\"text-align: right;\">\n",
       "      <th></th>\n",
       "      <th>rbc</th>\n",
       "      <th>pc</th>\n",
       "      <th>pcc</th>\n",
       "      <th>ba</th>\n",
       "      <th>htn</th>\n",
       "      <th>dm</th>\n",
       "      <th>cad</th>\n",
       "      <th>appet</th>\n",
       "      <th>pe</th>\n",
       "      <th>ane</th>\n",
       "      <th>class</th>\n",
       "    </tr>\n",
       "  </thead>\n",
       "  <tbody>\n",
       "    <tr>\n",
       "      <th>0</th>\n",
       "      <td>normal</td>\n",
       "      <td>normal</td>\n",
       "      <td>notpresent</td>\n",
       "      <td>notpresent</td>\n",
       "      <td>yes</td>\n",
       "      <td>yes</td>\n",
       "      <td>no</td>\n",
       "      <td>good</td>\n",
       "      <td>no</td>\n",
       "      <td>no</td>\n",
       "      <td>ckd</td>\n",
       "    </tr>\n",
       "    <tr>\n",
       "      <th>1</th>\n",
       "      <td>normal</td>\n",
       "      <td>normal</td>\n",
       "      <td>notpresent</td>\n",
       "      <td>notpresent</td>\n",
       "      <td>no</td>\n",
       "      <td>no</td>\n",
       "      <td>no</td>\n",
       "      <td>good</td>\n",
       "      <td>no</td>\n",
       "      <td>no</td>\n",
       "      <td>ckd</td>\n",
       "    </tr>\n",
       "    <tr>\n",
       "      <th>2</th>\n",
       "      <td>normal</td>\n",
       "      <td>normal</td>\n",
       "      <td>notpresent</td>\n",
       "      <td>notpresent</td>\n",
       "      <td>no</td>\n",
       "      <td>yes</td>\n",
       "      <td>no</td>\n",
       "      <td>poor</td>\n",
       "      <td>no</td>\n",
       "      <td>yes</td>\n",
       "      <td>ckd</td>\n",
       "    </tr>\n",
       "    <tr>\n",
       "      <th>3</th>\n",
       "      <td>normal</td>\n",
       "      <td>abnormal</td>\n",
       "      <td>present</td>\n",
       "      <td>notpresent</td>\n",
       "      <td>yes</td>\n",
       "      <td>no</td>\n",
       "      <td>no</td>\n",
       "      <td>poor</td>\n",
       "      <td>yes</td>\n",
       "      <td>yes</td>\n",
       "      <td>ckd</td>\n",
       "    </tr>\n",
       "    <tr>\n",
       "      <th>4</th>\n",
       "      <td>normal</td>\n",
       "      <td>normal</td>\n",
       "      <td>notpresent</td>\n",
       "      <td>notpresent</td>\n",
       "      <td>no</td>\n",
       "      <td>no</td>\n",
       "      <td>no</td>\n",
       "      <td>good</td>\n",
       "      <td>no</td>\n",
       "      <td>no</td>\n",
       "      <td>ckd</td>\n",
       "    </tr>\n",
       "  </tbody>\n",
       "</table>\n",
       "</div>"
      ],
      "text/plain": [
       "      rbc        pc         pcc          ba  htn   dm cad appet   pe  ane  \\\n",
       "0  normal    normal  notpresent  notpresent  yes  yes  no  good   no   no   \n",
       "1  normal    normal  notpresent  notpresent   no   no  no  good   no   no   \n",
       "2  normal    normal  notpresent  notpresent   no  yes  no  poor   no  yes   \n",
       "3  normal  abnormal     present  notpresent  yes   no  no  poor  yes  yes   \n",
       "4  normal    normal  notpresent  notpresent   no   no  no  good   no   no   \n",
       "\n",
       "  class  \n",
       "0   ckd  \n",
       "1   ckd  \n",
       "2   ckd  \n",
       "3   ckd  \n",
       "4   ckd  "
      ]
     },
     "execution_count": 10,
     "metadata": {},
     "output_type": "execute_result"
    }
   ],
   "source": [
    "dtype_object=data.select_dtypes(include=['object'])\n",
    "dtype_object.head()"
   ]
  },
  {
   "cell_type": "markdown",
   "id": "n02uId_v7lgF",
   "metadata": {
    "id": "n02uId_v7lgF"
   },
   "source": [
    "Comme vous voyez dans le tableau ci-dessus ,les champs qui ont été occupés par la valeur nan contiennent maintenant le mode de type objet . prenant l'exemple de la première valeur de l'attribut \"rbc\". Cette valeur a changé de nan à normal .\n",
    "\n"
   ]
  },
  {
   "cell_type": "markdown",
   "id": "9uiifzMoE9s_",
   "metadata": {
    "id": "9uiifzMoE9s_"
   },
   "source": [
    "pour vérifier qu'il n ya plus de valeur nan dans le tableau , on a effectuer la commande ci-dessous ."
   ]
  },
  {
   "cell_type": "code",
   "execution_count": 11,
   "id": "6d931714",
   "metadata": {
    "id": "6d931714",
    "outputId": "6e42de76-c9e0-4a5c-893e-c18d18415196"
   },
   "outputs": [
    {
     "name": "stdout",
     "output_type": "stream",
     "text": [
      "rbc unique values: ['normal' 'abnormal']\n",
      "--------------------------------------------------\n",
      "pc unique values: ['normal' 'abnormal']\n",
      "--------------------------------------------------\n",
      "pcc unique values: ['notpresent' 'present']\n",
      "--------------------------------------------------\n",
      "ba unique values: ['notpresent' 'present']\n",
      "--------------------------------------------------\n",
      "htn unique values: ['yes' 'no']\n",
      "--------------------------------------------------\n",
      "dm unique values: ['yes' 'no']\n",
      "--------------------------------------------------\n",
      "cad unique values: ['no' 'yes']\n",
      "--------------------------------------------------\n",
      "appet unique values: ['good' 'poor']\n",
      "--------------------------------------------------\n",
      "pe unique values: ['no' 'yes']\n",
      "--------------------------------------------------\n",
      "ane unique values: ['no' 'yes']\n",
      "--------------------------------------------------\n",
      "class unique values: ['ckd' 'notckd']\n",
      "--------------------------------------------------\n"
     ]
    }
   ],
   "source": [
    "for x in data.select_dtypes(include=['object']):\n",
    "    print(\"{} unique values:\".format(x),data[x].unique())\n",
    "    print(\"-\"*50)"
   ]
  },
  {
   "cell_type": "markdown",
   "id": "7de585ee",
   "metadata": {},
   "source": [
    "Afin de déterminer les different valeur de chaque attribut ,on a fait appel à la visualition des colonnes catégorielles par un diagramme à baton."
   ]
  },
  {
   "cell_type": "code",
   "execution_count": 15,
   "id": "0102f2f2",
   "metadata": {
    "id": "0102f2f2",
    "outputId": "d12602d4-d6a5-484c-8cbc-4743ac9073d0",
    "scrolled": true
   },
   "outputs": [
    {
     "name": "stderr",
     "output_type": "stream",
     "text": [
      "C:\\Users\\Sirine\\anaconda3\\lib\\site-packages\\seaborn\\_decorators.py:36: FutureWarning: Pass the following variable as a keyword arg: x. From version 0.12, the only valid positional argument will be `data`, and passing other arguments without an explicit keyword will result in an error or misinterpretation.\n",
      "  warnings.warn(\n",
      "C:\\Users\\Sirine\\anaconda3\\lib\\site-packages\\seaborn\\_decorators.py:36: FutureWarning: Pass the following variable as a keyword arg: x. From version 0.12, the only valid positional argument will be `data`, and passing other arguments without an explicit keyword will result in an error or misinterpretation.\n",
      "  warnings.warn(\n",
      "C:\\Users\\Sirine\\anaconda3\\lib\\site-packages\\seaborn\\_decorators.py:36: FutureWarning: Pass the following variable as a keyword arg: x. From version 0.12, the only valid positional argument will be `data`, and passing other arguments without an explicit keyword will result in an error or misinterpretation.\n",
      "  warnings.warn(\n",
      "C:\\Users\\Sirine\\anaconda3\\lib\\site-packages\\seaborn\\_decorators.py:36: FutureWarning: Pass the following variable as a keyword arg: x. From version 0.12, the only valid positional argument will be `data`, and passing other arguments without an explicit keyword will result in an error or misinterpretation.\n",
      "  warnings.warn(\n",
      "C:\\Users\\Sirine\\anaconda3\\lib\\site-packages\\seaborn\\_decorators.py:36: FutureWarning: Pass the following variable as a keyword arg: x. From version 0.12, the only valid positional argument will be `data`, and passing other arguments without an explicit keyword will result in an error or misinterpretation.\n",
      "  warnings.warn(\n",
      "C:\\Users\\Sirine\\anaconda3\\lib\\site-packages\\seaborn\\_decorators.py:36: FutureWarning: Pass the following variable as a keyword arg: x. From version 0.12, the only valid positional argument will be `data`, and passing other arguments without an explicit keyword will result in an error or misinterpretation.\n",
      "  warnings.warn(\n",
      "C:\\Users\\Sirine\\anaconda3\\lib\\site-packages\\seaborn\\_decorators.py:36: FutureWarning: Pass the following variable as a keyword arg: x. From version 0.12, the only valid positional argument will be `data`, and passing other arguments without an explicit keyword will result in an error or misinterpretation.\n",
      "  warnings.warn(\n",
      "C:\\Users\\Sirine\\anaconda3\\lib\\site-packages\\seaborn\\_decorators.py:36: FutureWarning: Pass the following variable as a keyword arg: x. From version 0.12, the only valid positional argument will be `data`, and passing other arguments without an explicit keyword will result in an error or misinterpretation.\n",
      "  warnings.warn(\n",
      "C:\\Users\\Sirine\\anaconda3\\lib\\site-packages\\seaborn\\_decorators.py:36: FutureWarning: Pass the following variable as a keyword arg: x. From version 0.12, the only valid positional argument will be `data`, and passing other arguments without an explicit keyword will result in an error or misinterpretation.\n",
      "  warnings.warn(\n",
      "C:\\Users\\Sirine\\anaconda3\\lib\\site-packages\\seaborn\\_decorators.py:36: FutureWarning: Pass the following variable as a keyword arg: x. From version 0.12, the only valid positional argument will be `data`, and passing other arguments without an explicit keyword will result in an error or misinterpretation.\n",
      "  warnings.warn(\n",
      "C:\\Users\\Sirine\\anaconda3\\lib\\site-packages\\seaborn\\_decorators.py:36: FutureWarning: Pass the following variable as a keyword arg: x. From version 0.12, the only valid positional argument will be `data`, and passing other arguments without an explicit keyword will result in an error or misinterpretation.\n",
      "  warnings.warn(\n"
     ]
    },
    {
     "data": {
      "image/png": "[encoded data removed]",
      "text/plain": [
       "<Figure size 1440x1080 with 11 Axes>"
      ]
     },
     "metadata": {
      "needs_background": "light"
     },
     "output_type": "display_data"
    }
   ],
   "source": [
    "import matplotlib.pyplot as plt\n",
    "import seaborn as sns\n",
    "plt.figure(figsize = (20, 15))\n",
    "plotnumber = 1\n",
    "\n",
    "for column in dtype_object:\n",
    "    if plotnumber <= 11:\n",
    "        ax = plt.subplot(3, 4, plotnumber)\n",
    "        sns.countplot(data[column], palette = 'rocket')\n",
    "        plt.xlabel(column)\n",
    "        \n",
    "    plotnumber += 1\n",
    "\n",
    "plt.tight_layout()\n",
    "plt.show()"
   ]
  },
  {
   "cell_type": "markdown",
   "id": "6MwWwqz-39GG",
   "metadata": {
    "id": "6MwWwqz-39GG"
   },
   "source": [
    "A ce niveau , on va concater les deux parties de notre dataset (objet et float) aprés les modification apporté ."
   ]
  },
  {
   "cell_type": "code",
   "execution_count": 13,
   "id": "6ac210ab",
   "metadata": {
    "id": "6ac210ab"
   },
   "outputs": [],
   "source": [
    "data= pd.concat([dtype_float,dtype_object], axis=1)"
   ]
  },
  {
   "cell_type": "markdown",
   "id": "ojp2RwSg4PSu",
   "metadata": {
    "id": "ojp2RwSg4PSu"
   },
   "source": [
    "Comme vous voyez si dessous , on a obtenu une dataset avec tout les attribut "
   ]
  },
  {
   "cell_type": "code",
   "execution_count": 14,
   "id": "1387f747",
   "metadata": {
    "id": "1387f747",
    "outputId": "631f11f0-b5e5-4fb2-90f7-2c9ed02cb42f"
   },
   "outputs": [
    {
     "data": {
      "text/html": [
       "<div>\n",
       "<style scoped>\n",
       "    .dataframe tbody tr th:only-of-type {\n",
       "        vertical-align: middle;\n",
       "    }\n",
       "\n",
       "    .dataframe tbody tr th {\n",
       "        vertical-align: top;\n",
       "    }\n",
       "\n",
       "    .dataframe thead th {\n",
       "        text-align: right;\n",
       "    }\n",
       "</style>\n",
       "<table border=\"1\" class=\"dataframe\">\n",
       "  <thead>\n",
       "    <tr style=\"text-align: right;\">\n",
       "      <th></th>\n",
       "      <th>age</th>\n",
       "      <th>bp</th>\n",
       "      <th>sg</th>\n",
       "      <th>al</th>\n",
       "      <th>su</th>\n",
       "      <th>bgr</th>\n",
       "      <th>bu</th>\n",
       "      <th>sc</th>\n",
       "      <th>sod</th>\n",
       "      <th>pot</th>\n",
       "      <th>...</th>\n",
       "      <th>pc</th>\n",
       "      <th>pcc</th>\n",
       "      <th>ba</th>\n",
       "      <th>htn</th>\n",
       "      <th>dm</th>\n",
       "      <th>cad</th>\n",
       "      <th>appet</th>\n",
       "      <th>pe</th>\n",
       "      <th>ane</th>\n",
       "      <th>class</th>\n",
       "    </tr>\n",
       "  </thead>\n",
       "  <tbody>\n",
       "    <tr>\n",
       "      <th>0</th>\n",
       "      <td>48.0</td>\n",
       "      <td>80.0</td>\n",
       "      <td>1.020</td>\n",
       "      <td>1.0</td>\n",
       "      <td>0.0</td>\n",
       "      <td>121.000000</td>\n",
       "      <td>36.0</td>\n",
       "      <td>1.2</td>\n",
       "      <td>137.508013</td>\n",
       "      <td>4.630868</td>\n",
       "      <td>...</td>\n",
       "      <td>normal</td>\n",
       "      <td>notpresent</td>\n",
       "      <td>notpresent</td>\n",
       "      <td>yes</td>\n",
       "      <td>yes</td>\n",
       "      <td>no</td>\n",
       "      <td>good</td>\n",
       "      <td>no</td>\n",
       "      <td>no</td>\n",
       "      <td>ckd</td>\n",
       "    </tr>\n",
       "    <tr>\n",
       "      <th>1</th>\n",
       "      <td>7.0</td>\n",
       "      <td>50.0</td>\n",
       "      <td>1.020</td>\n",
       "      <td>4.0</td>\n",
       "      <td>0.0</td>\n",
       "      <td>147.864407</td>\n",
       "      <td>18.0</td>\n",
       "      <td>0.8</td>\n",
       "      <td>137.508013</td>\n",
       "      <td>4.630868</td>\n",
       "      <td>...</td>\n",
       "      <td>normal</td>\n",
       "      <td>notpresent</td>\n",
       "      <td>notpresent</td>\n",
       "      <td>no</td>\n",
       "      <td>no</td>\n",
       "      <td>no</td>\n",
       "      <td>good</td>\n",
       "      <td>no</td>\n",
       "      <td>no</td>\n",
       "      <td>ckd</td>\n",
       "    </tr>\n",
       "    <tr>\n",
       "      <th>2</th>\n",
       "      <td>62.0</td>\n",
       "      <td>80.0</td>\n",
       "      <td>1.010</td>\n",
       "      <td>2.0</td>\n",
       "      <td>3.0</td>\n",
       "      <td>423.000000</td>\n",
       "      <td>53.0</td>\n",
       "      <td>1.8</td>\n",
       "      <td>137.508013</td>\n",
       "      <td>4.630868</td>\n",
       "      <td>...</td>\n",
       "      <td>normal</td>\n",
       "      <td>notpresent</td>\n",
       "      <td>notpresent</td>\n",
       "      <td>no</td>\n",
       "      <td>yes</td>\n",
       "      <td>no</td>\n",
       "      <td>poor</td>\n",
       "      <td>no</td>\n",
       "      <td>yes</td>\n",
       "      <td>ckd</td>\n",
       "    </tr>\n",
       "    <tr>\n",
       "      <th>3</th>\n",
       "      <td>48.0</td>\n",
       "      <td>70.0</td>\n",
       "      <td>1.005</td>\n",
       "      <td>4.0</td>\n",
       "      <td>0.0</td>\n",
       "      <td>117.000000</td>\n",
       "      <td>56.0</td>\n",
       "      <td>3.8</td>\n",
       "      <td>111.000000</td>\n",
       "      <td>2.500000</td>\n",
       "      <td>...</td>\n",
       "      <td>abnormal</td>\n",
       "      <td>present</td>\n",
       "      <td>notpresent</td>\n",
       "      <td>yes</td>\n",
       "      <td>no</td>\n",
       "      <td>no</td>\n",
       "      <td>poor</td>\n",
       "      <td>yes</td>\n",
       "      <td>yes</td>\n",
       "      <td>ckd</td>\n",
       "    </tr>\n",
       "    <tr>\n",
       "      <th>4</th>\n",
       "      <td>51.0</td>\n",
       "      <td>80.0</td>\n",
       "      <td>1.010</td>\n",
       "      <td>2.0</td>\n",
       "      <td>0.0</td>\n",
       "      <td>106.000000</td>\n",
       "      <td>26.0</td>\n",
       "      <td>1.4</td>\n",
       "      <td>137.508013</td>\n",
       "      <td>4.630868</td>\n",
       "      <td>...</td>\n",
       "      <td>normal</td>\n",
       "      <td>notpresent</td>\n",
       "      <td>notpresent</td>\n",
       "      <td>no</td>\n",
       "      <td>no</td>\n",
       "      <td>no</td>\n",
       "      <td>good</td>\n",
       "      <td>no</td>\n",
       "      <td>no</td>\n",
       "      <td>ckd</td>\n",
       "    </tr>\n",
       "  </tbody>\n",
       "</table>\n",
       "<p>5 rows × 25 columns</p>\n",
       "</div>"
      ],
      "text/plain": [
       "    age    bp     sg   al   su         bgr    bu   sc         sod       pot  \\\n",
       "0  48.0  80.0  1.020  1.0  0.0  121.000000  36.0  1.2  137.508013  4.630868   \n",
       "1   7.0  50.0  1.020  4.0  0.0  147.864407  18.0  0.8  137.508013  4.630868   \n",
       "2  62.0  80.0  1.010  2.0  3.0  423.000000  53.0  1.8  137.508013  4.630868   \n",
       "3  48.0  70.0  1.005  4.0  0.0  117.000000  56.0  3.8  111.000000  2.500000   \n",
       "4  51.0  80.0  1.010  2.0  0.0  106.000000  26.0  1.4  137.508013  4.630868   \n",
       "\n",
       "   ...        pc         pcc          ba  htn   dm cad appet   pe  ane class  \n",
       "0  ...    normal  notpresent  notpresent  yes  yes  no  good   no   no   ckd  \n",
       "1  ...    normal  notpresent  notpresent   no   no  no  good   no   no   ckd  \n",
       "2  ...    normal  notpresent  notpresent   no  yes  no  poor   no  yes   ckd  \n",
       "3  ...  abnormal     present  notpresent  yes   no  no  poor  yes  yes   ckd  \n",
       "4  ...    normal  notpresent  notpresent   no   no  no  good   no   no   ckd  \n",
       "\n",
       "[5 rows x 25 columns]"
      ]
     },
     "execution_count": 14,
     "metadata": {},
     "output_type": "execute_result"
    }
   ],
   "source": [
    "data.head()"
   ]
  },
  {
   "cell_type": "markdown",
   "id": "nlODDQ-G5QPV",
   "metadata": {
    "id": "nlODDQ-G5QPV"
   },
   "source": [
    "On va appliquer directement la méthode get dummies sur le dataframe car son algorithme à l'intérieur reconnaîtra les caractéristiques catégorielles et effectuera les conversions nécessaires."
   ]
  },
  {
   "cell_type": "code",
   "execution_count": 15,
   "id": "daf2c5ae",
   "metadata": {
    "id": "daf2c5ae"
   },
   "outputs": [],
   "source": [
    "data = pd.get_dummies(data, prefix_sep='_', drop_first=True)"
   ]
  },
  {
   "cell_type": "code",
   "execution_count": 16,
   "id": "f6f2a622",
   "metadata": {
    "id": "f6f2a622",
    "outputId": "0f314075-0f47-47b3-b231-45685d9e87b9"
   },
   "outputs": [
    {
     "data": {
      "text/html": [
       "<div>\n",
       "<style scoped>\n",
       "    .dataframe tbody tr th:only-of-type {\n",
       "        vertical-align: middle;\n",
       "    }\n",
       "\n",
       "    .dataframe tbody tr th {\n",
       "        vertical-align: top;\n",
       "    }\n",
       "\n",
       "    .dataframe thead th {\n",
       "        text-align: right;\n",
       "    }\n",
       "</style>\n",
       "<table border=\"1\" class=\"dataframe\">\n",
       "  <thead>\n",
       "    <tr style=\"text-align: right;\">\n",
       "      <th></th>\n",
       "      <th>age</th>\n",
       "      <th>bp</th>\n",
       "      <th>sg</th>\n",
       "      <th>al</th>\n",
       "      <th>su</th>\n",
       "      <th>bgr</th>\n",
       "      <th>bu</th>\n",
       "      <th>sc</th>\n",
       "      <th>sod</th>\n",
       "      <th>pot</th>\n",
       "      <th>...</th>\n",
       "      <th>pc_normal</th>\n",
       "      <th>pcc_present</th>\n",
       "      <th>ba_present</th>\n",
       "      <th>htn_yes</th>\n",
       "      <th>dm_yes</th>\n",
       "      <th>cad_yes</th>\n",
       "      <th>appet_poor</th>\n",
       "      <th>pe_yes</th>\n",
       "      <th>ane_yes</th>\n",
       "      <th>class_notckd</th>\n",
       "    </tr>\n",
       "  </thead>\n",
       "  <tbody>\n",
       "    <tr>\n",
       "      <th>0</th>\n",
       "      <td>48.0</td>\n",
       "      <td>80.0</td>\n",
       "      <td>1.020</td>\n",
       "      <td>1.0</td>\n",
       "      <td>0.0</td>\n",
       "      <td>121.000000</td>\n",
       "      <td>36.0</td>\n",
       "      <td>1.2</td>\n",
       "      <td>137.508013</td>\n",
       "      <td>4.630868</td>\n",
       "      <td>...</td>\n",
       "      <td>1</td>\n",
       "      <td>0</td>\n",
       "      <td>0</td>\n",
       "      <td>1</td>\n",
       "      <td>1</td>\n",
       "      <td>0</td>\n",
       "      <td>0</td>\n",
       "      <td>0</td>\n",
       "      <td>0</td>\n",
       "      <td>0</td>\n",
       "    </tr>\n",
       "    <tr>\n",
       "      <th>1</th>\n",
       "      <td>7.0</td>\n",
       "      <td>50.0</td>\n",
       "      <td>1.020</td>\n",
       "      <td>4.0</td>\n",
       "      <td>0.0</td>\n",
       "      <td>147.864407</td>\n",
       "      <td>18.0</td>\n",
       "      <td>0.8</td>\n",
       "      <td>137.508013</td>\n",
       "      <td>4.630868</td>\n",
       "      <td>...</td>\n",
       "      <td>1</td>\n",
       "      <td>0</td>\n",
       "      <td>0</td>\n",
       "      <td>0</td>\n",
       "      <td>0</td>\n",
       "      <td>0</td>\n",
       "      <td>0</td>\n",
       "      <td>0</td>\n",
       "      <td>0</td>\n",
       "      <td>0</td>\n",
       "    </tr>\n",
       "    <tr>\n",
       "      <th>2</th>\n",
       "      <td>62.0</td>\n",
       "      <td>80.0</td>\n",
       "      <td>1.010</td>\n",
       "      <td>2.0</td>\n",
       "      <td>3.0</td>\n",
       "      <td>423.000000</td>\n",
       "      <td>53.0</td>\n",
       "      <td>1.8</td>\n",
       "      <td>137.508013</td>\n",
       "      <td>4.630868</td>\n",
       "      <td>...</td>\n",
       "      <td>1</td>\n",
       "      <td>0</td>\n",
       "      <td>0</td>\n",
       "      <td>0</td>\n",
       "      <td>1</td>\n",
       "      <td>0</td>\n",
       "      <td>1</td>\n",
       "      <td>0</td>\n",
       "      <td>1</td>\n",
       "      <td>0</td>\n",
       "    </tr>\n",
       "    <tr>\n",
       "      <th>3</th>\n",
       "      <td>48.0</td>\n",
       "      <td>70.0</td>\n",
       "      <td>1.005</td>\n",
       "      <td>4.0</td>\n",
       "      <td>0.0</td>\n",
       "      <td>117.000000</td>\n",
       "      <td>56.0</td>\n",
       "      <td>3.8</td>\n",
       "      <td>111.000000</td>\n",
       "      <td>2.500000</td>\n",
       "      <td>...</td>\n",
       "      <td>0</td>\n",
       "      <td>1</td>\n",
       "      <td>0</td>\n",
       "      <td>1</td>\n",
       "      <td>0</td>\n",
       "      <td>0</td>\n",
       "      <td>1</td>\n",
       "      <td>1</td>\n",
       "      <td>1</td>\n",
       "      <td>0</td>\n",
       "    </tr>\n",
       "    <tr>\n",
       "      <th>4</th>\n",
       "      <td>51.0</td>\n",
       "      <td>80.0</td>\n",
       "      <td>1.010</td>\n",
       "      <td>2.0</td>\n",
       "      <td>0.0</td>\n",
       "      <td>106.000000</td>\n",
       "      <td>26.0</td>\n",
       "      <td>1.4</td>\n",
       "      <td>137.508013</td>\n",
       "      <td>4.630868</td>\n",
       "      <td>...</td>\n",
       "      <td>1</td>\n",
       "      <td>0</td>\n",
       "      <td>0</td>\n",
       "      <td>0</td>\n",
       "      <td>0</td>\n",
       "      <td>0</td>\n",
       "      <td>0</td>\n",
       "      <td>0</td>\n",
       "      <td>0</td>\n",
       "      <td>0</td>\n",
       "    </tr>\n",
       "  </tbody>\n",
       "</table>\n",
       "<p>5 rows × 25 columns</p>\n",
       "</div>"
      ],
      "text/plain": [
       "    age    bp     sg   al   su         bgr    bu   sc         sod       pot  \\\n",
       "0  48.0  80.0  1.020  1.0  0.0  121.000000  36.0  1.2  137.508013  4.630868   \n",
       "1   7.0  50.0  1.020  4.0  0.0  147.864407  18.0  0.8  137.508013  4.630868   \n",
       "2  62.0  80.0  1.010  2.0  3.0  423.000000  53.0  1.8  137.508013  4.630868   \n",
       "3  48.0  70.0  1.005  4.0  0.0  117.000000  56.0  3.8  111.000000  2.500000   \n",
       "4  51.0  80.0  1.010  2.0  0.0  106.000000  26.0  1.4  137.508013  4.630868   \n",
       "\n",
       "   ...  pc_normal  pcc_present  ba_present  htn_yes  dm_yes  cad_yes  \\\n",
       "0  ...          1            0           0        1       1        0   \n",
       "1  ...          1            0           0        0       0        0   \n",
       "2  ...          1            0           0        0       1        0   \n",
       "3  ...          0            1           0        1       0        0   \n",
       "4  ...          1            0           0        0       0        0   \n",
       "\n",
       "   appet_poor  pe_yes  ane_yes  class_notckd  \n",
       "0           0       0        0             0  \n",
       "1           0       0        0             0  \n",
       "2           1       0        1             0  \n",
       "3           1       1        1             0  \n",
       "4           0       0        0             0  \n",
       "\n",
       "[5 rows x 25 columns]"
      ]
     },
     "execution_count": 16,
     "metadata": {},
     "output_type": "execute_result"
    }
   ],
   "source": [
    "data.head()"
   ]
  },
  {
   "cell_type": "markdown",
   "id": "kmkdAYoH8EHo",
   "metadata": {
    "id": "kmkdAYoH8EHo"
   },
   "source": [
    "comme vous voyez dans le tableau ci-dessus ,les champs qui ont été occupé par des valeurs catégorielles contiennent maintenant des valeurs binaire . "
   ]
  },
  {
   "cell_type": "code",
   "execution_count": 17,
   "id": "f083fbd9",
   "metadata": {
    "id": "f083fbd9",
    "outputId": "1cffbda4-5899-42b5-e110-1b118bad4983"
   },
   "outputs": [
    {
     "data": {
      "text/html": [
       "<div>\n",
       "<style scoped>\n",
       "    .dataframe tbody tr th:only-of-type {\n",
       "        vertical-align: middle;\n",
       "    }\n",
       "\n",
       "    .dataframe tbody tr th {\n",
       "        vertical-align: top;\n",
       "    }\n",
       "\n",
       "    .dataframe thead th {\n",
       "        text-align: right;\n",
       "    }\n",
       "</style>\n",
       "<table border=\"1\" class=\"dataframe\">\n",
       "  <thead>\n",
       "    <tr style=\"text-align: right;\">\n",
       "      <th></th>\n",
       "      <th>age</th>\n",
       "      <th>bp</th>\n",
       "      <th>sg</th>\n",
       "      <th>al</th>\n",
       "      <th>su</th>\n",
       "      <th>bgr</th>\n",
       "      <th>bu</th>\n",
       "      <th>sc</th>\n",
       "      <th>sod</th>\n",
       "      <th>pot</th>\n",
       "      <th>...</th>\n",
       "      <th>pc_normal</th>\n",
       "      <th>pcc_present</th>\n",
       "      <th>ba_present</th>\n",
       "      <th>htn_yes</th>\n",
       "      <th>dm_yes</th>\n",
       "      <th>cad_yes</th>\n",
       "      <th>appet_poor</th>\n",
       "      <th>pe_yes</th>\n",
       "      <th>ane_yes</th>\n",
       "      <th>class_notckd</th>\n",
       "    </tr>\n",
       "  </thead>\n",
       "  <tbody>\n",
       "    <tr>\n",
       "      <th>count</th>\n",
       "      <td>397.000000</td>\n",
       "      <td>397.000000</td>\n",
       "      <td>397.000000</td>\n",
       "      <td>397.000000</td>\n",
       "      <td>397.000000</td>\n",
       "      <td>397.000000</td>\n",
       "      <td>397.000000</td>\n",
       "      <td>397.000000</td>\n",
       "      <td>397.000000</td>\n",
       "      <td>397.000000</td>\n",
       "      <td>...</td>\n",
       "      <td>397.000000</td>\n",
       "      <td>397.000000</td>\n",
       "      <td>397.000000</td>\n",
       "      <td>397.000000</td>\n",
       "      <td>397.000000</td>\n",
       "      <td>397.000000</td>\n",
       "      <td>397.000000</td>\n",
       "      <td>397.000000</td>\n",
       "      <td>397.000000</td>\n",
       "      <td>397.000000</td>\n",
       "    </tr>\n",
       "    <tr>\n",
       "      <th>mean</th>\n",
       "      <td>51.456186</td>\n",
       "      <td>76.467532</td>\n",
       "      <td>1.017429</td>\n",
       "      <td>1.017094</td>\n",
       "      <td>0.433908</td>\n",
       "      <td>147.864407</td>\n",
       "      <td>57.608995</td>\n",
       "      <td>3.088289</td>\n",
       "      <td>137.508013</td>\n",
       "      <td>4.630868</td>\n",
       "      <td>...</td>\n",
       "      <td>0.811083</td>\n",
       "      <td>0.103275</td>\n",
       "      <td>0.055416</td>\n",
       "      <td>0.367758</td>\n",
       "      <td>0.340050</td>\n",
       "      <td>0.085642</td>\n",
       "      <td>0.206549</td>\n",
       "      <td>0.188917</td>\n",
       "      <td>0.151134</td>\n",
       "      <td>0.375315</td>\n",
       "    </tr>\n",
       "    <tr>\n",
       "      <th>std</th>\n",
       "      <td>16.938112</td>\n",
       "      <td>13.502323</td>\n",
       "      <td>0.005374</td>\n",
       "      <td>1.271182</td>\n",
       "      <td>1.009400</td>\n",
       "      <td>74.861716</td>\n",
       "      <td>49.421022</td>\n",
       "      <td>5.635975</td>\n",
       "      <td>9.233329</td>\n",
       "      <td>2.829875</td>\n",
       "      <td>...</td>\n",
       "      <td>0.391937</td>\n",
       "      <td>0.304701</td>\n",
       "      <td>0.229078</td>\n",
       "      <td>0.482804</td>\n",
       "      <td>0.474324</td>\n",
       "      <td>0.280188</td>\n",
       "      <td>0.405340</td>\n",
       "      <td>0.391937</td>\n",
       "      <td>0.358631</td>\n",
       "      <td>0.484815</td>\n",
       "    </tr>\n",
       "    <tr>\n",
       "      <th>min</th>\n",
       "      <td>2.000000</td>\n",
       "      <td>50.000000</td>\n",
       "      <td>1.005000</td>\n",
       "      <td>0.000000</td>\n",
       "      <td>0.000000</td>\n",
       "      <td>22.000000</td>\n",
       "      <td>1.500000</td>\n",
       "      <td>0.400000</td>\n",
       "      <td>4.500000</td>\n",
       "      <td>2.500000</td>\n",
       "      <td>...</td>\n",
       "      <td>0.000000</td>\n",
       "      <td>0.000000</td>\n",
       "      <td>0.000000</td>\n",
       "      <td>0.000000</td>\n",
       "      <td>0.000000</td>\n",
       "      <td>0.000000</td>\n",
       "      <td>0.000000</td>\n",
       "      <td>0.000000</td>\n",
       "      <td>0.000000</td>\n",
       "      <td>0.000000</td>\n",
       "    </tr>\n",
       "    <tr>\n",
       "      <th>25%</th>\n",
       "      <td>42.000000</td>\n",
       "      <td>70.000000</td>\n",
       "      <td>1.015000</td>\n",
       "      <td>0.000000</td>\n",
       "      <td>0.000000</td>\n",
       "      <td>101.000000</td>\n",
       "      <td>27.000000</td>\n",
       "      <td>0.900000</td>\n",
       "      <td>135.000000</td>\n",
       "      <td>4.000000</td>\n",
       "      <td>...</td>\n",
       "      <td>1.000000</td>\n",
       "      <td>0.000000</td>\n",
       "      <td>0.000000</td>\n",
       "      <td>0.000000</td>\n",
       "      <td>0.000000</td>\n",
       "      <td>0.000000</td>\n",
       "      <td>0.000000</td>\n",
       "      <td>0.000000</td>\n",
       "      <td>0.000000</td>\n",
       "      <td>0.000000</td>\n",
       "    </tr>\n",
       "    <tr>\n",
       "      <th>50%</th>\n",
       "      <td>54.000000</td>\n",
       "      <td>80.000000</td>\n",
       "      <td>1.017429</td>\n",
       "      <td>1.000000</td>\n",
       "      <td>0.000000</td>\n",
       "      <td>125.000000</td>\n",
       "      <td>44.000000</td>\n",
       "      <td>1.400000</td>\n",
       "      <td>137.508013</td>\n",
       "      <td>4.630868</td>\n",
       "      <td>...</td>\n",
       "      <td>1.000000</td>\n",
       "      <td>0.000000</td>\n",
       "      <td>0.000000</td>\n",
       "      <td>0.000000</td>\n",
       "      <td>0.000000</td>\n",
       "      <td>0.000000</td>\n",
       "      <td>0.000000</td>\n",
       "      <td>0.000000</td>\n",
       "      <td>0.000000</td>\n",
       "      <td>0.000000</td>\n",
       "    </tr>\n",
       "    <tr>\n",
       "      <th>75%</th>\n",
       "      <td>64.000000</td>\n",
       "      <td>80.000000</td>\n",
       "      <td>1.020000</td>\n",
       "      <td>2.000000</td>\n",
       "      <td>0.433908</td>\n",
       "      <td>150.000000</td>\n",
       "      <td>64.000000</td>\n",
       "      <td>3.088289</td>\n",
       "      <td>141.000000</td>\n",
       "      <td>4.800000</td>\n",
       "      <td>...</td>\n",
       "      <td>1.000000</td>\n",
       "      <td>0.000000</td>\n",
       "      <td>0.000000</td>\n",
       "      <td>1.000000</td>\n",
       "      <td>1.000000</td>\n",
       "      <td>0.000000</td>\n",
       "      <td>0.000000</td>\n",
       "      <td>0.000000</td>\n",
       "      <td>0.000000</td>\n",
       "      <td>1.000000</td>\n",
       "    </tr>\n",
       "    <tr>\n",
       "      <th>max</th>\n",
       "      <td>90.000000</td>\n",
       "      <td>180.000000</td>\n",
       "      <td>1.025000</td>\n",
       "      <td>5.000000</td>\n",
       "      <td>5.000000</td>\n",
       "      <td>490.000000</td>\n",
       "      <td>391.000000</td>\n",
       "      <td>76.000000</td>\n",
       "      <td>163.000000</td>\n",
       "      <td>47.000000</td>\n",
       "      <td>...</td>\n",
       "      <td>1.000000</td>\n",
       "      <td>1.000000</td>\n",
       "      <td>1.000000</td>\n",
       "      <td>1.000000</td>\n",
       "      <td>1.000000</td>\n",
       "      <td>1.000000</td>\n",
       "      <td>1.000000</td>\n",
       "      <td>1.000000</td>\n",
       "      <td>1.000000</td>\n",
       "      <td>1.000000</td>\n",
       "    </tr>\n",
       "  </tbody>\n",
       "</table>\n",
       "<p>8 rows × 25 columns</p>\n",
       "</div>"
      ],
      "text/plain": [
       "              age          bp          sg          al          su         bgr  \\\n",
       "count  397.000000  397.000000  397.000000  397.000000  397.000000  397.000000   \n",
       "mean    51.456186   76.467532    1.017429    1.017094    0.433908  147.864407   \n",
       "std     16.938112   13.502323    0.005374    1.271182    1.009400   74.861716   \n",
       "min      2.000000   50.000000    1.005000    0.000000    0.000000   22.000000   \n",
       "25%     42.000000   70.000000    1.015000    0.000000    0.000000  101.000000   \n",
       "50%     54.000000   80.000000    1.017429    1.000000    0.000000  125.000000   \n",
       "75%     64.000000   80.000000    1.020000    2.000000    0.433908  150.000000   \n",
       "max     90.000000  180.000000    1.025000    5.000000    5.000000  490.000000   \n",
       "\n",
       "               bu          sc         sod         pot  ...   pc_normal  \\\n",
       "count  397.000000  397.000000  397.000000  397.000000  ...  397.000000   \n",
       "mean    57.608995    3.088289  137.508013    4.630868  ...    0.811083   \n",
       "std     49.421022    5.635975    9.233329    2.829875  ...    0.391937   \n",
       "min      1.500000    0.400000    4.500000    2.500000  ...    0.000000   \n",
       "25%     27.000000    0.900000  135.000000    4.000000  ...    1.000000   \n",
       "50%     44.000000    1.400000  137.508013    4.630868  ...    1.000000   \n",
       "75%     64.000000    3.088289  141.000000    4.800000  ...    1.000000   \n",
       "max    391.000000   76.000000  163.000000   47.000000  ...    1.000000   \n",
       "\n",
       "       pcc_present  ba_present     htn_yes      dm_yes     cad_yes  \\\n",
       "count   397.000000  397.000000  397.000000  397.000000  397.000000   \n",
       "mean      0.103275    0.055416    0.367758    0.340050    0.085642   \n",
       "std       0.304701    0.229078    0.482804    0.474324    0.280188   \n",
       "min       0.000000    0.000000    0.000000    0.000000    0.000000   \n",
       "25%       0.000000    0.000000    0.000000    0.000000    0.000000   \n",
       "50%       0.000000    0.000000    0.000000    0.000000    0.000000   \n",
       "75%       0.000000    0.000000    1.000000    1.000000    0.000000   \n",
       "max       1.000000    1.000000    1.000000    1.000000    1.000000   \n",
       "\n",
       "       appet_poor      pe_yes     ane_yes  class_notckd  \n",
       "count  397.000000  397.000000  397.000000    397.000000  \n",
       "mean     0.206549    0.188917    0.151134      0.375315  \n",
       "std      0.405340    0.391937    0.358631      0.484815  \n",
       "min      0.000000    0.000000    0.000000      0.000000  \n",
       "25%      0.000000    0.000000    0.000000      0.000000  \n",
       "50%      0.000000    0.000000    0.000000      0.000000  \n",
       "75%      0.000000    0.000000    0.000000      1.000000  \n",
       "max      1.000000    1.000000    1.000000      1.000000  \n",
       "\n",
       "[8 rows x 25 columns]"
      ]
     },
     "execution_count": 17,
     "metadata": {},
     "output_type": "execute_result"
    }
   ],
   "source": [
    "data.describe()"
   ]
  },
  {
   "cell_type": "markdown",
   "id": "eb518f49",
   "metadata": {
    "id": "eb518f49"
   },
   "source": [
    "# # Visualise the outliers using the boxplot representation # #\n"
   ]
  },
  {
   "cell_type": "markdown",
   "id": "4b57022b",
   "metadata": {},
   "source": [
    "A ce niveau là,on va étudier les valeurs aberrantes s'ils existent ."
   ]
  },
  {
   "cell_type": "markdown",
   "id": "81414320",
   "metadata": {},
   "source": [
    "Pour cela on a employé deux type de visualisation: le boxplot et le histogramme."
   ]
  },
  {
   "cell_type": "markdown",
   "id": "56610c32",
   "metadata": {},
   "source": [
    "# les valeurs aberrantes d'age "
   ]
  },
  {
   "cell_type": "code",
   "execution_count": 18,
   "id": "15258136",
   "metadata": {
    "id": "15258136",
    "outputId": "f9613c90-7a41-42fc-cc36-ad687c101ed4"
   },
   "outputs": [
    {
     "name": "stderr",
     "output_type": "stream",
     "text": [
      "C:\\Users\\lasmer brahim\\anaconda3\\lib\\site-packages\\seaborn\\distributions.py:2619: FutureWarning: `distplot` is a deprecated function and will be removed in a future version. Please adapt your code to use either `displot` (a figure-level function with similar flexibility) or `histplot` (an axes-level function for histograms).\n",
      "  warnings.warn(msg, FutureWarning)\n"
     ]
    },
    {
     "data": {
      "image/png": "[encoded data removed]",
      "text/plain": [
       "<Figure size 1152x360 with 2 Axes>"
      ]
     },
     "metadata": {
      "needs_background": "light"
     },
     "output_type": "display_data"
    }
   ],
   "source": [
    "plt.subplot(121), sns.distplot(data['age'])\n",
    "plt.subplot(122), data['age'].plot.box(figsize=(16,5))\n",
    "plt.show()"
   ]
  },
  {
   "cell_type": "markdown",
   "id": "62950dcc",
   "metadata": {},
   "source": [
    "On se basant sur les diagramme en dessus ,on peut voir qu'il existe des valeurs aberrantes au dessous du  borne inférieure du boxplot ."
   ]
  },
  {
   "cell_type": "markdown",
   "id": "d76dbc5f",
   "metadata": {},
   "source": [
    "# les valeurs aberrantes de bp "
   ]
  },
  {
   "cell_type": "code",
   "execution_count": 19,
   "id": "e6cc94e6",
   "metadata": {
    "id": "e6cc94e6",
    "outputId": "da9fbe8f-2b73-42bf-ce78-3eceeceb3cd8"
   },
   "outputs": [
    {
     "name": "stderr",
     "output_type": "stream",
     "text": [
      "C:\\Users\\lasmer brahim\\anaconda3\\lib\\site-packages\\seaborn\\distributions.py:2619: FutureWarning: `distplot` is a deprecated function and will be removed in a future version. Please adapt your code to use either `displot` (a figure-level function with similar flexibility) or `histplot` (an axes-level function for histograms).\n",
      "  warnings.warn(msg, FutureWarning)\n"
     ]
    },
    {
     "data": {
      "image/png": "[encoded data removed]",
      "text/plain": [
       "<Figure size 1152x360 with 2 Axes>"
      ]
     },
     "metadata": {
      "needs_background": "light"
     },
     "output_type": "display_data"
    }
   ],
   "source": [
    "plt.subplot(121), sns.distplot(data['bp'])\n",
    "plt.subplot(122), data['bp'].plot.box(figsize=(16,5))\n",
    "plt.show()"
   ]
  },
  {
   "cell_type": "markdown",
   "id": "a19dfc3e",
   "metadata": {},
   "source": [
    "On se basant sur les diagramme en dessus ,on peut voir  clairement qu'il existe des valeurs aberrantes au dessous du  borne inférieure et au dessus du borne supérieure du boxplot ."
   ]
  },
  {
   "cell_type": "markdown",
   "id": "f096c403",
   "metadata": {},
   "source": [
    "# les valeurs aberrantes de bgr"
   ]
  },
  {
   "cell_type": "code",
   "execution_count": 20,
   "id": "6a357418",
   "metadata": {},
   "outputs": [
    {
     "name": "stderr",
     "output_type": "stream",
     "text": [
      "C:\\Users\\lasmer brahim\\anaconda3\\lib\\site-packages\\seaborn\\distributions.py:2619: FutureWarning: `distplot` is a deprecated function and will be removed in a future version. Please adapt your code to use either `displot` (a figure-level function with similar flexibility) or `histplot` (an axes-level function for histograms).\n",
      "  warnings.warn(msg, FutureWarning)\n"
     ]
    },
    {
     "data": {
      "image/png": "[encoded data removed]",
      "text/plain": [
       "<Figure size 1152x360 with 2 Axes>"
      ]
     },
     "metadata": {
      "needs_background": "light"
     },
     "output_type": "display_data"
    }
   ],
   "source": [
    "plt.subplot(121), sns.distplot(data['bgr'])\n",
    "plt.subplot(122), data['bgr'].plot.box(figsize=(16,5))\n",
    "plt.show()"
   ]
  },
  {
   "cell_type": "markdown",
   "id": "e1471e29",
   "metadata": {},
   "source": [
    "On se basant sur les diagramme en dessus ,on peut voir  clairement qu'il existe des valeurs aberrantes au dessous du  borne inférieure et au dessus du borne supérieure du boxplot ."
   ]
  },
  {
   "cell_type": "markdown",
   "id": "11fd3d87",
   "metadata": {},
   "source": [
    "# les valeurs aberrantes de sg"
   ]
  },
  {
   "cell_type": "code",
   "execution_count": 21,
   "id": "f656d3e9",
   "metadata": {
    "id": "f656d3e9",
    "outputId": "de58a1e7-813d-4dae-beba-7c0af4c90164"
   },
   "outputs": [
    {
     "name": "stderr",
     "output_type": "stream",
     "text": [
      "C:\\Users\\lasmer brahim\\anaconda3\\lib\\site-packages\\seaborn\\distributions.py:2619: FutureWarning: `distplot` is a deprecated function and will be removed in a future version. Please adapt your code to use either `displot` (a figure-level function with similar flexibility) or `histplot` (an axes-level function for histograms).\n",
      "  warnings.warn(msg, FutureWarning)\n"
     ]
    },
    {
     "data": {
      "image/png": "[encoded data removed]",
      "text/plain": [
       "<Figure size 1152x360 with 2 Axes>"
      ]
     },
     "metadata": {
      "needs_background": "light"
     },
     "output_type": "display_data"
    }
   ],
   "source": [
    "plt.subplot(121), sns.distplot(data['sg'])\n",
    "plt.subplot(122), data['sg'].plot.box(figsize=(16,5))\n",
    "plt.show()"
   ]
  },
  {
   "cell_type": "markdown",
   "id": "3b4f549c",
   "metadata": {},
   "source": [
    "On se basant sur les diagramme en dessus ,on peut voir qu'il existe des valeurs aberrantes au dessous du  borne inférieure du boxplot ."
   ]
  },
  {
   "cell_type": "markdown",
   "id": "0529ec98",
   "metadata": {},
   "source": [
    "\n",
    "# les valeurs aberrantes de su"
   ]
  },
  {
   "cell_type": "code",
   "execution_count": 22,
   "id": "fe853cf4",
   "metadata": {
    "id": "fe853cf4",
    "outputId": "86a82669-9f9e-4aa8-eb01-c4dc026ef635"
   },
   "outputs": [
    {
     "name": "stderr",
     "output_type": "stream",
     "text": [
      "C:\\Users\\lasmer brahim\\anaconda3\\lib\\site-packages\\seaborn\\distributions.py:2619: FutureWarning: `distplot` is a deprecated function and will be removed in a future version. Please adapt your code to use either `displot` (a figure-level function with similar flexibility) or `histplot` (an axes-level function for histograms).\n",
      "  warnings.warn(msg, FutureWarning)\n"
     ]
    },
    {
     "data": {
      "image/png": "[encoded data removed]",
      "text/plain": [
       "<Figure size 1152x360 with 2 Axes>"
      ]
     },
     "metadata": {
      "needs_background": "light"
     },
     "output_type": "display_data"
    }
   ],
   "source": [
    "plt.subplot(121), sns.distplot(data['su'])\n",
    "plt.subplot(122), data['su'].plot.box(figsize=(16,5))\n",
    "plt.show()"
   ]
  },
  {
   "cell_type": "markdown",
   "id": "ce8621ed",
   "metadata": {},
   "source": [
    "On se basant sur les diagramme en dessus ,on peut voir qu'il existe des valeurs aberrantes au dessus du  borne inférieure du boxplot ."
   ]
  },
  {
   "cell_type": "markdown",
   "id": "3b1697a5",
   "metadata": {},
   "source": [
    "a ce niveau ,on va faire la vérification de la distribution des caractéristiques numériques"
   ]
  },
  {
   "cell_type": "code",
   "execution_count": 23,
   "id": "55ccf3f2",
   "metadata": {
    "id": "55ccf3f2",
    "outputId": "89ed75c5-b761-4b10-d80c-aa5c0eb14b6f"
   },
   "outputs": [
    {
     "data": {
      "image/png": "[encoded data removed]",
      "text/plain": [
       "<Figure size 1440x1440 with 25 Axes>"
      ]
     },
     "metadata": {
      "needs_background": "light"
     },
     "output_type": "display_data"
    }
   ],
   "source": [
    "def draw_histograms(dataframe, features, rows, cols):\n",
    "    fig=plt.figure(figsize=(20,20))\n",
    "    for i, feature in enumerate(features):\n",
    "        ax=fig.add_subplot(rows,cols,i+1)\n",
    "        dataframe[feature].hist(bins=20,ax=ax,facecolor='midnightblue')\n",
    "        ax.set_title(feature+\" Distribution\",color='DarkRed')\n",
    "        \n",
    "    fig.tight_layout()  \n",
    "    plt.show()\n",
    "draw_histograms(data,data.columns,10,10)"
   ]
  },
  {
   "cell_type": "markdown",
   "id": "6c2a498b",
   "metadata": {
    "id": "6c2a498b"
   },
   "source": [
    "# # traitement des valeurs aberrantes # #"
   ]
  },
  {
   "cell_type": "markdown",
   "id": "dbf00a61",
   "metadata": {
    "id": "dbf00a61"
   },
   "source": [
    "Puisque la taille  de la base de données est négligeable et vu qu'il ya seulement 400 observations et que le nombre des valeurs aberrantes  \n",
    "est tres important ,on a décidé de remplacer ces valeurs par la moyenne de chaque colonne"
   ]
  },
  {
   "cell_type": "code",
   "execution_count": 24,
   "id": "23e1e96c",
   "metadata": {
    "id": "23e1e96c",
    "outputId": "f2abae50-974a-4993-c38e-32cbef29d242"
   },
   "outputs": [],
   "source": [
    "#numeric_cols = data.columns[data.dtypes==\"float64\"].tolist()\n",
    "#print('number of outliers for each column')\n",
    "#for col in numeric_cols:\n",
    "  #  Q1 = data[col].quantile(0.25) #Q1 is the first quartile\n",
    "  #  Q3 = data[col].quantile(0.75) #Q3 is the third quartile\n",
    "  #  IQR = Q3 - Q1    #IQR is the interquartile range. \n",
    "  #  filter = (data[col] < Q1 - 1.5 * IQR) | (data[col] > Q3 + 1.5 *IQR)\n",
    "  #  print(col, data[col][filter].count())\n",
    "  #  data[col]= data[col].replace(data[col][filter].values,np.nan)"
   ]
  },
  {
   "cell_type": "code",
   "execution_count": 25,
   "id": "d692262d",
   "metadata": {
    "id": "d692262d",
    "outputId": "e0ea19b6-a2cb-4c8f-a404-722c2572eeac"
   },
   "outputs": [
    {
     "data": {
      "text/html": [
       "<div>\n",
       "<style scoped>\n",
       "    .dataframe tbody tr th:only-of-type {\n",
       "        vertical-align: middle;\n",
       "    }\n",
       "\n",
       "    .dataframe tbody tr th {\n",
       "        vertical-align: top;\n",
       "    }\n",
       "\n",
       "    .dataframe thead th {\n",
       "        text-align: right;\n",
       "    }\n",
       "</style>\n",
       "<table border=\"1\" class=\"dataframe\">\n",
       "  <thead>\n",
       "    <tr style=\"text-align: right;\">\n",
       "      <th></th>\n",
       "      <th>age</th>\n",
       "      <th>bp</th>\n",
       "      <th>sg</th>\n",
       "      <th>al</th>\n",
       "      <th>su</th>\n",
       "      <th>bgr</th>\n",
       "      <th>bu</th>\n",
       "      <th>sc</th>\n",
       "      <th>sod</th>\n",
       "      <th>pot</th>\n",
       "      <th>...</th>\n",
       "      <th>pc_normal</th>\n",
       "      <th>pcc_present</th>\n",
       "      <th>ba_present</th>\n",
       "      <th>htn_yes</th>\n",
       "      <th>dm_yes</th>\n",
       "      <th>cad_yes</th>\n",
       "      <th>appet_poor</th>\n",
       "      <th>pe_yes</th>\n",
       "      <th>ane_yes</th>\n",
       "      <th>class_notckd</th>\n",
       "    </tr>\n",
       "  </thead>\n",
       "  <tbody>\n",
       "    <tr>\n",
       "      <th>0</th>\n",
       "      <td>48.0</td>\n",
       "      <td>80.0</td>\n",
       "      <td>1.020</td>\n",
       "      <td>1.0</td>\n",
       "      <td>0.0</td>\n",
       "      <td>121.000000</td>\n",
       "      <td>36.0</td>\n",
       "      <td>1.2</td>\n",
       "      <td>137.508013</td>\n",
       "      <td>4.630868</td>\n",
       "      <td>...</td>\n",
       "      <td>1</td>\n",
       "      <td>0</td>\n",
       "      <td>0</td>\n",
       "      <td>1</td>\n",
       "      <td>1</td>\n",
       "      <td>0</td>\n",
       "      <td>0</td>\n",
       "      <td>0</td>\n",
       "      <td>0</td>\n",
       "      <td>0</td>\n",
       "    </tr>\n",
       "    <tr>\n",
       "      <th>1</th>\n",
       "      <td>7.0</td>\n",
       "      <td>50.0</td>\n",
       "      <td>1.020</td>\n",
       "      <td>4.0</td>\n",
       "      <td>0.0</td>\n",
       "      <td>147.864407</td>\n",
       "      <td>18.0</td>\n",
       "      <td>0.8</td>\n",
       "      <td>137.508013</td>\n",
       "      <td>4.630868</td>\n",
       "      <td>...</td>\n",
       "      <td>1</td>\n",
       "      <td>0</td>\n",
       "      <td>0</td>\n",
       "      <td>0</td>\n",
       "      <td>0</td>\n",
       "      <td>0</td>\n",
       "      <td>0</td>\n",
       "      <td>0</td>\n",
       "      <td>0</td>\n",
       "      <td>0</td>\n",
       "    </tr>\n",
       "    <tr>\n",
       "      <th>2</th>\n",
       "      <td>62.0</td>\n",
       "      <td>80.0</td>\n",
       "      <td>1.010</td>\n",
       "      <td>2.0</td>\n",
       "      <td>3.0</td>\n",
       "      <td>423.000000</td>\n",
       "      <td>53.0</td>\n",
       "      <td>1.8</td>\n",
       "      <td>137.508013</td>\n",
       "      <td>4.630868</td>\n",
       "      <td>...</td>\n",
       "      <td>1</td>\n",
       "      <td>0</td>\n",
       "      <td>0</td>\n",
       "      <td>0</td>\n",
       "      <td>1</td>\n",
       "      <td>0</td>\n",
       "      <td>1</td>\n",
       "      <td>0</td>\n",
       "      <td>1</td>\n",
       "      <td>0</td>\n",
       "    </tr>\n",
       "    <tr>\n",
       "      <th>3</th>\n",
       "      <td>48.0</td>\n",
       "      <td>70.0</td>\n",
       "      <td>1.005</td>\n",
       "      <td>4.0</td>\n",
       "      <td>0.0</td>\n",
       "      <td>117.000000</td>\n",
       "      <td>56.0</td>\n",
       "      <td>3.8</td>\n",
       "      <td>111.000000</td>\n",
       "      <td>2.500000</td>\n",
       "      <td>...</td>\n",
       "      <td>0</td>\n",
       "      <td>1</td>\n",
       "      <td>0</td>\n",
       "      <td>1</td>\n",
       "      <td>0</td>\n",
       "      <td>0</td>\n",
       "      <td>1</td>\n",
       "      <td>1</td>\n",
       "      <td>1</td>\n",
       "      <td>0</td>\n",
       "    </tr>\n",
       "    <tr>\n",
       "      <th>4</th>\n",
       "      <td>51.0</td>\n",
       "      <td>80.0</td>\n",
       "      <td>1.010</td>\n",
       "      <td>2.0</td>\n",
       "      <td>0.0</td>\n",
       "      <td>106.000000</td>\n",
       "      <td>26.0</td>\n",
       "      <td>1.4</td>\n",
       "      <td>137.508013</td>\n",
       "      <td>4.630868</td>\n",
       "      <td>...</td>\n",
       "      <td>1</td>\n",
       "      <td>0</td>\n",
       "      <td>0</td>\n",
       "      <td>0</td>\n",
       "      <td>0</td>\n",
       "      <td>0</td>\n",
       "      <td>0</td>\n",
       "      <td>0</td>\n",
       "      <td>0</td>\n",
       "      <td>0</td>\n",
       "    </tr>\n",
       "  </tbody>\n",
       "</table>\n",
       "<p>5 rows × 25 columns</p>\n",
       "</div>"
      ],
      "text/plain": [
       "    age    bp     sg   al   su         bgr    bu   sc         sod       pot  \\\n",
       "0  48.0  80.0  1.020  1.0  0.0  121.000000  36.0  1.2  137.508013  4.630868   \n",
       "1   7.0  50.0  1.020  4.0  0.0  147.864407  18.0  0.8  137.508013  4.630868   \n",
       "2  62.0  80.0  1.010  2.0  3.0  423.000000  53.0  1.8  137.508013  4.630868   \n",
       "3  48.0  70.0  1.005  4.0  0.0  117.000000  56.0  3.8  111.000000  2.500000   \n",
       "4  51.0  80.0  1.010  2.0  0.0  106.000000  26.0  1.4  137.508013  4.630868   \n",
       "\n",
       "   ...  pc_normal  pcc_present  ba_present  htn_yes  dm_yes  cad_yes  \\\n",
       "0  ...          1            0           0        1       1        0   \n",
       "1  ...          1            0           0        0       0        0   \n",
       "2  ...          1            0           0        0       1        0   \n",
       "3  ...          0            1           0        1       0        0   \n",
       "4  ...          1            0           0        0       0        0   \n",
       "\n",
       "   appet_poor  pe_yes  ane_yes  class_notckd  \n",
       "0           0       0        0             0  \n",
       "1           0       0        0             0  \n",
       "2           1       0        1             0  \n",
       "3           1       1        1             0  \n",
       "4           0       0        0             0  \n",
       "\n",
       "[5 rows x 25 columns]"
      ]
     },
     "execution_count": 25,
     "metadata": {},
     "output_type": "execute_result"
    }
   ],
   "source": [
    "data.head()"
   ]
  },
  {
   "cell_type": "markdown",
   "id": "35c38de6",
   "metadata": {},
   "source": [
    "Pour remplacer les données NA , nous utiliserons le changement  par la moyenne pour les valeurs quantitatives ."
   ]
  },
  {
   "cell_type": "code",
   "execution_count": 26,
   "id": "5a3e509d",
   "metadata": {
    "id": "5a3e509d",
    "outputId": "6faf422c-dbee-44af-ddfb-809c4477a74e"
   },
   "outputs": [
    {
     "data": {
      "text/html": [
       "<div>\n",
       "<style scoped>\n",
       "    .dataframe tbody tr th:only-of-type {\n",
       "        vertical-align: middle;\n",
       "    }\n",
       "\n",
       "    .dataframe tbody tr th {\n",
       "        vertical-align: top;\n",
       "    }\n",
       "\n",
       "    .dataframe thead th {\n",
       "        text-align: right;\n",
       "    }\n",
       "</style>\n",
       "<table border=\"1\" class=\"dataframe\">\n",
       "  <thead>\n",
       "    <tr style=\"text-align: right;\">\n",
       "      <th></th>\n",
       "      <th>age</th>\n",
       "      <th>bp</th>\n",
       "      <th>sg</th>\n",
       "      <th>al</th>\n",
       "      <th>su</th>\n",
       "      <th>bgr</th>\n",
       "      <th>bu</th>\n",
       "      <th>sc</th>\n",
       "      <th>sod</th>\n",
       "      <th>pot</th>\n",
       "      <th>...</th>\n",
       "      <th>pc_normal</th>\n",
       "      <th>pcc_present</th>\n",
       "      <th>ba_present</th>\n",
       "      <th>htn_yes</th>\n",
       "      <th>dm_yes</th>\n",
       "      <th>cad_yes</th>\n",
       "      <th>appet_poor</th>\n",
       "      <th>pe_yes</th>\n",
       "      <th>ane_yes</th>\n",
       "      <th>class_notckd</th>\n",
       "    </tr>\n",
       "  </thead>\n",
       "  <tbody>\n",
       "    <tr>\n",
       "      <th>0</th>\n",
       "      <td>48.000000</td>\n",
       "      <td>80.000000</td>\n",
       "      <td>1.020000</td>\n",
       "      <td>1.000000</td>\n",
       "      <td>0.000000</td>\n",
       "      <td>121.000000</td>\n",
       "      <td>36.000000</td>\n",
       "      <td>1.200000</td>\n",
       "      <td>137.508013</td>\n",
       "      <td>4.630868</td>\n",
       "      <td>...</td>\n",
       "      <td>1</td>\n",
       "      <td>0</td>\n",
       "      <td>0</td>\n",
       "      <td>1</td>\n",
       "      <td>1</td>\n",
       "      <td>0</td>\n",
       "      <td>0</td>\n",
       "      <td>0</td>\n",
       "      <td>0</td>\n",
       "      <td>0</td>\n",
       "    </tr>\n",
       "    <tr>\n",
       "      <th>1</th>\n",
       "      <td>7.000000</td>\n",
       "      <td>50.000000</td>\n",
       "      <td>1.020000</td>\n",
       "      <td>4.000000</td>\n",
       "      <td>0.000000</td>\n",
       "      <td>147.864407</td>\n",
       "      <td>18.000000</td>\n",
       "      <td>0.800000</td>\n",
       "      <td>137.508013</td>\n",
       "      <td>4.630868</td>\n",
       "      <td>...</td>\n",
       "      <td>1</td>\n",
       "      <td>0</td>\n",
       "      <td>0</td>\n",
       "      <td>0</td>\n",
       "      <td>0</td>\n",
       "      <td>0</td>\n",
       "      <td>0</td>\n",
       "      <td>0</td>\n",
       "      <td>0</td>\n",
       "      <td>0</td>\n",
       "    </tr>\n",
       "    <tr>\n",
       "      <th>2</th>\n",
       "      <td>62.000000</td>\n",
       "      <td>80.000000</td>\n",
       "      <td>1.010000</td>\n",
       "      <td>2.000000</td>\n",
       "      <td>3.000000</td>\n",
       "      <td>423.000000</td>\n",
       "      <td>53.000000</td>\n",
       "      <td>1.800000</td>\n",
       "      <td>137.508013</td>\n",
       "      <td>4.630868</td>\n",
       "      <td>...</td>\n",
       "      <td>1</td>\n",
       "      <td>0</td>\n",
       "      <td>0</td>\n",
       "      <td>0</td>\n",
       "      <td>1</td>\n",
       "      <td>0</td>\n",
       "      <td>1</td>\n",
       "      <td>0</td>\n",
       "      <td>1</td>\n",
       "      <td>0</td>\n",
       "    </tr>\n",
       "    <tr>\n",
       "      <th>3</th>\n",
       "      <td>48.000000</td>\n",
       "      <td>70.000000</td>\n",
       "      <td>1.005000</td>\n",
       "      <td>4.000000</td>\n",
       "      <td>0.000000</td>\n",
       "      <td>117.000000</td>\n",
       "      <td>56.000000</td>\n",
       "      <td>3.800000</td>\n",
       "      <td>111.000000</td>\n",
       "      <td>2.500000</td>\n",
       "      <td>...</td>\n",
       "      <td>0</td>\n",
       "      <td>1</td>\n",
       "      <td>0</td>\n",
       "      <td>1</td>\n",
       "      <td>0</td>\n",
       "      <td>0</td>\n",
       "      <td>1</td>\n",
       "      <td>1</td>\n",
       "      <td>1</td>\n",
       "      <td>0</td>\n",
       "    </tr>\n",
       "    <tr>\n",
       "      <th>4</th>\n",
       "      <td>51.000000</td>\n",
       "      <td>80.000000</td>\n",
       "      <td>1.010000</td>\n",
       "      <td>2.000000</td>\n",
       "      <td>0.000000</td>\n",
       "      <td>106.000000</td>\n",
       "      <td>26.000000</td>\n",
       "      <td>1.400000</td>\n",
       "      <td>137.508013</td>\n",
       "      <td>4.630868</td>\n",
       "      <td>...</td>\n",
       "      <td>1</td>\n",
       "      <td>0</td>\n",
       "      <td>0</td>\n",
       "      <td>0</td>\n",
       "      <td>0</td>\n",
       "      <td>0</td>\n",
       "      <td>0</td>\n",
       "      <td>0</td>\n",
       "      <td>0</td>\n",
       "      <td>0</td>\n",
       "    </tr>\n",
       "    <tr>\n",
       "      <th>5</th>\n",
       "      <td>60.000000</td>\n",
       "      <td>90.000000</td>\n",
       "      <td>1.015000</td>\n",
       "      <td>3.000000</td>\n",
       "      <td>0.000000</td>\n",
       "      <td>74.000000</td>\n",
       "      <td>25.000000</td>\n",
       "      <td>1.100000</td>\n",
       "      <td>142.000000</td>\n",
       "      <td>3.200000</td>\n",
       "      <td>...</td>\n",
       "      <td>1</td>\n",
       "      <td>0</td>\n",
       "      <td>0</td>\n",
       "      <td>1</td>\n",
       "      <td>1</td>\n",
       "      <td>0</td>\n",
       "      <td>0</td>\n",
       "      <td>1</td>\n",
       "      <td>0</td>\n",
       "      <td>0</td>\n",
       "    </tr>\n",
       "    <tr>\n",
       "      <th>6</th>\n",
       "      <td>68.000000</td>\n",
       "      <td>70.000000</td>\n",
       "      <td>1.010000</td>\n",
       "      <td>0.000000</td>\n",
       "      <td>0.000000</td>\n",
       "      <td>100.000000</td>\n",
       "      <td>54.000000</td>\n",
       "      <td>24.000000</td>\n",
       "      <td>104.000000</td>\n",
       "      <td>4.000000</td>\n",
       "      <td>...</td>\n",
       "      <td>1</td>\n",
       "      <td>0</td>\n",
       "      <td>0</td>\n",
       "      <td>0</td>\n",
       "      <td>0</td>\n",
       "      <td>0</td>\n",
       "      <td>0</td>\n",
       "      <td>0</td>\n",
       "      <td>0</td>\n",
       "      <td>0</td>\n",
       "    </tr>\n",
       "    <tr>\n",
       "      <th>7</th>\n",
       "      <td>24.000000</td>\n",
       "      <td>76.467532</td>\n",
       "      <td>1.015000</td>\n",
       "      <td>2.000000</td>\n",
       "      <td>4.000000</td>\n",
       "      <td>410.000000</td>\n",
       "      <td>31.000000</td>\n",
       "      <td>1.100000</td>\n",
       "      <td>137.508013</td>\n",
       "      <td>4.630868</td>\n",
       "      <td>...</td>\n",
       "      <td>0</td>\n",
       "      <td>0</td>\n",
       "      <td>0</td>\n",
       "      <td>0</td>\n",
       "      <td>1</td>\n",
       "      <td>0</td>\n",
       "      <td>0</td>\n",
       "      <td>1</td>\n",
       "      <td>0</td>\n",
       "      <td>0</td>\n",
       "    </tr>\n",
       "    <tr>\n",
       "      <th>8</th>\n",
       "      <td>52.000000</td>\n",
       "      <td>100.000000</td>\n",
       "      <td>1.015000</td>\n",
       "      <td>3.000000</td>\n",
       "      <td>0.000000</td>\n",
       "      <td>138.000000</td>\n",
       "      <td>60.000000</td>\n",
       "      <td>1.900000</td>\n",
       "      <td>137.508013</td>\n",
       "      <td>4.630868</td>\n",
       "      <td>...</td>\n",
       "      <td>0</td>\n",
       "      <td>1</td>\n",
       "      <td>0</td>\n",
       "      <td>1</td>\n",
       "      <td>1</td>\n",
       "      <td>0</td>\n",
       "      <td>0</td>\n",
       "      <td>0</td>\n",
       "      <td>1</td>\n",
       "      <td>0</td>\n",
       "    </tr>\n",
       "    <tr>\n",
       "      <th>9</th>\n",
       "      <td>53.000000</td>\n",
       "      <td>90.000000</td>\n",
       "      <td>1.020000</td>\n",
       "      <td>2.000000</td>\n",
       "      <td>0.000000</td>\n",
       "      <td>70.000000</td>\n",
       "      <td>107.000000</td>\n",
       "      <td>7.200000</td>\n",
       "      <td>114.000000</td>\n",
       "      <td>3.700000</td>\n",
       "      <td>...</td>\n",
       "      <td>0</td>\n",
       "      <td>1</td>\n",
       "      <td>0</td>\n",
       "      <td>1</td>\n",
       "      <td>1</td>\n",
       "      <td>0</td>\n",
       "      <td>1</td>\n",
       "      <td>0</td>\n",
       "      <td>1</td>\n",
       "      <td>0</td>\n",
       "    </tr>\n",
       "    <tr>\n",
       "      <th>10</th>\n",
       "      <td>50.000000</td>\n",
       "      <td>60.000000</td>\n",
       "      <td>1.010000</td>\n",
       "      <td>2.000000</td>\n",
       "      <td>4.000000</td>\n",
       "      <td>490.000000</td>\n",
       "      <td>55.000000</td>\n",
       "      <td>4.000000</td>\n",
       "      <td>137.508013</td>\n",
       "      <td>4.630868</td>\n",
       "      <td>...</td>\n",
       "      <td>0</td>\n",
       "      <td>1</td>\n",
       "      <td>0</td>\n",
       "      <td>1</td>\n",
       "      <td>1</td>\n",
       "      <td>0</td>\n",
       "      <td>0</td>\n",
       "      <td>0</td>\n",
       "      <td>1</td>\n",
       "      <td>0</td>\n",
       "    </tr>\n",
       "    <tr>\n",
       "      <th>11</th>\n",
       "      <td>63.000000</td>\n",
       "      <td>70.000000</td>\n",
       "      <td>1.010000</td>\n",
       "      <td>3.000000</td>\n",
       "      <td>0.000000</td>\n",
       "      <td>380.000000</td>\n",
       "      <td>60.000000</td>\n",
       "      <td>2.700000</td>\n",
       "      <td>131.000000</td>\n",
       "      <td>4.200000</td>\n",
       "      <td>...</td>\n",
       "      <td>0</td>\n",
       "      <td>1</td>\n",
       "      <td>0</td>\n",
       "      <td>1</td>\n",
       "      <td>1</td>\n",
       "      <td>0</td>\n",
       "      <td>1</td>\n",
       "      <td>1</td>\n",
       "      <td>0</td>\n",
       "      <td>0</td>\n",
       "    </tr>\n",
       "    <tr>\n",
       "      <th>12</th>\n",
       "      <td>68.000000</td>\n",
       "      <td>70.000000</td>\n",
       "      <td>1.015000</td>\n",
       "      <td>3.000000</td>\n",
       "      <td>1.000000</td>\n",
       "      <td>208.000000</td>\n",
       "      <td>72.000000</td>\n",
       "      <td>2.100000</td>\n",
       "      <td>138.000000</td>\n",
       "      <td>5.800000</td>\n",
       "      <td>...</td>\n",
       "      <td>1</td>\n",
       "      <td>1</td>\n",
       "      <td>0</td>\n",
       "      <td>1</td>\n",
       "      <td>1</td>\n",
       "      <td>1</td>\n",
       "      <td>1</td>\n",
       "      <td>1</td>\n",
       "      <td>0</td>\n",
       "      <td>0</td>\n",
       "    </tr>\n",
       "    <tr>\n",
       "      <th>13</th>\n",
       "      <td>68.000000</td>\n",
       "      <td>70.000000</td>\n",
       "      <td>1.017429</td>\n",
       "      <td>1.017094</td>\n",
       "      <td>0.433908</td>\n",
       "      <td>98.000000</td>\n",
       "      <td>86.000000</td>\n",
       "      <td>4.600000</td>\n",
       "      <td>135.000000</td>\n",
       "      <td>3.400000</td>\n",
       "      <td>...</td>\n",
       "      <td>1</td>\n",
       "      <td>0</td>\n",
       "      <td>0</td>\n",
       "      <td>1</td>\n",
       "      <td>1</td>\n",
       "      <td>1</td>\n",
       "      <td>1</td>\n",
       "      <td>1</td>\n",
       "      <td>0</td>\n",
       "      <td>0</td>\n",
       "    </tr>\n",
       "    <tr>\n",
       "      <th>14</th>\n",
       "      <td>68.000000</td>\n",
       "      <td>80.000000</td>\n",
       "      <td>1.010000</td>\n",
       "      <td>3.000000</td>\n",
       "      <td>2.000000</td>\n",
       "      <td>157.000000</td>\n",
       "      <td>90.000000</td>\n",
       "      <td>4.100000</td>\n",
       "      <td>130.000000</td>\n",
       "      <td>6.400000</td>\n",
       "      <td>...</td>\n",
       "      <td>0</td>\n",
       "      <td>1</td>\n",
       "      <td>1</td>\n",
       "      <td>1</td>\n",
       "      <td>1</td>\n",
       "      <td>1</td>\n",
       "      <td>1</td>\n",
       "      <td>1</td>\n",
       "      <td>0</td>\n",
       "      <td>0</td>\n",
       "    </tr>\n",
       "    <tr>\n",
       "      <th>15</th>\n",
       "      <td>40.000000</td>\n",
       "      <td>80.000000</td>\n",
       "      <td>1.015000</td>\n",
       "      <td>3.000000</td>\n",
       "      <td>0.000000</td>\n",
       "      <td>76.000000</td>\n",
       "      <td>162.000000</td>\n",
       "      <td>9.600000</td>\n",
       "      <td>141.000000</td>\n",
       "      <td>4.900000</td>\n",
       "      <td>...</td>\n",
       "      <td>1</td>\n",
       "      <td>0</td>\n",
       "      <td>0</td>\n",
       "      <td>1</td>\n",
       "      <td>0</td>\n",
       "      <td>0</td>\n",
       "      <td>0</td>\n",
       "      <td>0</td>\n",
       "      <td>1</td>\n",
       "      <td>0</td>\n",
       "    </tr>\n",
       "    <tr>\n",
       "      <th>16</th>\n",
       "      <td>47.000000</td>\n",
       "      <td>70.000000</td>\n",
       "      <td>1.015000</td>\n",
       "      <td>2.000000</td>\n",
       "      <td>0.000000</td>\n",
       "      <td>99.000000</td>\n",
       "      <td>46.000000</td>\n",
       "      <td>2.200000</td>\n",
       "      <td>138.000000</td>\n",
       "      <td>4.100000</td>\n",
       "      <td>...</td>\n",
       "      <td>1</td>\n",
       "      <td>0</td>\n",
       "      <td>0</td>\n",
       "      <td>0</td>\n",
       "      <td>0</td>\n",
       "      <td>0</td>\n",
       "      <td>0</td>\n",
       "      <td>0</td>\n",
       "      <td>0</td>\n",
       "      <td>0</td>\n",
       "    </tr>\n",
       "    <tr>\n",
       "      <th>17</th>\n",
       "      <td>47.000000</td>\n",
       "      <td>80.000000</td>\n",
       "      <td>1.017429</td>\n",
       "      <td>1.017094</td>\n",
       "      <td>0.433908</td>\n",
       "      <td>114.000000</td>\n",
       "      <td>87.000000</td>\n",
       "      <td>5.200000</td>\n",
       "      <td>139.000000</td>\n",
       "      <td>3.700000</td>\n",
       "      <td>...</td>\n",
       "      <td>1</td>\n",
       "      <td>0</td>\n",
       "      <td>0</td>\n",
       "      <td>1</td>\n",
       "      <td>0</td>\n",
       "      <td>0</td>\n",
       "      <td>1</td>\n",
       "      <td>0</td>\n",
       "      <td>0</td>\n",
       "      <td>0</td>\n",
       "    </tr>\n",
       "    <tr>\n",
       "      <th>18</th>\n",
       "      <td>60.000000</td>\n",
       "      <td>100.000000</td>\n",
       "      <td>1.025000</td>\n",
       "      <td>0.000000</td>\n",
       "      <td>3.000000</td>\n",
       "      <td>263.000000</td>\n",
       "      <td>27.000000</td>\n",
       "      <td>1.300000</td>\n",
       "      <td>135.000000</td>\n",
       "      <td>4.300000</td>\n",
       "      <td>...</td>\n",
       "      <td>1</td>\n",
       "      <td>0</td>\n",
       "      <td>0</td>\n",
       "      <td>1</td>\n",
       "      <td>1</td>\n",
       "      <td>1</td>\n",
       "      <td>0</td>\n",
       "      <td>0</td>\n",
       "      <td>0</td>\n",
       "      <td>0</td>\n",
       "    </tr>\n",
       "    <tr>\n",
       "      <th>19</th>\n",
       "      <td>62.000000</td>\n",
       "      <td>60.000000</td>\n",
       "      <td>1.015000</td>\n",
       "      <td>1.000000</td>\n",
       "      <td>0.000000</td>\n",
       "      <td>100.000000</td>\n",
       "      <td>31.000000</td>\n",
       "      <td>1.600000</td>\n",
       "      <td>137.508013</td>\n",
       "      <td>4.630868</td>\n",
       "      <td>...</td>\n",
       "      <td>0</td>\n",
       "      <td>1</td>\n",
       "      <td>0</td>\n",
       "      <td>1</td>\n",
       "      <td>0</td>\n",
       "      <td>1</td>\n",
       "      <td>0</td>\n",
       "      <td>0</td>\n",
       "      <td>0</td>\n",
       "      <td>0</td>\n",
       "    </tr>\n",
       "    <tr>\n",
       "      <th>20</th>\n",
       "      <td>61.000000</td>\n",
       "      <td>80.000000</td>\n",
       "      <td>1.015000</td>\n",
       "      <td>2.000000</td>\n",
       "      <td>0.000000</td>\n",
       "      <td>173.000000</td>\n",
       "      <td>148.000000</td>\n",
       "      <td>3.900000</td>\n",
       "      <td>135.000000</td>\n",
       "      <td>5.200000</td>\n",
       "      <td>...</td>\n",
       "      <td>0</td>\n",
       "      <td>0</td>\n",
       "      <td>0</td>\n",
       "      <td>1</td>\n",
       "      <td>1</td>\n",
       "      <td>1</td>\n",
       "      <td>1</td>\n",
       "      <td>1</td>\n",
       "      <td>1</td>\n",
       "      <td>0</td>\n",
       "    </tr>\n",
       "    <tr>\n",
       "      <th>21</th>\n",
       "      <td>60.000000</td>\n",
       "      <td>90.000000</td>\n",
       "      <td>1.017429</td>\n",
       "      <td>1.017094</td>\n",
       "      <td>0.433908</td>\n",
       "      <td>147.864407</td>\n",
       "      <td>180.000000</td>\n",
       "      <td>76.000000</td>\n",
       "      <td>4.500000</td>\n",
       "      <td>4.630868</td>\n",
       "      <td>...</td>\n",
       "      <td>1</td>\n",
       "      <td>0</td>\n",
       "      <td>0</td>\n",
       "      <td>1</td>\n",
       "      <td>1</td>\n",
       "      <td>1</td>\n",
       "      <td>0</td>\n",
       "      <td>0</td>\n",
       "      <td>0</td>\n",
       "      <td>0</td>\n",
       "    </tr>\n",
       "    <tr>\n",
       "      <th>22</th>\n",
       "      <td>48.000000</td>\n",
       "      <td>80.000000</td>\n",
       "      <td>1.025000</td>\n",
       "      <td>4.000000</td>\n",
       "      <td>0.000000</td>\n",
       "      <td>95.000000</td>\n",
       "      <td>163.000000</td>\n",
       "      <td>7.700000</td>\n",
       "      <td>136.000000</td>\n",
       "      <td>3.800000</td>\n",
       "      <td>...</td>\n",
       "      <td>0</td>\n",
       "      <td>0</td>\n",
       "      <td>0</td>\n",
       "      <td>1</td>\n",
       "      <td>0</td>\n",
       "      <td>0</td>\n",
       "      <td>0</td>\n",
       "      <td>0</td>\n",
       "      <td>1</td>\n",
       "      <td>0</td>\n",
       "    </tr>\n",
       "    <tr>\n",
       "      <th>23</th>\n",
       "      <td>21.000000</td>\n",
       "      <td>70.000000</td>\n",
       "      <td>1.010000</td>\n",
       "      <td>0.000000</td>\n",
       "      <td>0.000000</td>\n",
       "      <td>147.864407</td>\n",
       "      <td>57.608995</td>\n",
       "      <td>3.088289</td>\n",
       "      <td>137.508013</td>\n",
       "      <td>4.630868</td>\n",
       "      <td>...</td>\n",
       "      <td>1</td>\n",
       "      <td>0</td>\n",
       "      <td>0</td>\n",
       "      <td>0</td>\n",
       "      <td>0</td>\n",
       "      <td>0</td>\n",
       "      <td>1</td>\n",
       "      <td>0</td>\n",
       "      <td>1</td>\n",
       "      <td>0</td>\n",
       "    </tr>\n",
       "    <tr>\n",
       "      <th>24</th>\n",
       "      <td>42.000000</td>\n",
       "      <td>100.000000</td>\n",
       "      <td>1.015000</td>\n",
       "      <td>4.000000</td>\n",
       "      <td>0.000000</td>\n",
       "      <td>147.864407</td>\n",
       "      <td>50.000000</td>\n",
       "      <td>1.400000</td>\n",
       "      <td>129.000000</td>\n",
       "      <td>4.000000</td>\n",
       "      <td>...</td>\n",
       "      <td>0</td>\n",
       "      <td>0</td>\n",
       "      <td>1</td>\n",
       "      <td>1</td>\n",
       "      <td>0</td>\n",
       "      <td>0</td>\n",
       "      <td>1</td>\n",
       "      <td>0</td>\n",
       "      <td>0</td>\n",
       "      <td>0</td>\n",
       "    </tr>\n",
       "    <tr>\n",
       "      <th>25</th>\n",
       "      <td>61.000000</td>\n",
       "      <td>60.000000</td>\n",
       "      <td>1.025000</td>\n",
       "      <td>0.000000</td>\n",
       "      <td>0.000000</td>\n",
       "      <td>108.000000</td>\n",
       "      <td>75.000000</td>\n",
       "      <td>1.900000</td>\n",
       "      <td>141.000000</td>\n",
       "      <td>5.200000</td>\n",
       "      <td>...</td>\n",
       "      <td>1</td>\n",
       "      <td>0</td>\n",
       "      <td>0</td>\n",
       "      <td>1</td>\n",
       "      <td>1</td>\n",
       "      <td>0</td>\n",
       "      <td>0</td>\n",
       "      <td>0</td>\n",
       "      <td>1</td>\n",
       "      <td>0</td>\n",
       "    </tr>\n",
       "    <tr>\n",
       "      <th>26</th>\n",
       "      <td>75.000000</td>\n",
       "      <td>80.000000</td>\n",
       "      <td>1.015000</td>\n",
       "      <td>0.000000</td>\n",
       "      <td>0.000000</td>\n",
       "      <td>156.000000</td>\n",
       "      <td>45.000000</td>\n",
       "      <td>2.400000</td>\n",
       "      <td>140.000000</td>\n",
       "      <td>3.400000</td>\n",
       "      <td>...</td>\n",
       "      <td>1</td>\n",
       "      <td>0</td>\n",
       "      <td>0</td>\n",
       "      <td>1</td>\n",
       "      <td>1</td>\n",
       "      <td>0</td>\n",
       "      <td>1</td>\n",
       "      <td>0</td>\n",
       "      <td>0</td>\n",
       "      <td>0</td>\n",
       "    </tr>\n",
       "    <tr>\n",
       "      <th>27</th>\n",
       "      <td>69.000000</td>\n",
       "      <td>70.000000</td>\n",
       "      <td>1.010000</td>\n",
       "      <td>3.000000</td>\n",
       "      <td>4.000000</td>\n",
       "      <td>264.000000</td>\n",
       "      <td>87.000000</td>\n",
       "      <td>2.700000</td>\n",
       "      <td>130.000000</td>\n",
       "      <td>4.000000</td>\n",
       "      <td>...</td>\n",
       "      <td>0</td>\n",
       "      <td>0</td>\n",
       "      <td>0</td>\n",
       "      <td>1</td>\n",
       "      <td>1</td>\n",
       "      <td>1</td>\n",
       "      <td>0</td>\n",
       "      <td>1</td>\n",
       "      <td>0</td>\n",
       "      <td>0</td>\n",
       "    </tr>\n",
       "    <tr>\n",
       "      <th>28</th>\n",
       "      <td>75.000000</td>\n",
       "      <td>70.000000</td>\n",
       "      <td>1.017429</td>\n",
       "      <td>1.000000</td>\n",
       "      <td>3.000000</td>\n",
       "      <td>123.000000</td>\n",
       "      <td>31.000000</td>\n",
       "      <td>1.400000</td>\n",
       "      <td>137.508013</td>\n",
       "      <td>4.630868</td>\n",
       "      <td>...</td>\n",
       "      <td>1</td>\n",
       "      <td>0</td>\n",
       "      <td>0</td>\n",
       "      <td>0</td>\n",
       "      <td>1</td>\n",
       "      <td>0</td>\n",
       "      <td>0</td>\n",
       "      <td>0</td>\n",
       "      <td>0</td>\n",
       "      <td>0</td>\n",
       "    </tr>\n",
       "    <tr>\n",
       "      <th>29</th>\n",
       "      <td>68.000000</td>\n",
       "      <td>70.000000</td>\n",
       "      <td>1.005000</td>\n",
       "      <td>1.000000</td>\n",
       "      <td>0.000000</td>\n",
       "      <td>147.864407</td>\n",
       "      <td>28.000000</td>\n",
       "      <td>1.400000</td>\n",
       "      <td>137.508013</td>\n",
       "      <td>4.630868</td>\n",
       "      <td>...</td>\n",
       "      <td>0</td>\n",
       "      <td>1</td>\n",
       "      <td>0</td>\n",
       "      <td>0</td>\n",
       "      <td>0</td>\n",
       "      <td>1</td>\n",
       "      <td>0</td>\n",
       "      <td>0</td>\n",
       "      <td>0</td>\n",
       "      <td>0</td>\n",
       "    </tr>\n",
       "    <tr>\n",
       "      <th>30</th>\n",
       "      <td>51.456186</td>\n",
       "      <td>70.000000</td>\n",
       "      <td>1.017429</td>\n",
       "      <td>1.017094</td>\n",
       "      <td>0.433908</td>\n",
       "      <td>93.000000</td>\n",
       "      <td>155.000000</td>\n",
       "      <td>7.300000</td>\n",
       "      <td>132.000000</td>\n",
       "      <td>4.900000</td>\n",
       "      <td>...</td>\n",
       "      <td>1</td>\n",
       "      <td>0</td>\n",
       "      <td>0</td>\n",
       "      <td>1</td>\n",
       "      <td>1</td>\n",
       "      <td>0</td>\n",
       "      <td>0</td>\n",
       "      <td>0</td>\n",
       "      <td>0</td>\n",
       "      <td>0</td>\n",
       "    </tr>\n",
       "    <tr>\n",
       "      <th>31</th>\n",
       "      <td>73.000000</td>\n",
       "      <td>90.000000</td>\n",
       "      <td>1.015000</td>\n",
       "      <td>3.000000</td>\n",
       "      <td>0.000000</td>\n",
       "      <td>107.000000</td>\n",
       "      <td>33.000000</td>\n",
       "      <td>1.500000</td>\n",
       "      <td>141.000000</td>\n",
       "      <td>4.600000</td>\n",
       "      <td>...</td>\n",
       "      <td>0</td>\n",
       "      <td>1</td>\n",
       "      <td>0</td>\n",
       "      <td>0</td>\n",
       "      <td>0</td>\n",
       "      <td>0</td>\n",
       "      <td>1</td>\n",
       "      <td>0</td>\n",
       "      <td>0</td>\n",
       "      <td>0</td>\n",
       "    </tr>\n",
       "    <tr>\n",
       "      <th>32</th>\n",
       "      <td>61.000000</td>\n",
       "      <td>90.000000</td>\n",
       "      <td>1.010000</td>\n",
       "      <td>1.000000</td>\n",
       "      <td>1.000000</td>\n",
       "      <td>159.000000</td>\n",
       "      <td>39.000000</td>\n",
       "      <td>1.500000</td>\n",
       "      <td>133.000000</td>\n",
       "      <td>4.900000</td>\n",
       "      <td>...</td>\n",
       "      <td>1</td>\n",
       "      <td>0</td>\n",
       "      <td>0</td>\n",
       "      <td>1</td>\n",
       "      <td>1</td>\n",
       "      <td>0</td>\n",
       "      <td>1</td>\n",
       "      <td>0</td>\n",
       "      <td>0</td>\n",
       "      <td>0</td>\n",
       "    </tr>\n",
       "    <tr>\n",
       "      <th>33</th>\n",
       "      <td>60.000000</td>\n",
       "      <td>100.000000</td>\n",
       "      <td>1.020000</td>\n",
       "      <td>2.000000</td>\n",
       "      <td>0.000000</td>\n",
       "      <td>140.000000</td>\n",
       "      <td>55.000000</td>\n",
       "      <td>2.500000</td>\n",
       "      <td>137.508013</td>\n",
       "      <td>4.630868</td>\n",
       "      <td>...</td>\n",
       "      <td>0</td>\n",
       "      <td>0</td>\n",
       "      <td>0</td>\n",
       "      <td>1</td>\n",
       "      <td>0</td>\n",
       "      <td>0</td>\n",
       "      <td>1</td>\n",
       "      <td>0</td>\n",
       "      <td>0</td>\n",
       "      <td>0</td>\n",
       "    </tr>\n",
       "    <tr>\n",
       "      <th>34</th>\n",
       "      <td>70.000000</td>\n",
       "      <td>70.000000</td>\n",
       "      <td>1.010000</td>\n",
       "      <td>1.000000</td>\n",
       "      <td>0.000000</td>\n",
       "      <td>171.000000</td>\n",
       "      <td>153.000000</td>\n",
       "      <td>5.200000</td>\n",
       "      <td>137.508013</td>\n",
       "      <td>4.630868</td>\n",
       "      <td>...</td>\n",
       "      <td>1</td>\n",
       "      <td>1</td>\n",
       "      <td>1</td>\n",
       "      <td>0</td>\n",
       "      <td>1</td>\n",
       "      <td>0</td>\n",
       "      <td>1</td>\n",
       "      <td>0</td>\n",
       "      <td>0</td>\n",
       "      <td>0</td>\n",
       "    </tr>\n",
       "  </tbody>\n",
       "</table>\n",
       "<p>35 rows × 25 columns</p>\n",
       "</div>"
      ],
      "text/plain": [
       "          age          bp        sg        al        su         bgr  \\\n",
       "0   48.000000   80.000000  1.020000  1.000000  0.000000  121.000000   \n",
       "1    7.000000   50.000000  1.020000  4.000000  0.000000  147.864407   \n",
       "2   62.000000   80.000000  1.010000  2.000000  3.000000  423.000000   \n",
       "3   48.000000   70.000000  1.005000  4.000000  0.000000  117.000000   \n",
       "4   51.000000   80.000000  1.010000  2.000000  0.000000  106.000000   \n",
       "5   60.000000   90.000000  1.015000  3.000000  0.000000   74.000000   \n",
       "6   68.000000   70.000000  1.010000  0.000000  0.000000  100.000000   \n",
       "7   24.000000   76.467532  1.015000  2.000000  4.000000  410.000000   \n",
       "8   52.000000  100.000000  1.015000  3.000000  0.000000  138.000000   \n",
       "9   53.000000   90.000000  1.020000  2.000000  0.000000   70.000000   \n",
       "10  50.000000   60.000000  1.010000  2.000000  4.000000  490.000000   \n",
       "11  63.000000   70.000000  1.010000  3.000000  0.000000  380.000000   \n",
       "12  68.000000   70.000000  1.015000  3.000000  1.000000  208.000000   \n",
       "13  68.000000   70.000000  1.017429  1.017094  0.433908   98.000000   \n",
       "14  68.000000   80.000000  1.010000  3.000000  2.000000  157.000000   \n",
       "15  40.000000   80.000000  1.015000  3.000000  0.000000   76.000000   \n",
       "16  47.000000   70.000000  1.015000  2.000000  0.000000   99.000000   \n",
       "17  47.000000   80.000000  1.017429  1.017094  0.433908  114.000000   \n",
       "18  60.000000  100.000000  1.025000  0.000000  3.000000  263.000000   \n",
       "19  62.000000   60.000000  1.015000  1.000000  0.000000  100.000000   \n",
       "20  61.000000   80.000000  1.015000  2.000000  0.000000  173.000000   \n",
       "21  60.000000   90.000000  1.017429  1.017094  0.433908  147.864407   \n",
       "22  48.000000   80.000000  1.025000  4.000000  0.000000   95.000000   \n",
       "23  21.000000   70.000000  1.010000  0.000000  0.000000  147.864407   \n",
       "24  42.000000  100.000000  1.015000  4.000000  0.000000  147.864407   \n",
       "25  61.000000   60.000000  1.025000  0.000000  0.000000  108.000000   \n",
       "26  75.000000   80.000000  1.015000  0.000000  0.000000  156.000000   \n",
       "27  69.000000   70.000000  1.010000  3.000000  4.000000  264.000000   \n",
       "28  75.000000   70.000000  1.017429  1.000000  3.000000  123.000000   \n",
       "29  68.000000   70.000000  1.005000  1.000000  0.000000  147.864407   \n",
       "30  51.456186   70.000000  1.017429  1.017094  0.433908   93.000000   \n",
       "31  73.000000   90.000000  1.015000  3.000000  0.000000  107.000000   \n",
       "32  61.000000   90.000000  1.010000  1.000000  1.000000  159.000000   \n",
       "33  60.000000  100.000000  1.020000  2.000000  0.000000  140.000000   \n",
       "34  70.000000   70.000000  1.010000  1.000000  0.000000  171.000000   \n",
       "\n",
       "            bu         sc         sod       pot  ...  pc_normal  pcc_present  \\\n",
       "0    36.000000   1.200000  137.508013  4.630868  ...          1            0   \n",
       "1    18.000000   0.800000  137.508013  4.630868  ...          1            0   \n",
       "2    53.000000   1.800000  137.508013  4.630868  ...          1            0   \n",
       "3    56.000000   3.800000  111.000000  2.500000  ...          0            1   \n",
       "4    26.000000   1.400000  137.508013  4.630868  ...          1            0   \n",
       "5    25.000000   1.100000  142.000000  3.200000  ...          1            0   \n",
       "6    54.000000  24.000000  104.000000  4.000000  ...          1            0   \n",
       "7    31.000000   1.100000  137.508013  4.630868  ...          0            0   \n",
       "8    60.000000   1.900000  137.508013  4.630868  ...          0            1   \n",
       "9   107.000000   7.200000  114.000000  3.700000  ...          0            1   \n",
       "10   55.000000   4.000000  137.508013  4.630868  ...          0            1   \n",
       "11   60.000000   2.700000  131.000000  4.200000  ...          0            1   \n",
       "12   72.000000   2.100000  138.000000  5.800000  ...          1            1   \n",
       "13   86.000000   4.600000  135.000000  3.400000  ...          1            0   \n",
       "14   90.000000   4.100000  130.000000  6.400000  ...          0            1   \n",
       "15  162.000000   9.600000  141.000000  4.900000  ...          1            0   \n",
       "16   46.000000   2.200000  138.000000  4.100000  ...          1            0   \n",
       "17   87.000000   5.200000  139.000000  3.700000  ...          1            0   \n",
       "18   27.000000   1.300000  135.000000  4.300000  ...          1            0   \n",
       "19   31.000000   1.600000  137.508013  4.630868  ...          0            1   \n",
       "20  148.000000   3.900000  135.000000  5.200000  ...          0            0   \n",
       "21  180.000000  76.000000    4.500000  4.630868  ...          1            0   \n",
       "22  163.000000   7.700000  136.000000  3.800000  ...          0            0   \n",
       "23   57.608995   3.088289  137.508013  4.630868  ...          1            0   \n",
       "24   50.000000   1.400000  129.000000  4.000000  ...          0            0   \n",
       "25   75.000000   1.900000  141.000000  5.200000  ...          1            0   \n",
       "26   45.000000   2.400000  140.000000  3.400000  ...          1            0   \n",
       "27   87.000000   2.700000  130.000000  4.000000  ...          0            0   \n",
       "28   31.000000   1.400000  137.508013  4.630868  ...          1            0   \n",
       "29   28.000000   1.400000  137.508013  4.630868  ...          0            1   \n",
       "30  155.000000   7.300000  132.000000  4.900000  ...          1            0   \n",
       "31   33.000000   1.500000  141.000000  4.600000  ...          0            1   \n",
       "32   39.000000   1.500000  133.000000  4.900000  ...          1            0   \n",
       "33   55.000000   2.500000  137.508013  4.630868  ...          0            0   \n",
       "34  153.000000   5.200000  137.508013  4.630868  ...          1            1   \n",
       "\n",
       "    ba_present  htn_yes  dm_yes  cad_yes  appet_poor  pe_yes  ane_yes  \\\n",
       "0            0        1       1        0           0       0        0   \n",
       "1            0        0       0        0           0       0        0   \n",
       "2            0        0       1        0           1       0        1   \n",
       "3            0        1       0        0           1       1        1   \n",
       "4            0        0       0        0           0       0        0   \n",
       "5            0        1       1        0           0       1        0   \n",
       "6            0        0       0        0           0       0        0   \n",
       "7            0        0       1        0           0       1        0   \n",
       "8            0        1       1        0           0       0        1   \n",
       "9            0        1       1        0           1       0        1   \n",
       "10           0        1       1        0           0       0        1   \n",
       "11           0        1       1        0           1       1        0   \n",
       "12           0        1       1        1           1       1        0   \n",
       "13           0        1       1        1           1       1        0   \n",
       "14           1        1       1        1           1       1        0   \n",
       "15           0        1       0        0           0       0        1   \n",
       "16           0        0       0        0           0       0        0   \n",
       "17           0        1       0        0           1       0        0   \n",
       "18           0        1       1        1           0       0        0   \n",
       "19           0        1       0        1           0       0        0   \n",
       "20           0        1       1        1           1       1        1   \n",
       "21           0        1       1        1           0       0        0   \n",
       "22           0        1       0        0           0       0        1   \n",
       "23           0        0       0        0           1       0        1   \n",
       "24           1        1       0        0           1       0        0   \n",
       "25           0        1       1        0           0       0        1   \n",
       "26           0        1       1        0           1       0        0   \n",
       "27           0        1       1        1           0       1        0   \n",
       "28           0        0       1        0           0       0        0   \n",
       "29           0        0       0        1           0       0        0   \n",
       "30           0        1       1        0           0       0        0   \n",
       "31           0        0       0        0           1       0        0   \n",
       "32           0        1       1        0           1       0        0   \n",
       "33           0        1       0        0           1       0        0   \n",
       "34           1        0       1        0           1       0        0   \n",
       "\n",
       "    class_notckd  \n",
       "0              0  \n",
       "1              0  \n",
       "2              0  \n",
       "3              0  \n",
       "4              0  \n",
       "5              0  \n",
       "6              0  \n",
       "7              0  \n",
       "8              0  \n",
       "9              0  \n",
       "10             0  \n",
       "11             0  \n",
       "12             0  \n",
       "13             0  \n",
       "14             0  \n",
       "15             0  \n",
       "16             0  \n",
       "17             0  \n",
       "18             0  \n",
       "19             0  \n",
       "20             0  \n",
       "21             0  \n",
       "22             0  \n",
       "23             0  \n",
       "24             0  \n",
       "25             0  \n",
       "26             0  \n",
       "27             0  \n",
       "28             0  \n",
       "29             0  \n",
       "30             0  \n",
       "31             0  \n",
       "32             0  \n",
       "33             0  \n",
       "34             0  \n",
       "\n",
       "[35 rows x 25 columns]"
      ]
     },
     "execution_count": 26,
     "metadata": {},
     "output_type": "execute_result"
    }
   ],
   "source": [
    "numeric_cols = data.columns[data.dtypes==\"float64\"].tolist()\n",
    "for col in numeric_cols:\n",
    "    data[col] = data[col].fillna(data[col].mean())\n",
    "data.head(35)"
   ]
  },
  {
   "cell_type": "code",
   "execution_count": 27,
   "id": "a17472be",
   "metadata": {},
   "outputs": [
    {
     "data": {
      "text/html": [
       "<div>\n",
       "<style scoped>\n",
       "    .dataframe tbody tr th:only-of-type {\n",
       "        vertical-align: middle;\n",
       "    }\n",
       "\n",
       "    .dataframe tbody tr th {\n",
       "        vertical-align: top;\n",
       "    }\n",
       "\n",
       "    .dataframe thead th {\n",
       "        text-align: right;\n",
       "    }\n",
       "</style>\n",
       "<table border=\"1\" class=\"dataframe\">\n",
       "  <thead>\n",
       "    <tr style=\"text-align: right;\">\n",
       "      <th></th>\n",
       "      <th>age</th>\n",
       "      <th>bp</th>\n",
       "      <th>sg</th>\n",
       "      <th>al</th>\n",
       "      <th>su</th>\n",
       "      <th>bgr</th>\n",
       "      <th>bu</th>\n",
       "      <th>sc</th>\n",
       "      <th>sod</th>\n",
       "      <th>pot</th>\n",
       "      <th>...</th>\n",
       "      <th>pc_normal</th>\n",
       "      <th>pcc_present</th>\n",
       "      <th>ba_present</th>\n",
       "      <th>htn_yes</th>\n",
       "      <th>dm_yes</th>\n",
       "      <th>cad_yes</th>\n",
       "      <th>appet_poor</th>\n",
       "      <th>pe_yes</th>\n",
       "      <th>ane_yes</th>\n",
       "      <th>class</th>\n",
       "    </tr>\n",
       "  </thead>\n",
       "  <tbody>\n",
       "    <tr>\n",
       "      <th>0</th>\n",
       "      <td>48.0</td>\n",
       "      <td>80.0</td>\n",
       "      <td>1.020</td>\n",
       "      <td>1.0</td>\n",
       "      <td>0.0</td>\n",
       "      <td>121.000000</td>\n",
       "      <td>36.0</td>\n",
       "      <td>1.2</td>\n",
       "      <td>137.508013</td>\n",
       "      <td>4.630868</td>\n",
       "      <td>...</td>\n",
       "      <td>1</td>\n",
       "      <td>0</td>\n",
       "      <td>0</td>\n",
       "      <td>1</td>\n",
       "      <td>1</td>\n",
       "      <td>0</td>\n",
       "      <td>0</td>\n",
       "      <td>0</td>\n",
       "      <td>0</td>\n",
       "      <td>0</td>\n",
       "    </tr>\n",
       "    <tr>\n",
       "      <th>1</th>\n",
       "      <td>7.0</td>\n",
       "      <td>50.0</td>\n",
       "      <td>1.020</td>\n",
       "      <td>4.0</td>\n",
       "      <td>0.0</td>\n",
       "      <td>147.864407</td>\n",
       "      <td>18.0</td>\n",
       "      <td>0.8</td>\n",
       "      <td>137.508013</td>\n",
       "      <td>4.630868</td>\n",
       "      <td>...</td>\n",
       "      <td>1</td>\n",
       "      <td>0</td>\n",
       "      <td>0</td>\n",
       "      <td>0</td>\n",
       "      <td>0</td>\n",
       "      <td>0</td>\n",
       "      <td>0</td>\n",
       "      <td>0</td>\n",
       "      <td>0</td>\n",
       "      <td>0</td>\n",
       "    </tr>\n",
       "    <tr>\n",
       "      <th>2</th>\n",
       "      <td>62.0</td>\n",
       "      <td>80.0</td>\n",
       "      <td>1.010</td>\n",
       "      <td>2.0</td>\n",
       "      <td>3.0</td>\n",
       "      <td>423.000000</td>\n",
       "      <td>53.0</td>\n",
       "      <td>1.8</td>\n",
       "      <td>137.508013</td>\n",
       "      <td>4.630868</td>\n",
       "      <td>...</td>\n",
       "      <td>1</td>\n",
       "      <td>0</td>\n",
       "      <td>0</td>\n",
       "      <td>0</td>\n",
       "      <td>1</td>\n",
       "      <td>0</td>\n",
       "      <td>1</td>\n",
       "      <td>0</td>\n",
       "      <td>1</td>\n",
       "      <td>0</td>\n",
       "    </tr>\n",
       "    <tr>\n",
       "      <th>3</th>\n",
       "      <td>48.0</td>\n",
       "      <td>70.0</td>\n",
       "      <td>1.005</td>\n",
       "      <td>4.0</td>\n",
       "      <td>0.0</td>\n",
       "      <td>117.000000</td>\n",
       "      <td>56.0</td>\n",
       "      <td>3.8</td>\n",
       "      <td>111.000000</td>\n",
       "      <td>2.500000</td>\n",
       "      <td>...</td>\n",
       "      <td>0</td>\n",
       "      <td>1</td>\n",
       "      <td>0</td>\n",
       "      <td>1</td>\n",
       "      <td>0</td>\n",
       "      <td>0</td>\n",
       "      <td>1</td>\n",
       "      <td>1</td>\n",
       "      <td>1</td>\n",
       "      <td>0</td>\n",
       "    </tr>\n",
       "    <tr>\n",
       "      <th>4</th>\n",
       "      <td>51.0</td>\n",
       "      <td>80.0</td>\n",
       "      <td>1.010</td>\n",
       "      <td>2.0</td>\n",
       "      <td>0.0</td>\n",
       "      <td>106.000000</td>\n",
       "      <td>26.0</td>\n",
       "      <td>1.4</td>\n",
       "      <td>137.508013</td>\n",
       "      <td>4.630868</td>\n",
       "      <td>...</td>\n",
       "      <td>1</td>\n",
       "      <td>0</td>\n",
       "      <td>0</td>\n",
       "      <td>0</td>\n",
       "      <td>0</td>\n",
       "      <td>0</td>\n",
       "      <td>0</td>\n",
       "      <td>0</td>\n",
       "      <td>0</td>\n",
       "      <td>0</td>\n",
       "    </tr>\n",
       "  </tbody>\n",
       "</table>\n",
       "<p>5 rows × 25 columns</p>\n",
       "</div>"
      ],
      "text/plain": [
       "    age    bp     sg   al   su         bgr    bu   sc         sod       pot  \\\n",
       "0  48.0  80.0  1.020  1.0  0.0  121.000000  36.0  1.2  137.508013  4.630868   \n",
       "1   7.0  50.0  1.020  4.0  0.0  147.864407  18.0  0.8  137.508013  4.630868   \n",
       "2  62.0  80.0  1.010  2.0  3.0  423.000000  53.0  1.8  137.508013  4.630868   \n",
       "3  48.0  70.0  1.005  4.0  0.0  117.000000  56.0  3.8  111.000000  2.500000   \n",
       "4  51.0  80.0  1.010  2.0  0.0  106.000000  26.0  1.4  137.508013  4.630868   \n",
       "\n",
       "   ...  pc_normal  pcc_present  ba_present  htn_yes  dm_yes  cad_yes  \\\n",
       "0  ...          1            0           0        1       1        0   \n",
       "1  ...          1            0           0        0       0        0   \n",
       "2  ...          1            0           0        0       1        0   \n",
       "3  ...          0            1           0        1       0        0   \n",
       "4  ...          1            0           0        0       0        0   \n",
       "\n",
       "   appet_poor  pe_yes  ane_yes  class  \n",
       "0           0       0        0      0  \n",
       "1           0       0        0      0  \n",
       "2           1       0        1      0  \n",
       "3           1       1        1      0  \n",
       "4           0       0        0      0  \n",
       "\n",
       "[5 rows x 25 columns]"
      ]
     },
     "execution_count": 27,
     "metadata": {},
     "output_type": "execute_result"
    }
   ],
   "source": [
    "data.rename(columns = {'class_notckd':'class'}, inplace = True)\n",
    "data.head()"
   ]
  },
  {
   "cell_type": "markdown",
   "id": "a7ea1471",
   "metadata": {},
   "source": [
    "Le bout de code qui suit conçu pour l'exportation du dataset pour le dashboard sur powerBI."
   ]
  },
  {
   "cell_type": "code",
   "execution_count": 28,
   "id": "4ae30f31",
   "metadata": {},
   "outputs": [],
   "source": [
    "data.to_csv(r'C:\\Users\\lasmer brahim\\Desktop\\data.csv', index=False, header=True)\n"
   ]
  },
  {
   "cell_type": "markdown",
   "id": "eb34d242",
   "metadata": {},
   "source": [
    "# # Classification # #"
   ]
  },
  {
   "cell_type": "markdown",
   "id": "3c126d5f",
   "metadata": {},
   "source": [
    "Par curiosité, on a voulu savoir le nombre des personnes qui souffre du “chronic kidney disease” . on peut voir que notre dataset est en déséquilibre ."
   ]
  },
  {
   "cell_type": "code",
   "execution_count": 29,
   "id": "2b56f09e",
   "metadata": {
    "id": "2b56f09e",
    "outputId": "76a0fa36-a9b4-4b75-c22f-5677c470c064"
   },
   "outputs": [
    {
     "data": {
      "text/plain": [
       "0    248\n",
       "1    149\n",
       "Name: class, dtype: int64"
      ]
     },
     "execution_count": 29,
     "metadata": {},
     "output_type": "execute_result"
    }
   ],
   "source": [
    "data['class'].value_counts()"
   ]
  },
  {
   "cell_type": "code",
   "execution_count": 30,
   "id": "e0ac416d",
   "metadata": {
    "id": "e0ac416d",
    "outputId": "511c7787-c2ea-4cf4-d790-3b129c141967"
   },
   "outputs": [
    {
     "data": {
      "text/plain": [
       "<AxesSubplot:title={'center':'Count of Diagnosis of kidney disease'}>"
      ]
     },
     "execution_count": 30,
     "metadata": {},
     "output_type": "execute_result"
    },
    {
     "data": {
      "image/png": "[encoded data removed]",
      "text/plain": [
       "<Figure size 432x288 with 1 Axes>"
      ]
     },
     "metadata": {
      "needs_background": "light"
     },
     "output_type": "display_data"
    }
   ],
   "source": [
    "data['class'].value_counts().plot(kind='bar',color=['salmon','lightblue'],title=\"Count of Diagnosis of kidney disease\")\n"
   ]
  },
  {
   "cell_type": "markdown",
   "id": "8bfffd51",
   "metadata": {},
   "source": [
    "# # features selection # #"
   ]
  },
  {
   "cell_type": "markdown",
   "id": "e898d32c",
   "metadata": {},
   "source": [
    "# SelectKBest  #"
   ]
  },
  {
   "cell_type": "markdown",
   "id": "d83fa514",
   "metadata": {},
   "source": [
    "on a débuter la sélection du meilleur features ."
   ]
  },
  {
   "cell_type": "code",
   "execution_count": 31,
   "id": "8ac1dfd7",
   "metadata": {},
   "outputs": [],
   "source": [
    "X = data.drop(\"class\", axis=1)\n",
    "y = data[\"class\"]"
   ]
  },
  {
   "cell_type": "markdown",
   "id": "17d41fa8",
   "metadata": {},
   "source": [
    "A ce niveau la, on va diviser notre dataset en 2 partie 20% test et 80%train"
   ]
  },
  {
   "cell_type": "code",
   "execution_count": 32,
   "id": "ac7288a2",
   "metadata": {},
   "outputs": [
    {
     "name": "stdout",
     "output_type": "stream",
     "text": [
      "(317, 24)\n",
      "(80, 24)\n"
     ]
    }
   ],
   "source": [
    "from sklearn.model_selection import train_test_split\n",
    "X_train, X_test, y_train, y_test = train_test_split(X, y, test_size=0.2, random_state=0)\n",
    "print(X_train.shape)\n",
    "print(X_test.shape)"
   ]
  },
  {
   "cell_type": "markdown",
   "id": "155b0a07",
   "metadata": {},
   "source": [
    "On va appliquer la méthode selectkbest afin d'extracter les meilleur features selon le score le plus élevé.\n",
    "vu qu'on a pris la valeur k=17 on a obtenu 17 valeurs sélectionnées et 7 valeurs supprimées."
   ]
  },
  {
   "cell_type": "code",
   "execution_count": 33,
   "id": "74097873",
   "metadata": {},
   "outputs": [
    {
     "name": "stdout",
     "output_type": "stream",
     "text": [
      "Sélection de variables : [False False  True  True  True  True  True  True  True False  True  True\n",
      " False  True  True  True False False  True  True False  True  True  True]\n",
      "Scores de variables : [ 17.63865183  26.06421957 295.95949569 179.43048496  40.85684304\n",
      "  64.30471456  47.31447232  27.17344892  39.78357047   1.94749298\n",
      " 349.72574549 301.65466913  11.87765688 163.74145674  27.84850058\n",
      "  53.41640379  21.4817895   10.24223252 181.76898811 144.19682416\n",
      "  18.91561514  67.46763407  53.41640379  39.0784137 ]\n",
      "Variables sélectionnées: ['sg', 'al', 'su', 'bgr', 'bu', 'sc', 'sod', 'hemo', 'pcv', 'rbcc', 'rbc_normal', 'pc_normal', 'htn_yes', 'dm_yes', 'appet_poor', 'pe_yes', 'ane_yes']\n",
      "Variables supprimées : ['age', 'bp', 'pot', 'wbcc', 'pcc_present', 'ba_present', 'cad_yes']\n"
     ]
    }
   ],
   "source": [
    "from sklearn.feature_selection import SelectKBest\n",
    "from sklearn.feature_selection import f_classif      \n",
    "from sklearn.feature_selection import f_regression  \n",
    "#Score function: test de dependance\n",
    "#For regression: f_regression, mutual_info_regression\n",
    "#For classification: chi2, f_classif, mutual_info_classif \n",
    "\n",
    "kbest = SelectKBest(score_func=f_regression, k=17)\n",
    "kbest.fit(X_train, y_train)\n",
    "print(\"Sélection de variables :\", kbest.get_support())\n",
    "print(\"Scores de variables :\", kbest.scores_)\n",
    "print(\"Variables sélectionnées:\", list(X.columns[kbest.get_support()]))\n",
    "print(\"Variables supprimées :\", list(X.columns[~kbest.get_support()]))"
   ]
  },
  {
   "cell_type": "code",
   "execution_count": null,
   "id": "9900674a",
   "metadata": {},
   "outputs": [],
   "source": [
    "A ce niveau la , on a calculé le score obtenu par la methode de k-best."
   ]
  },
  {
   "cell_type": "code",
   "execution_count": 34,
   "id": "6e311d86",
   "metadata": {},
   "outputs": [
    {
     "name": "stdout",
     "output_type": "stream",
     "text": [
      "test_score =  0.7057273258991849\n"
     ]
    }
   ],
   "source": [
    "from sklearn.linear_model import LinearRegression\n",
    "X_train = kbest.transform(X_train)\n",
    "X_test = kbest.transform(X_test)\n",
    "model = LinearRegression()\n",
    "model.fit(X_train, y_train)\n",
    "y_pred = model.predict(X_test)\n",
    "\n",
    "print('test_score = ',model.score(X_test,y_test)) "
   ]
  },
  {
   "cell_type": "markdown",
   "id": "6d942415",
   "metadata": {},
   "source": [
    " # Recursive Feature Elimination (RFE) #"
   ]
  },
  {
   "cell_type": "code",
   "execution_count": null,
   "id": "6d9d333c",
   "metadata": {},
   "outputs": [],
   "source": [
    "On a appliquer le même démarche que la méthode rfe et on a obtenu un résultat différent."
   ]
  },
  {
   "cell_type": "code",
   "execution_count": 35,
   "id": "67e6cad5",
   "metadata": {},
   "outputs": [],
   "source": [
    "X = data.drop(\"class\", axis=1)\n",
    "y = data[\"class\"]\n",
    "X_train, X_test, y_train, y_test = train_test_split(X, y, test_size=0.2, random_state=0)"
   ]
  },
  {
   "cell_type": "code",
   "execution_count": 36,
   "id": "5f98be9c",
   "metadata": {},
   "outputs": [
    {
     "name": "stdout",
     "output_type": "stream",
     "text": [
      "Sélection de variables [False False  True  True  True False False  True  True False  True  True\n",
      " False False  True  True  True  True  True  True  True  True  True  True]\n",
      "Classement de variables [7 4 1 1 1 6 5 1 1 3 1 1 8 2 1 1 1 1 1 1 1 1 1 1]\n",
      "Variables sélectionnées : ['sg', 'al', 'su', 'sc', 'sod', 'hemo', 'pcv', 'rbc_normal', 'pc_normal', 'pcc_present', 'ba_present', 'htn_yes', 'dm_yes', 'cad_yes', 'appet_poor', 'pe_yes', 'ane_yes']\n"
     ]
    }
   ],
   "source": [
    "from sklearn.linear_model import LinearRegression\n",
    "from sklearn.feature_selection import RFE\n",
    "model = LinearRegression()\n",
    "rfe = RFE(model, n_features_to_select=17)\n",
    "rfe.fit(X_train, y_train)\n",
    "print(\"Sélection de variables\", rfe.support_)\n",
    "print(\"Classement de variables\", rfe.ranking_)\n",
    "print(\"Variables sélectionnées :\", list(X.columns[rfe.support_]))"
   ]
  },
  {
   "cell_type": "code",
   "execution_count": 37,
   "id": "625adfcb",
   "metadata": {},
   "outputs": [
    {
     "name": "stdout",
     "output_type": "stream",
     "text": [
      "test_score =  0.719948036746657\n"
     ]
    }
   ],
   "source": [
    "model = LinearRegression()\n",
    "model.fit(X_train, y_train)\n",
    "y_pred = model.predict(X_test)\n",
    "from sklearn.metrics import mean_absolute_error, mean_squared_error, median_absolute_error, r2_score\n",
    "print('test_score = ',model.score(X_test,y_test)) "
   ]
  },
  {
   "cell_type": "markdown",
   "id": "6e61ddc6",
   "metadata": {},
   "source": [
    "d'apres les resultat désiré par l'article 1, on voit que le résultat obtenu par k-best est meilleur que celui de RFE .\n",
    "k-best 2 valeurs erronnées alors que par la methode RFE 5 valeurs erronée ."
   ]
  },
  {
   "cell_type": "markdown",
   "id": "9612eab4",
   "metadata": {},
   "source": [
    "# elimination #"
   ]
  },
  {
   "cell_type": "markdown",
   "id": "2da93677",
   "metadata": {},
   "source": [
    "A ce niveau la , on a éliminer les colonnes supprimée par la méthode de k-best."
   ]
  },
  {
   "cell_type": "code",
   "execution_count": 38,
   "id": "2d5126e8",
   "metadata": {},
   "outputs": [],
   "source": [
    "data = data.drop(X.columns[~kbest.get_support()],axis=1)"
   ]
  },
  {
   "cell_type": "markdown",
   "id": "2e415a49",
   "metadata": {},
   "source": [
    "# SVM #"
   ]
  },
  {
   "cell_type": "markdown",
   "id": "d60539dd",
   "metadata": {},
   "source": [
    "on a diviser notre dataset en 2 partie , une dataset comportant seulement la colonne cible et une dataset comportant le reste du dataset et on va diviser notre dataset en 2 partie 20% test et 80%train."
   ]
  },
  {
   "cell_type": "code",
   "execution_count": 39,
   "id": "8e85e6d9",
   "metadata": {},
   "outputs": [],
   "source": [
    "from sklearn.model_selection import train_test_split\n",
    "X =  data.drop(['class'], axis=1)\n",
    "y = data['class']\n",
    "X_train, X_test, y_train, y_test = train_test_split(X, y, test_size=0.2, random_state=0)"
   ]
  },
  {
   "cell_type": "code",
   "execution_count": 40,
   "id": "8757142a",
   "metadata": {},
   "outputs": [
    {
     "data": {
      "text/plain": [
       "SVC()"
      ]
     },
     "execution_count": 40,
     "metadata": {},
     "output_type": "execute_result"
    }
   ],
   "source": [
    "from sklearn.svm import SVC\n",
    "svm = SVC()\n",
    "svm.fit(X_train, y_train)"
   ]
  },
  {
   "cell_type": "markdown",
   "id": "afccde3e",
   "metadata": {},
   "source": [
    "On a commencé par svm rbf et on a affiché le rapport de classification relative."
   ]
  },
  {
   "cell_type": "code",
   "execution_count": 41,
   "id": "20b885c8",
   "metadata": {},
   "outputs": [
    {
     "name": "stdout",
     "output_type": "stream",
     "text": [
      "              precision    recall  f1-score   support\n",
      "\n",
      "           0       0.85      0.98      0.91        47\n",
      "           1       0.96      0.76      0.85        33\n",
      "\n",
      "    accuracy                           0.89        80\n",
      "   macro avg       0.91      0.87      0.88        80\n",
      "weighted avg       0.90      0.89      0.88        80\n",
      "\n"
     ]
    }
   ],
   "source": [
    "svm = SVC(kernel=\"rbf\")\n",
    "svm.fit(X_train, y_train)\n",
    "from sklearn.metrics import classification_report\n",
    "y_pred_svc_1 = svm.predict(X_test)\n",
    "print(classification_report(y_pred_svc_1, y_test))"
   ]
  },
  {
   "cell_type": "code",
   "execution_count": null,
   "id": "78b18ae5",
   "metadata": {},
   "outputs": [],
   "source": [
    "en deuxieme lieu , svm lineaire et on a affiché le rapport de classification relative."
   ]
  },
  {
   "cell_type": "code",
   "execution_count": 42,
   "id": "dccf32c8",
   "metadata": {},
   "outputs": [
    {
     "name": "stdout",
     "output_type": "stream",
     "text": [
      "              precision    recall  f1-score   support\n",
      "\n",
      "           0       0.96      1.00      0.98        52\n",
      "           1       1.00      0.93      0.96        28\n",
      "\n",
      "    accuracy                           0.97        80\n",
      "   macro avg       0.98      0.96      0.97        80\n",
      "weighted avg       0.98      0.97      0.97        80\n",
      "\n"
     ]
    }
   ],
   "source": [
    "svm = SVC(kernel=\"linear\")\n",
    "svm.fit(X_train, y_train)\n",
    "from sklearn.metrics import classification_report\n",
    "y_pred_svc_2 = svm.predict(X_test)\n",
    "print(classification_report(y_pred_svc_2, y_test))"
   ]
  },
  {
   "cell_type": "code",
   "execution_count": null,
   "id": "38e8aaff",
   "metadata": {},
   "outputs": [],
   "source": [
    "en troisieme lieu , svm poly et on a affiché le rapport de classification relative."
   ]
  },
  {
   "cell_type": "code",
   "execution_count": 43,
   "id": "a65d5981",
   "metadata": {},
   "outputs": [
    {
     "name": "stdout",
     "output_type": "stream",
     "text": [
      "              precision    recall  f1-score   support\n",
      "\n",
      "           0       0.80      0.98      0.88        44\n",
      "           1       0.96      0.69      0.81        36\n",
      "\n",
      "    accuracy                           0.85        80\n",
      "   macro avg       0.88      0.84      0.84        80\n",
      "weighted avg       0.87      0.85      0.85        80\n",
      "\n"
     ]
    }
   ],
   "source": [
    "svm = SVC(kernel=\"poly\")\n",
    "svm.fit(X_train, y_train)\n",
    "from sklearn.metrics import classification_report\n",
    "y_pred_svc_3 = svm.predict(X_test)\n",
    "print(classification_report(y_pred_svc_3, y_test))"
   ]
  },
  {
   "cell_type": "code",
   "execution_count": null,
   "id": "b8b765b9",
   "metadata": {},
   "outputs": [],
   "source": [
    "finalement, svm sigmoid et on a affiché le rapport de classification relative."
   ]
  },
  {
   "cell_type": "code",
   "execution_count": 44,
   "id": "d4b21989",
   "metadata": {},
   "outputs": [
    {
     "name": "stdout",
     "output_type": "stream",
     "text": [
      "              precision    recall  f1-score   support\n",
      "\n",
      "           0       0.70      0.69      0.70        55\n",
      "           1       0.35      0.36      0.35        25\n",
      "\n",
      "    accuracy                           0.59        80\n",
      "   macro avg       0.52      0.53      0.53        80\n",
      "weighted avg       0.59      0.59      0.59        80\n",
      "\n"
     ]
    }
   ],
   "source": [
    "svm = SVC(kernel=\"sigmoid\")\n",
    "svm.fit(X_train, y_train)\n",
    "from sklearn.metrics import classification_report\n",
    "y_pred_svc_4 = svm.predict(X_test)\n",
    "print(classification_report(y_pred_svc_4, y_test))"
   ]
  },
  {
   "cell_type": "markdown",
   "id": "a508bbbc",
   "metadata": {},
   "source": [
    "afin de déterminer le meilleur svm , on a appliquer  le GridSearch.\n",
    "on a commence par la détermination des paramétres."
   ]
  },
  {
   "cell_type": "code",
   "execution_count": 45,
   "id": "9238c897",
   "metadata": {},
   "outputs": [
    {
     "data": {
      "text/plain": [
       "GridSearchCV(estimator=SVC(),\n",
       "             param_grid={'C': [0.1, 1, 10, 100, 1000],\n",
       "                         'gamma': [1, 0.1, 0.01, 0.001, 0.0001],\n",
       "                         'kernel': ['rbf', 'sigmoid', 'poly', 'linear']})"
      ]
     },
     "execution_count": 45,
     "metadata": {},
     "output_type": "execute_result"
    }
   ],
   "source": [
    "from sklearn.model_selection import GridSearchCV \n",
    "  \n",
    "# defining parameter range \n",
    "param_grid = {'C': [0.1, 1, 10, 100, 1000],  \n",
    "              'gamma': [1, 0.1, 0.01, 0.001, 0.0001], \n",
    "              'kernel': ['rbf','sigmoid','poly','linear']}  \n",
    "  \n",
    "grid = GridSearchCV(SVC(), param_grid, refit = True) \n",
    "# fitting the model for grid search \n",
    "grid.fit(X_train, y_train)"
   ]
  },
  {
   "cell_type": "markdown",
   "id": "4575fbb2",
   "metadata": {},
   "source": [
    "par l'intermédiaire des paramétres obtenu , on a déterminer le best svm (lineaire). "
   ]
  },
  {
   "cell_type": "code",
   "execution_count": 47,
   "id": "e8a7c855",
   "metadata": {},
   "outputs": [
    {
     "name": "stdout",
     "output_type": "stream",
     "text": [
      "Meilleurs paramétres trouvés par GridSeachCV\n",
      "{'C': 0.1, 'gamma': 1, 'kernel': 'linear'}\n"
     ]
    }
   ],
   "source": [
    "print(\"Meilleurs paramétres trouvés par GridSeachCV\")\n",
    "print(grid.best_params_)"
   ]
  },
  {
   "cell_type": "markdown",
   "id": "ab97e3e5",
   "metadata": {},
   "source": [
    "on a appliqué les paramétres obtenu par le GridSearch."
   ]
  },
  {
   "cell_type": "code",
   "execution_count": 48,
   "id": "87df6a6e",
   "metadata": {},
   "outputs": [
    {
     "data": {
      "text/plain": [
       "SVC(C=0.1, gamma=1, kernel='linear')"
      ]
     },
     "execution_count": 48,
     "metadata": {},
     "output_type": "execute_result"
    }
   ],
   "source": [
    "svm = SVC(C=0.1, gamma=1, kernel='linear')\n",
    "svm.fit(X_train, y_train)"
   ]
  },
  {
   "cell_type": "markdown",
   "id": "7a32496b",
   "metadata": {},
   "source": [
    "on a réaliser la prédiction et on a afficher le rapport de classification ."
   ]
  },
  {
   "cell_type": "code",
   "execution_count": 49,
   "id": "664d8709",
   "metadata": {},
   "outputs": [
    {
     "name": "stdout",
     "output_type": "stream",
     "text": [
      "              precision    recall  f1-score   support\n",
      "\n",
      "           0       1.00      0.96      0.98        54\n",
      "           1       0.93      1.00      0.96        26\n",
      "\n",
      "    accuracy                           0.97        80\n",
      "   macro avg       0.96      0.98      0.97        80\n",
      "weighted avg       0.98      0.97      0.98        80\n",
      "\n"
     ]
    }
   ],
   "source": [
    "y_pred_svm = svm.predict(X_test)\n",
    "print(classification_report(y_test, y_pred_svm))"
   ]
  },
  {
   "cell_type": "code",
   "execution_count": null,
   "id": "1bfbde79",
   "metadata": {},
   "outputs": [],
   "source": []
  },
  {
   "cell_type": "code",
   "execution_count": 50,
   "id": "13a949d1",
   "metadata": {},
   "outputs": [
    {
     "data": {
      "text/html": [
       "<div>\n",
       "<style scoped>\n",
       "    .dataframe tbody tr th:only-of-type {\n",
       "        vertical-align: middle;\n",
       "    }\n",
       "\n",
       "    .dataframe tbody tr th {\n",
       "        vertical-align: top;\n",
       "    }\n",
       "\n",
       "    .dataframe thead th {\n",
       "        text-align: right;\n",
       "    }\n",
       "</style>\n",
       "<table border=\"1\" class=\"dataframe\">\n",
       "  <thead>\n",
       "    <tr style=\"text-align: right;\">\n",
       "      <th></th>\n",
       "      <th>Model</th>\n",
       "      <th>Score</th>\n",
       "    </tr>\n",
       "  </thead>\n",
       "  <tbody>\n",
       "    <tr>\n",
       "      <th>1</th>\n",
       "      <td>Support Vector Machines Linaire</td>\n",
       "      <td>0.9750</td>\n",
       "    </tr>\n",
       "    <tr>\n",
       "      <th>0</th>\n",
       "      <td>Support Vector Machines RBF</td>\n",
       "      <td>0.8875</td>\n",
       "    </tr>\n",
       "    <tr>\n",
       "      <th>2</th>\n",
       "      <td>Support Vector Machines polynomiale</td>\n",
       "      <td>0.8500</td>\n",
       "    </tr>\n",
       "    <tr>\n",
       "      <th>3</th>\n",
       "      <td>Support Vector Machines sigmoïde</td>\n",
       "      <td>0.5875</td>\n",
       "    </tr>\n",
       "  </tbody>\n",
       "</table>\n",
       "</div>"
      ],
      "text/plain": [
       "                                 Model   Score\n",
       "1      Support Vector Machines Linaire  0.9750\n",
       "0          Support Vector Machines RBF  0.8875\n",
       "2  Support Vector Machines polynomiale  0.8500\n",
       "3     Support Vector Machines sigmoïde  0.5875"
      ]
     },
     "execution_count": 50,
     "metadata": {},
     "output_type": "execute_result"
    }
   ],
   "source": [
    "from sklearn.metrics import accuracy_score\n",
    "from sklearn.metrics import recall_score\n",
    "from sklearn.metrics import precision_score\n",
    "from sklearn.metrics import f1_score\n",
    "# On va afficher un tableau qui ordonne les modèles du plus performant au moins performant suivant le score\n",
    "s1=accuracy_score(y_test, y_pred_svc_1)\n",
    "s2=accuracy_score(y_test, y_pred_svc_2)\n",
    "s3=accuracy_score(y_test, y_pred_svc_3)\n",
    "s4=accuracy_score(y_test, y_pred_svc_4)\n",
    "models = pd.DataFrame({\n",
    "    'Model': ['Support Vector Machines RBF', 'Support Vector Machines Linaire','Support Vector Machines polynomiale',\n",
    "              'Support Vector Machines sigmoïde'],\n",
    "    'Score': [s1,s2, s3, \n",
    "              s4]})\n",
    "models.sort_values(by=\"Score\",ascending=False)"
   ]
  },
  {
   "cell_type": "markdown",
   "id": "7187b28e",
   "metadata": {},
   "source": [
    "# KNN #"
   ]
  },
  {
   "cell_type": "code",
   "execution_count": 51,
   "id": "8121c086",
   "metadata": {},
   "outputs": [],
   "source": [
    "X =  data.drop(['class'], axis=1)\n",
    "y = data['class']\n",
    "#Diviser les données (80% Apprentissage et 20% Test)\n",
    "from sklearn.model_selection import train_test_split\n",
    "X_train, X_test, y_train, y_test = train_test_split(X, y, test_size = 0.2, random_state = 0)"
   ]
  },
  {
   "cell_type": "code",
   "execution_count": 52,
   "id": "d77cd002",
   "metadata": {},
   "outputs": [],
   "source": [
    "from sklearn.preprocessing import StandardScaler\n",
    "scaler = StandardScaler()\n",
    "scaler.fit(X_train)\n",
    "\n",
    "X_train = scaler.transform(X_train)\n",
    "X_test = scaler.transform(X_test)"
   ]
  },
  {
   "cell_type": "code",
   "execution_count": 53,
   "id": "0638e39e",
   "metadata": {},
   "outputs": [
    {
     "name": "stdout",
     "output_type": "stream",
     "text": [
      "Best leaf_size: 1\n",
      "Best p: 2\n",
      "Best n_neighbors: 4\n"
     ]
    }
   ],
   "source": [
    "from sklearn.neighbors import KNeighborsClassifier\n",
    "from sklearn.model_selection import GridSearchCV\n",
    "leaf_size = list(range(1,20))# Par défaut c'est 30\n",
    "n_neighbors = list(range(1,25))\n",
    "p=[1,2] #p = 1 manhattan_distance/p=2 euclidean_distance\n",
    "#Convert to dictionary\n",
    "hyperparameters = dict(leaf_size=leaf_size, n_neighbors=n_neighbors, p=p)\n",
    "#Create new KNN object\n",
    "knn_2 = KNeighborsClassifier()\n",
    "#Use GridSearch\n",
    "clf = GridSearchCV(knn_2, hyperparameters, cv=10, n_jobs=-1)\n",
    "#n_jobs: number of CPU'sfor execution.\n",
    "#cv: number of folds of the cross validation\n",
    "\n",
    "#Fit the model\n",
    "best_model = clf.fit(X_train, y_train)\n",
    "#Print The value of best Hyperparameters\n",
    "print('Best leaf_size:', best_model.best_estimator_.get_params()['leaf_size'])\n",
    "print('Best p:', best_model.best_estimator_.get_params()['p'])\n",
    "print('Best n_neighbors:', best_model.best_estimator_.get_params()['n_neighbors'])"
   ]
  },
  {
   "cell_type": "code",
   "execution_count": 54,
   "id": "cc141774",
   "metadata": {},
   "outputs": [
    {
     "name": "stdout",
     "output_type": "stream",
     "text": [
      "{'leaf_size': 1, 'n_neighbors': 4, 'p': 2}\n"
     ]
    }
   ],
   "source": [
    "best_parameters = clf.best_params_\n",
    "print(best_parameters)"
   ]
  },
  {
   "cell_type": "code",
   "execution_count": 55,
   "id": "63cde956",
   "metadata": {},
   "outputs": [
    {
     "name": "stdout",
     "output_type": "stream",
     "text": [
      "0.9967741935483871\n"
     ]
    }
   ],
   "source": [
    "#Taux de bonne classification\n",
    "best_result = clf.best_score_\n",
    "print(best_result)"
   ]
  },
  {
   "cell_type": "code",
   "execution_count": 56,
   "id": "58175eed",
   "metadata": {},
   "outputs": [],
   "source": [
    "knn = KNeighborsClassifier(4,p=2,leaf_size=1 )\n",
    "knn_model = knn.fit(X_train, y_train)\n",
    "y_pred_knn = knn_model.predict(X_test)"
   ]
  },
  {
   "cell_type": "code",
   "execution_count": 57,
   "id": "c627d692",
   "metadata": {},
   "outputs": [
    {
     "name": "stdout",
     "output_type": "stream",
     "text": [
      "              precision    recall  f1-score   support\n",
      "\n",
      "           0       1.00      1.00      1.00        54\n",
      "           1       1.00      1.00      1.00        26\n",
      "\n",
      "    accuracy                           1.00        80\n",
      "   macro avg       1.00      1.00      1.00        80\n",
      "weighted avg       1.00      1.00      1.00        80\n",
      "\n"
     ]
    }
   ],
   "source": [
    "from sklearn.metrics import classification_report\n",
    "print(classification_report(y_test, y_pred_knn))"
   ]
  },
  {
   "cell_type": "markdown",
   "id": "d65424af",
   "metadata": {},
   "source": [
    "# naive bayes #"
   ]
  },
  {
   "cell_type": "code",
   "execution_count": 58,
   "id": "588f162d",
   "metadata": {},
   "outputs": [
    {
     "name": "stdout",
     "output_type": "stream",
     "text": [
      "              precision    recall  f1-score   support\n",
      "\n",
      "           0       1.00      0.96      0.98        54\n",
      "           1       0.93      1.00      0.96        26\n",
      "\n",
      "    accuracy                           0.97        80\n",
      "   macro avg       0.96      0.98      0.97        80\n",
      "weighted avg       0.98      0.97      0.98        80\n",
      "\n"
     ]
    }
   ],
   "source": [
    "from sklearn.model_selection import train_test_split\n",
    "X_train, X_test, y_train, y_test = train_test_split(X, y, test_size = 0.20, random_state = 0)\n",
    "\n",
    "# Feature Scaling\n",
    "from sklearn.preprocessing import StandardScaler\n",
    "sc = StandardScaler()\n",
    "X_train = sc.fit_transform(X_train)\n",
    "X_test = sc.transform(X_test)\n",
    "\n",
    "# Training the Naive Bayes model on the Training set\n",
    "from sklearn.naive_bayes import GaussianNB\n",
    "classifier = GaussianNB()\n",
    "classifier.fit(X_train, y_train)\n",
    "\n",
    "# Predicting the Test set results\n",
    "pred_naive_bayes = classifier.predict(X_test)\n",
    "print(classification_report(y_test, pred_naive_bayes))"
   ]
  },
  {
   "cell_type": "code",
   "execution_count": 59,
   "id": "02da0657",
   "metadata": {},
   "outputs": [
    {
     "data": {
      "text/html": [
       "<div>\n",
       "<style scoped>\n",
       "    .dataframe tbody tr th:only-of-type {\n",
       "        vertical-align: middle;\n",
       "    }\n",
       "\n",
       "    .dataframe tbody tr th {\n",
       "        vertical-align: top;\n",
       "    }\n",
       "\n",
       "    .dataframe thead th {\n",
       "        text-align: right;\n",
       "    }\n",
       "</style>\n",
       "<table border=\"1\" class=\"dataframe\">\n",
       "  <thead>\n",
       "    <tr style=\"text-align: right;\">\n",
       "      <th></th>\n",
       "      <th>Model</th>\n",
       "      <th>Score</th>\n",
       "    </tr>\n",
       "  </thead>\n",
       "  <tbody>\n",
       "    <tr>\n",
       "      <th>4</th>\n",
       "      <td>KNN</td>\n",
       "      <td>1.0000</td>\n",
       "    </tr>\n",
       "    <tr>\n",
       "      <th>1</th>\n",
       "      <td>Support Vector Machines Linaire</td>\n",
       "      <td>0.9750</td>\n",
       "    </tr>\n",
       "    <tr>\n",
       "      <th>5</th>\n",
       "      <td>Naive Bayes</td>\n",
       "      <td>0.9750</td>\n",
       "    </tr>\n",
       "    <tr>\n",
       "      <th>0</th>\n",
       "      <td>Support Vector Machines RBF</td>\n",
       "      <td>0.8875</td>\n",
       "    </tr>\n",
       "    <tr>\n",
       "      <th>2</th>\n",
       "      <td>Support Vector Machines polynomiale</td>\n",
       "      <td>0.8500</td>\n",
       "    </tr>\n",
       "    <tr>\n",
       "      <th>3</th>\n",
       "      <td>Support Vector Machines sigmoïde</td>\n",
       "      <td>0.5875</td>\n",
       "    </tr>\n",
       "  </tbody>\n",
       "</table>\n",
       "</div>"
      ],
      "text/plain": [
       "                                 Model   Score\n",
       "4                                  KNN  1.0000\n",
       "1      Support Vector Machines Linaire  0.9750\n",
       "5                          Naive Bayes  0.9750\n",
       "0          Support Vector Machines RBF  0.8875\n",
       "2  Support Vector Machines polynomiale  0.8500\n",
       "3     Support Vector Machines sigmoïde  0.5875"
      ]
     },
     "execution_count": 59,
     "metadata": {},
     "output_type": "execute_result"
    }
   ],
   "source": [
    "from sklearn.metrics import accuracy_score\n",
    "from sklearn.metrics import recall_score\n",
    "from sklearn.metrics import precision_score\n",
    "from sklearn.metrics import f1_score\n",
    "# On va afficher un tableau qui ordonne les modèles du plus performant au moins performant suivant le score\n",
    "s1=accuracy_score(y_test, y_pred_svc_1)\n",
    "s2=accuracy_score(y_test, y_pred_svc_2)\n",
    "s3=accuracy_score(y_test, y_pred_svc_3)\n",
    "s4=accuracy_score(y_test, y_pred_svc_4)\n",
    "s5=accuracy_score(y_test, y_pred_knn) \n",
    "s6=accuracy_score(y_test, pred_naive_bayes)\n",
    "models = pd.DataFrame({\n",
    "    'Model': ['Support Vector Machines RBF', 'Support Vector Machines Linaire','Support Vector Machines polynomiale',\n",
    "              'Support Vector Machines sigmoïde','KNN','Naive Bayes'],\n",
    "    'Score': [s1,s2, s3, \n",
    "              s4,s5,s6]})\n",
    "models.sort_values(by=\"Score\",ascending=False)"
   ]
  },
  {
   "cell_type": "code",
   "execution_count": 60,
   "id": "0fe7b7c7",
   "metadata": {},
   "outputs": [
    {
     "data": {
      "image/png": "[encoded data removed]",
      "text/plain": [
       "<Figure size 504x504 with 1 Axes>"
      ]
     },
     "metadata": {
      "needs_background": "light"
     },
     "output_type": "display_data"
    }
   ],
   "source": [
    "from sklearn.metrics import roc_curve, auc\n",
    "fpr1, tpr1, threshold1 = roc_curve(y_test, y_pred_svc_1) \n",
    "roc_auc1 = auc(fpr1, tpr1)\n",
    "fpr2, tpr2, threshold2 = roc_curve(y_test, y_pred_svc_2) \n",
    "roc_auc2 = auc(fpr2, tpr2)\n",
    "fpr3, tpr3, threshold3 = roc_curve(y_test, y_pred_svc_3)\n",
    "roc_auc3 = auc(fpr3, tpr3)\n",
    "fpr4, tpr4, threshold4 = roc_curve(y_test, y_pred_svc_4) \n",
    "roc_auc4 = auc(fpr4, tpr4)\n",
    "fpr5, tpr5, threshold5 = roc_curve(y_test, y_pred_knn) \n",
    "roc_auc5 = auc(fpr5, tpr5)\n",
    "fpr6, tpr6, threshold6 = roc_curve(y_test, pred_naive_bayes) \n",
    "roc_auc6 = auc(fpr6, tpr6)\n",
    "\n",
    "plt.figure(figsize=(7,7)) \n",
    "plt.plot(fpr1, tpr1, color='yellow', lw=2, label='Support Vector Machines RBF (area = %0.2f)'% roc_auc1)\n",
    "plt.plot(fpr2, tpr2, color='red', lw=2, label='Support Vector Machines Linaire (area = %0.2f)'% roc_auc2)\n",
    "plt.plot(fpr3, tpr3, color='cyan', lw=2, label='Support Vector Machines polynomiale(area = %0.2f)'% roc_auc3)\n",
    "plt.plot(fpr4, tpr4, color='magenta', lw=2, label='Support Vector Machines sigmoïde (area = %0.2f)'% roc_auc4)\n",
    "plt.plot(fpr5, tpr5, color='black', lw=2, label='KNN(area = %0.2f)'% roc_auc5)\n",
    "plt.plot(fpr6, tpr6, color='green', lw=2, label='naive bayes (area = %0.2f)'% roc_auc6)\n",
    "\n",
    "\n",
    "plt.plot([0, 1], [0, 1], color='red', lw=2, linestyle='--') \n",
    "plt.xlim([0.0, 1.0]) \n",
    "plt.ylim([0.0, 1.05]) \n",
    "plt.xlabel('False Positive Rate') \n",
    "plt.ylabel('True Positive Rate') \n",
    "plt.title('Classifiers ROC curves') \n",
    "plt.legend(loc = \"lower right\")\n",
    "plt.show()"
   ]
  },
  {
   "cell_type": "markdown",
   "id": "a2944f83",
   "metadata": {},
   "source": [
    "# SVM + selectKbest + ADABOOST #"
   ]
  },
  {
   "cell_type": "code",
   "execution_count": 61,
   "id": "2c8e6aa0",
   "metadata": {},
   "outputs": [
    {
     "name": "stdout",
     "output_type": "stream",
     "text": [
      "              precision    recall  f1-score   support\n",
      "\n",
      "           0       1.00      1.00      1.00        54\n",
      "           1       1.00      1.00      1.00        26\n",
      "\n",
      "    accuracy                           1.00        80\n",
      "   macro avg       1.00      1.00      1.00        80\n",
      "weighted avg       1.00      1.00      1.00        80\n",
      "\n"
     ]
    }
   ],
   "source": [
    "from sklearn.ensemble import AdaBoostClassifier\n",
    "svc=SVC(probability=True)\n",
    "# Create adaboost classifer object\n",
    "abc = AdaBoostClassifier(n_estimators=50,base_estimator=svc ,learning_rate=1, random_state=0)\n",
    "# Train Adaboost Classifer\n",
    "model1 = abc.fit(X_train, y_train)\n",
    "#Predict the response for test dataset\n",
    "y_pred_svc = model1.predict(X_test)\n",
    "print(classification_report(y_pred_svc, y_test))"
   ]
  },
  {
   "cell_type": "markdown",
   "id": "f365bcc8",
   "metadata": {},
   "source": [
    "# naive bayes + selectKbest + ADABOOST  #"
   ]
  },
  {
   "cell_type": "code",
   "execution_count": 68,
   "id": "8747ac1f",
   "metadata": {},
   "outputs": [
    {
     "name": "stdout",
     "output_type": "stream",
     "text": [
      "              precision    recall  f1-score   support\n",
      "\n",
      "           0       1.00      0.98      0.99        54\n",
      "           1       0.96      1.00      0.98        26\n",
      "\n",
      "    accuracy                           0.99        80\n",
      "   macro avg       0.98      0.99      0.99        80\n",
      "weighted avg       0.99      0.99      0.99        80\n",
      "\n"
     ]
    }
   ],
   "source": [
    "NB_clf=GaussianNB()\n",
    "\n",
    "abc =AdaBoostClassifier(n_estimators=50, base_estimator=NB_clf,learning_rate=1)\n",
    "\n",
    "model = abc.fit(X_train, y_train)\n",
    "\n",
    "y_pred_NB_ada = model.predict(X_test)\n",
    "\n",
    "print(classification_report(y_test, y_pred_NB_ada))"
   ]
  },
  {
   "cell_type": "markdown",
   "id": "9ef13ed0",
   "metadata": {},
   "source": [
    "# DecisionTree #"
   ]
  },
  {
   "cell_type": "code",
   "execution_count": 64,
   "id": "df33b59e",
   "metadata": {},
   "outputs": [
    {
     "data": {
      "text/plain": [
       "{'ccp_alpha': 0.001,\n",
       " 'criterion': 'entropy',\n",
       " 'max_depth': 9,\n",
       " 'max_features': 'log2'}"
      ]
     },
     "execution_count": 64,
     "metadata": {},
     "output_type": "execute_result"
    }
   ],
   "source": [
    "from sklearn.tree import DecisionTreeClassifier\n",
    "hyperparameters = {\n",
    "    'max_features': ['sqrt', 'log2'],\n",
    "    'ccp_alpha': [0.1, 0.01, 0.001],\n",
    "    'max_depth' : [5, 6, 7, 8, 9],\n",
    "    'criterion' :['gini', 'entropy']}\n",
    "\n",
    "decision_tree = DecisionTreeClassifier()\n",
    "\n",
    "decision_tree_cv = GridSearchCV(estimator=decision_tree, param_grid=hyperparameters, cv=10, n_jobs=-1)\n",
    "\n",
    "decision_tree_cv.fit(X_train, y_train)\n",
    "\n",
    "decision_tree_cv.best_params_"
   ]
  },
  {
   "cell_type": "code",
   "execution_count": 66,
   "id": "45e14fa8",
   "metadata": {},
   "outputs": [
    {
     "name": "stdout",
     "output_type": "stream",
     "text": [
      "              precision    recall  f1-score   support\n",
      "\n",
      "           0       1.00      1.00      1.00        54\n",
      "           1       1.00      1.00      1.00        26\n",
      "\n",
      "    accuracy                           1.00        80\n",
      "   macro avg       1.00      1.00      1.00        80\n",
      "weighted avg       1.00      1.00      1.00        80\n",
      "\n"
     ]
    }
   ],
   "source": [
    "decision_tree = DecisionTreeClassifier(ccp_alpha=0.001, max_depth=9, max_features='log2', criterion=\"entropy\")\n",
    "decision_tree.fit(X_train, y_train)\n",
    "y_pred_dt = decision_tree.predict(X_test)\n",
    "print(classification_report(y_pred_dt, y_test))"
   ]
  },
  {
   "cell_type": "code",
   "execution_count": null,
   "id": "d155679e",
   "metadata": {},
   "outputs": [],
   "source": []
  }
 ],
 "metadata": {
  "colab": {
   "provenance": []
  },
  "kernelspec": {
   "display_name": "Python 3 (ipykernel)",
   "language": "python",
   "name": "python3"
  },
  "language_info": {
   "codemirror_mode": {
    "name": "ipython",
    "version": 3
   },
   "file_extension": ".py",
   "mimetype": "text/x-python",
   "name": "python",
   "nbconvert_exporter": "python",
   "pygments_lexer": "ipython3",
   "version": "3.9.12"
  }
 },
 "nbformat": 4,
 "nbformat_minor": 5
}
